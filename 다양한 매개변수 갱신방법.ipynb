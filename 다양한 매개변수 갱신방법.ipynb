{
 "cells": [
  {
   "cell_type": "markdown",
   "id": "736388b0",
   "metadata": {},
   "source": [
    "# 매개변수 갱신\n",
    "- 확률적 경사하강법(Stochastic Gradient Descent)의 단점과 새로운 매개변수 최적화 기법"
   ]
  },
  {
   "cell_type": "markdown",
   "id": "22dd2f39",
   "metadata": {},
   "source": [
    "### SGD 구현하기\n",
    "- 하나의 계층으로 구현하기 위해 Python Class로 구현하기\n",
    "- 가중치 매개변수를 갱신하는 식 : w = w - dL/dW*lr\n",
    "- 가중치를 갱신하는 클래스를 분리해 구현하면 기능을 모듈화하기 좋다\n",
    "- 가중치를 갱신하는 방법을 SGD -> Momentum으로 변경한다면 갱신 클래스만 변경하기 된다"
   ]
  },
  {
   "cell_type": "code",
   "execution_count": 111,
   "id": "800483c5",
   "metadata": {},
   "outputs": [],
   "source": [
    "class SGD:\n",
    "    def __init__(self,lr=0.01):\n",
    "        self.lr = lr # 초기화 때 입력받는 인수 '학습률'\n",
    "        \n",
    "    def update(self,params,grads): # 가중치 매개변수를 갱신하는 식\n",
    "        for key in params.keys():\n",
    "            params[key] -= grads[key] * self.lr"
   ]
  },
  {
   "cell_type": "markdown",
   "id": "78a04519",
   "metadata": {},
   "source": [
    "SGD의 단점을 확인하기 위해 비등방성 함수에서 최적화 과정을 시각화하자\n",
    "- 지그재그로 최적화가 갱신되는 경로를 확인하고 하였으나 어떠한 이유에선지 지그재그로 갱신되는 모습이 보이지 않음\n",
    "- 하지만 시각화 과정을 통해 최적화 갱신 경로가 상당히 비효율적인 것은 확인할 수 있음"
   ]
  },
  {
   "cell_type": "code",
   "execution_count": 112,
   "id": "108dd335",
   "metadata": {},
   "outputs": [],
   "source": [
    "def function_2(x):\n",
    "    return x[0]**2 / 20.0 + x[1]**2\n",
    "\n",
    "def numerical_gradient(f,x):\n",
    "    h = 1e-4\n",
    "    grad = np.zeros_like(x)\n",
    "    \n",
    "    it = np.nditer(x, flags=[\"multi_index\"],op_flags=[\"readwrite\"])\n",
    "    \n",
    "    while not it.finished:\n",
    "        idx = it.multi_index\n",
    "        obj_val = x[idx]\n",
    "        x[idx] = float(obj_val) + h\n",
    "        fxh1 = f(x) # f(x+h)\n",
    "        \n",
    "        x[idx] = float(obj_val) - h\n",
    "        fxh2 = f(x) # f(x-h)\n",
    "        \n",
    "        x[idx] = float(obj_val) # 값 초기화\n",
    "        grad[idx] = (fxh1 - fxh2) / (2*h)\n",
    "        it.iternext() # False 반복문 종료\n",
    "    return grad"
   ]
  },
  {
   "cell_type": "code",
   "execution_count": 137,
   "id": "9eec1ec2",
   "metadata": {},
   "outputs": [
    {
     "data": {
      "text/plain": [
       "[<matplotlib.lines.Line2D at 0x2728e40eac0>]"
      ]
     },
     "execution_count": 137,
     "metadata": {},
     "output_type": "execute_result"
    },
    {
     "data": {
      "image/png": "[encoded data removed]",
      "text/plain": [
       "<Figure size 432x288 with 1 Axes>"
      ]
     },
     "metadata": {
      "needs_background": "light"
     },
     "output_type": "display_data"
    }
   ],
   "source": [
    "import numpy as np\n",
    "import matplotlib.pylab as plt\n",
    "plt.xlabel(\"X축\") ; plt.ylabel(\"Y축\")\n",
    "plt.xlim(-10,10) ; plt.ylim(-10,10)\n",
    "x = np.array([-7.0,2.0])\n",
    "lr = 0.95\n",
    "\n",
    "x1_history = [] ; x2_history = []\n",
    "\n",
    "for i in range(30):\n",
    "    x -= numerical_gradient(function_2,x) * lr\n",
    "    x1_history.append(x[0]) ; x2_history.append(x[1])\n",
    "plt.plot(x1_history,x2_history,'o-',color=\"red\")"
   ]
  },
  {
   "cell_type": "markdown",
   "id": "22a3ef14",
   "metadata": {},
   "source": [
    "### 모멘텀을 통한 SGD의 단점 해결\n",
    "- 새로운 v 변수의 등장, 속도에 해당함\n",
    "- momentum * v 항은 물체가 아무런 힘을 받지 않을 때 서서히 하강시키는 역할\n",
    "- SGD의 단점인 지그재그 움직임을 줄여준다"
   ]
  },
  {
   "cell_type": "code",
   "execution_count": 150,
   "id": "a2ba8318",
   "metadata": {},
   "outputs": [],
   "source": [
    "class Momentum:\n",
    "    def __init__(self,lr = 0.01, momentum = 0.9):\n",
    "        self.lr = lr\n",
    "        self.momentum = momentum\n",
    "        self.v = None\n",
    "        \n",
    "    def update(self,params,grads):\n",
    "        if self.v is None: # v가 None이라면 v 생성하기, 매개변수와 같은 구조의 데이터를 저장\n",
    "            self.v = {} \n",
    "            for key,val in params.items():\n",
    "                self.v[key] = np.zeros_like(val)\n",
    "                \n",
    "        for key in params.keys():\n",
    "            self.v[key] = self.momentum * self.v[key] - self.lr*grads[key]\n",
    "            params[key] += self.v[key]        "
   ]
  },
  {
   "cell_type": "markdown",
   "id": "bf47cd3d",
   "metadata": {},
   "source": [
    "- 학습률을 0.01로 설정하고, 매개변수 갱신을 200회 한 결과\n",
    "- SGD는 아직 최솟값인 (0,0)에 도달하지 못했지만, 모멘텀은 이미 도달하였다\n",
    "- 모멘텀 방법의 효율성 확인 가능"
   ]
  },
  {
   "cell_type": "code",
   "execution_count": 128,
   "id": "6c9f9ba5",
   "metadata": {},
   "outputs": [
    {
     "data": {
      "text/plain": [
       "[<matplotlib.lines.Line2D at 0x2728e1a4bb0>]"
      ]
     },
     "execution_count": 128,
     "metadata": {},
     "output_type": "execute_result"
    },
    {
     "data": {
      "image/png": "[encoded data removed]",
      "text/plain": [
       "<Figure size 432x288 with 1 Axes>"
      ]
     },
     "metadata": {
      "needs_background": "light"
     },
     "output_type": "display_data"
    }
   ],
   "source": [
    "import numpy as np\n",
    "import matplotlib.pylab as plt\n",
    "plt.xlabel(\"X축\") ; plt.ylabel(\"Y축\")\n",
    "plt.xlim(-10,10) ; plt.ylim(-5,5)\n",
    "x = np.array([-7.0,-2.0])\n",
    "lr = 0.1\n",
    "momentum = 0.9\n",
    "v = 0\n",
    "x1_history = [] ; x2_history = []\n",
    "for i in range(30):\n",
    "    v = momentum * v - numerical_gradient(function_2,x) * lr\n",
    "    x += v\n",
    "    x1_history.append(x[0]) ; x2_history.append(x[1])\n",
    "plt.plot(x1_history,x2_history,'o-',color=\"red\")"
   ]
  },
  {
   "cell_type": "markdown",
   "id": "338b1162",
   "metadata": {},
   "source": [
    "### AdaGrad\n",
    "- 학습률(learning rate)이 너무 작으면 학습 시간이 길어지고, 너무 크면 발산해 학습이 제대로 X\n",
    "- 학습률 감소(learning rate decay) : 위 문제를 해결하는 학습을 진행하면서 점차 학습률을 줄여감\n",
    "- 일괄적으로 전체 학습률을 낮추는 대신 각각 매개변수에 맞게 조정하는 방법, AdaGrad\n",
    "- 처음에는 큰 폭으로 움직이지며 크게 갱신되지만 점차 갱신 강도가 빠르게 약해지고 지그재그 움직임 감소"
   ]
  },
  {
   "cell_type": "code",
   "execution_count": 129,
   "id": "060a6f14",
   "metadata": {},
   "outputs": [],
   "source": [
    "class AdaGrad:\n",
    "    def __init__(self,lr=0.01):\n",
    "        self.lr = lr\n",
    "        self.h = None\n",
    "    def update(self,params,grads):\n",
    "        if self.h is None:\n",
    "            self.h = {}\n",
    "            for key, val in params.items():\n",
    "                self.h[key] = np.zeros_like(val)\n",
    "                \n",
    "        for key in params.keys():\n",
    "            self.h[key] += grads[key] * grads[key]\n",
    "            params[key] -= self.lr * grads[key] / (np.sqrt(self.h[key]) + 1e-7) # 0으로 나눠는 division zero 해결"
   ]
  },
  {
   "cell_type": "markdown",
   "id": "e7011388",
   "metadata": {},
   "source": [
    "- 학습률을 0.01로 설정하고, 매개변수 갱신을 5000회 한 결과\n",
    "- AdaGrad는 최솟값에 도달하지 못했음\n",
    "- AdaGrad의 갱신 과정을 성공적으로 시각화하지 못한 것 같음"
   ]
  },
  {
   "cell_type": "code",
   "execution_count": 130,
   "id": "4e87739a",
   "metadata": {},
   "outputs": [
    {
     "data": {
      "text/plain": [
       "[<matplotlib.lines.Line2D at 0x2728e1fad30>]"
      ]
     },
     "execution_count": 130,
     "metadata": {},
     "output_type": "execute_result"
    },
    {
     "data": {
      "image/png": "[encoded data removed]",
      "text/plain": [
       "<Figure size 432x288 with 1 Axes>"
      ]
     },
     "metadata": {
      "needs_background": "light"
     },
     "output_type": "display_data"
    }
   ],
   "source": [
    "import numpy as np\n",
    "import matplotlib.pylab as plt\n",
    "plt.xlabel(\"X축\") ; plt.ylabel(\"Y축\")\n",
    "plt.xlim(-10,10) ; plt.ylim(-5,5)\n",
    "x = np.array([-7.0,2.0])\n",
    "x1_history = [] ; x2_history = []\n",
    "lr = 1.5\n",
    "h = 0\n",
    "for i in range(30):\n",
    "    h += numerical_gradient(function_2,x) ** 2\n",
    "    x -= lr * numerical_gradient(function_2,x) / (np.sqrt(h) + 1e-7)\n",
    "    x1_history.append(x[0]) ; x2_history.append(x[1])\n",
    "plt.plot(x1_history,x2_history,'o-',color=\"red\")"
   ]
  },
  {
   "cell_type": "markdown",
   "id": "df2b6d2d",
   "metadata": {},
   "source": [
    "### Optimizer 클래스로 매개변수 갱신\n",
    "- Optimizer 클래스로 갱신과정을 모듈화한 것을 시각화해보자"
   ]
  },
  {
   "cell_type": "code",
   "execution_count": 152,
   "id": "ec9284f0",
   "metadata": {},
   "outputs": [
    {
     "data": {
      "text/plain": [
       "[<matplotlib.lines.Line2D at 0x2728ab8ca90>]"
      ]
     },
     "execution_count": 152,
     "metadata": {},
     "output_type": "execute_result"
    },
    {
     "data": {
      "image/png": "[encoded data removed]",
      "text/plain": [
       "<Figure size 432x288 with 1 Axes>"
      ]
     },
     "metadata": {
      "needs_background": "light"
     },
     "output_type": "display_data"
    }
   ],
   "source": [
    "import numpy as np\n",
    "import matplotlib.pyplot as plt\n",
    "from collections import OrderedDict\n",
    "\n",
    "def f(x):\n",
    "    return x[0]**2 / 20.0 + x[1]**2\n",
    "\n",
    "x = np.array([-7.0,2.0])\n",
    "params = {} # 매개변수 딕셔너리\n",
    "grads = {} # 매개변수 기울기 딕셔너리\n",
    "\n",
    "x1_history = [] # x1 변수 갱신과정 기록\n",
    "x2_history = [] # x2 변수 갱신과정 기록\n",
    "\n",
    "params[\"x1\"] = x[0] ; params[\"x2\"] = x[1]\n",
    "\n",
    "#grads['x1'] = 0 ; grads['x2'] = 0\n",
    "\n",
    "#optimizer = SGD(lr=0.95)\n",
    "optimizer = Momentum(lr=0.1)\n",
    "#optimizer = AdaGrad(lr=1.5)\n",
    "\n",
    "for i in range(500): # 매개변수 100회 갱신\n",
    "    \n",
    "    grads['x1'] = numerical_gradient(f,np.array([params[\"x1\"],params[\"x2\"]]))[0]\n",
    "    grads['x2'] = numerical_gradient(f,np.array([params[\"x1\"],params[\"x2\"]]))[1]\n",
    "    \n",
    "    optimizer.update(params,grads)\n",
    "    \n",
    "    x1_history.append(params[\"x1\"])\n",
    "    x2_history.append(params[\"x2\"])\n",
    "\n",
    "X = np.arange(-10.0,10.0,0.01)\n",
    "Y = np.arange(-5.0,5.0,0.01)\n",
    "X_grid, Y_grid = np.meshgrid(X, Y) # 2차원 그리드 좌표\n",
    "\n",
    "Z = f(np.array([X_grid,Y_grid]))\n",
    "maks = Z > 7\n",
    "Z[mask] = 0 # 7 넘는 값은 제외\n",
    "plt.contour(X_grid,Y_grid,Z)\n",
    "\n",
    "plt.xlim(-10,10) ; plt.ylim(-10,10)\n",
    "plt.plot(x1_history,x2_history,\"o-\",color=\"red\")"
   ]
  },
  {
   "cell_type": "code",
   "execution_count": null,
   "id": "dfb27ba4",
   "metadata": {},
   "outputs": [],
   "source": []
  }
 ],
 "metadata": {
  "kernelspec": {
   "display_name": "Python 3",
   "language": "python",
   "name": "python3"
  },
  "language_info": {
   "codemirror_mode": {
    "name": "ipython",
    "version": 3
   },
   "file_extension": ".py",
   "mimetype": "text/x-python",
   "name": "python",
   "nbconvert_exporter": "python",
   "pygments_lexer": "ipython3",
   "version": "3.8.8"
  }
 },
 "nbformat": 4,
 "nbformat_minor": 5
}
