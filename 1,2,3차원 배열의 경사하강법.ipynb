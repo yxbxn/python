{
 "cells": [
  {
   "cell_type": "markdown",
   "id": "f754e661",
   "metadata": {},
   "source": [
    "# 1,2,3차원 배열의 경사하강법\n",
    "- 전방차분 대신 오차를 줄이기 위해 중앙차분 방식을 주로 사용\n",
    "- 가중치 매개변수에 대한 손실함수의 변화량을 구해야하고, 변화량을 구하기 위해 미분\n",
    "- 1,2,3차원 배열을 모두 포용할 수 있는 경사하강법 코드 구현"
   ]
  },
  {
   "cell_type": "code",
   "execution_count": 104,
   "id": "0ee5b287",
   "metadata": {},
   "outputs": [],
   "source": [
    "import numpy as np\n",
    "def numerical_gradient_1d(f, x): # f는 미분할 함수, x는 입력값 1차원 배열\n",
    "    h = 1e-4 # 0.0001\n",
    "    grad = np.zeros_like(x)\n",
    "    \n",
    "    for i in range(x.size): # 배열 내의 변수 하나에 초점을 맞추고, 다른 변수 고정\n",
    "        obj_val = x[i]\n",
    "        x[i] = obj_val + h\n",
    "        fxh1 = f(x) # f(x+h)\n",
    "        \n",
    "        x[i] = obj_val - h \n",
    "        fxh2 = f(x) # f(x-h)\n",
    "        grad[i] = (fxh1 - fxh2) / (h*2) # 중앙 차분 방식으로 수치미분 구현\n",
    "        \n",
    "        x[i] = obj_val # 값 복원\n",
    "        \n",
    "    return grad # 수치 미분된 배열 결과"
   ]
  },
  {
   "cell_type": "code",
   "execution_count": 105,
   "id": "07ca374e",
   "metadata": {},
   "outputs": [
    {
     "data": {
      "text/plain": [
       "array([6., 8.])"
      ]
     },
     "execution_count": 105,
     "metadata": {},
     "output_type": "execute_result"
    }
   ],
   "source": [
    "def function2(x):\n",
    "    return x[0]**2+x[1]**2\n",
    "\n",
    "numerical_gradient_1d(function2,np.array([3.0,4.0]))"
   ]
  },
  {
   "cell_type": "code",
   "execution_count": null,
   "id": "2a0d2bb1",
   "metadata": {},
   "outputs": [],
   "source": [
    "def numerical_gradient_2d(f, x): # f는 미분할 함수, x는 입력값 1차원 or 2차원 배열\n",
    "    h = 1e-4 # 0.0001\n",
    "    grad = np.zeros_like(x) \n",
    "    \n",
    "    if x.ndim == 1: # x가 1차원 배열인 경우\n",
    "        return numerical_gradient_1d(f, x)\n",
    "    else: # x가 2차원 배열인 경우\n",
    "        for idx, x in enumerate(x): # enumerate를 이용하면 2차원 배열의 행이 하나씩 입력됨\n",
    "            grad[idx] = numerical_gradient_1d(f, x)\n",
    "    return grad\n",
    "    \n",
    "    \n",
    "    for i in range(x.size): # 배열 내의 변수 하나에 초점을 맞추고, 다른 변수 고정\n",
    "        obj_val = x[i]\n",
    "        x[i] = obj_val + h\n",
    "        fxh1 = f(x) # f(x+h)\n",
    "        \n",
    "        x[i] = obj_val - h \n",
    "        fxh2 = f(x) # f(x-h)\n",
    "        grad[i] = (fxh1 - fxh2) / (h*2) # 중앙 차분 방식으로 수치미분 구현\n",
    "        \n",
    "        x[i] = obj_val # 값 복원\n",
    "        \n",
    "    return grad # 수치 미분된 배열 결과"
   ]
  },
  {
   "cell_type": "markdown",
   "id": "8468f27d",
   "metadata": {},
   "source": [
    "### 넘파이의 iterator를 이해하기\n",
    "- 배열 내의 모든 원소를 탐색해 index를 찾으면서 수치 미분 구하기\n",
    "- it.multi_index로 현재 탐색중인 원소의 index 반환\n",
    "- it.iternext()로 다음 원소로 넘어가기"
   ]
  },
  {
   "cell_type": "code",
   "execution_count": null,
   "id": "895e9eae",
   "metadata": {},
   "outputs": [],
   "source": [
    "A = np.array([[[10, 20, 30, 40],\n",
    "\t\t[50, 60, 70, 80]],\n",
    "              [[1, 2, 3, 4],\n",
    "              [5, 6, 7, 8]]])\n",
    "              \n",
    " pritn(A.shape)\n",
    " >>> (2,2,4)\n",
    " \n",
    " it = np.nditer(A, flags=['multi_index'], op_flags=['readwrite'])\n",
    " \n",
    "while not it.finished:\n",
    "    idx = it.multi_index # 현재 탐색하고 있는 index\n",
    "    print(\"현재 접근한 원소 => \", A[idx])\n",
    "    print(\"원소의 index\",idx)\n",
    "    it.iternext() # 다음 index로 넘어가기"
   ]
  },
  {
   "cell_type": "code",
   "execution_count": 146,
   "id": "c93fa8f6",
   "metadata": {},
   "outputs": [],
   "source": [
    "def numerical_gradient(f,x):\n",
    "    h = 1e-4\n",
    "    grad = np.zeros_like(x)\n",
    "    \n",
    "    it = np.nditer(x, flags=[\"multi_index\"],op_flags=[\"readwrite\"])\n",
    "    \n",
    "    while not it.finished:\n",
    "        idx = it.multi_index\n",
    "        obj_val = x[idx]\n",
    "        x[idx] = float(obj_val) + h\n",
    "        fxh1 = f(x) # f(x+h)\n",
    "        \n",
    "        x[idx] = float(obj_val) - h\n",
    "        fxh2 = f(x) # f(x-h)\n",
    "        \n",
    "        x[idx] = float(obj_val) # 값 초기화\n",
    "        grad[idx] = (fxh1 - fxh2) / (2*h)\n",
    "        it.iternext() # False 반복문 종료\n",
    "    return grad"
   ]
  }
 ],
 "metadata": {
  "kernelspec": {
   "display_name": "Python 3",
   "language": "python",
   "name": "python3"
  },
  "language_info": {
   "codemirror_mode": {
    "name": "ipython",
    "version": 3
   },
   "file_extension": ".py",
   "mimetype": "text/x-python",
   "name": "python",
   "nbconvert_exporter": "python",
   "pygments_lexer": "ipython3",
   "version": "3.8.8"
  }
 },
 "nbformat": 4,
 "nbformat_minor": 5
}
