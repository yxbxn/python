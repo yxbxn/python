{
 "cells": [
  {
   "cell_type": "markdown",
   "id": "fcd495e2",
   "metadata": {},
   "source": [
    "### 이것이 코딩 테스트다 : part02 주요 알고리즘 이론과 실전문제"
   ]
  },
  {
   "cell_type": "markdown",
   "id": "550b50c1",
   "metadata": {},
   "source": [
    "### 01번"
   ]
  },
  {
   "cell_type": "markdown",
   "id": "10a3a66b",
   "metadata": {},
   "source": [
    "### 02번 큰 수의 법칙 - pg 92\n",
    "입력조건\n",
    "- 첫째 줄에 N, M, K가 주어지며 공백으로 구분\n",
    "- 둘째 줄에는 N 개의 자연수가 주어지며 공백으로 구분\n",
    "- 입력으로 주어지는 K는 항상 M보다 작거나 같음\n",
    "- 출력조건 : 큰 수의 법칙에 따라 더해진 답을 출력"
   ]
  },
  {
   "cell_type": "markdown",
   "id": "f74055a6",
   "metadata": {},
   "source": [
    "내 답안\n",
    "- sort(reverse=True)를 통해 가장 큰 수와 두 번째로 큰 수를 간편하게 출력\n",
    "- 반복문을 애초에 m번만 시행하는 방식으로 코드 구현"
   ]
  },
  {
   "cell_type": "code",
   "execution_count": 4,
   "id": "c8c89288",
   "metadata": {},
   "outputs": [
    {
     "name": "stdout",
     "output_type": "stream",
     "text": [
      "5 8 3\n",
      "2 4 5 4 6\n",
      "46\n"
     ]
    }
   ],
   "source": [
    "# 첫째줄 숫자 입력\n",
    "n, m, k = map(int,input().split(\" \"))\n",
    "\n",
    "# 둘째줄 숫자 입력\n",
    "data = list(map(int,input().split(\" \")))\n",
    "\n",
    "data.sort(reverse=True)\n",
    "\n",
    "res = 0\n",
    "cnt = 0\n",
    "for i in range(m):\n",
    "    if cnt != k:\n",
    "        res += data[0]\n",
    "        cnt += 1\n",
    "        continue\n",
    "    else:\n",
    "        res += data[1]\n",
    "        cnt = 0\n",
    "        continue\n",
    "    \n",
    "print(res)"
   ]
  },
  {
   "cell_type": "markdown",
   "id": "2d300d7a",
   "metadata": {},
   "source": [
    "모범답안1\n",
    "- 가장 큰 수와 두 번째로 큰 수만 사용하면 된다는 것이 키포인트\n",
    "- 숫자를 한 번 더할 때마다 m에 -1을 빼면서 m이 0이 되었을 때 종료시키고 최종 답안 출력\n",
    "- 무조건 큰 수 3번 다음엔 두 번째로 큰 수 1번이 나온다는 것을 이용해 반복문의 순서 구성"
   ]
  },
  {
   "cell_type": "code",
   "execution_count": 3,
   "id": "21a7002e",
   "metadata": {},
   "outputs": [
    {
     "name": "stdout",
     "output_type": "stream",
     "text": [
      "5 8 3\n",
      "2 4 5 4 6\n",
      "46\n"
     ]
    }
   ],
   "source": [
    "# 첫째줄 숫자 입력\n",
    "n, m, k = map(int,input().split(\" \"))\n",
    "\n",
    "# 둘째줄 숫자 입력\n",
    "data = list(map(int,input().split(\" \")))\n",
    "\n",
    "data.sort(reverse=True)\n",
    "first = data[0]\n",
    "second = data[1]\n",
    "\n",
    "result = 0\n",
    "\n",
    "while True:\n",
    "    for i in range(k):\n",
    "        if m == 0:\n",
    "            break\n",
    "        result += first\n",
    "        m -= 1 # 한번씩 더할 때마다 m에서 횟수 1번 빼기\n",
    "    if m == 0:\n",
    "        break\n",
    "    result += second\n",
    "    m -= 1\n",
    "    \n",
    "print(result)"
   ]
  },
  {
   "cell_type": "markdown",
   "id": "427267eb",
   "metadata": {},
   "source": [
    "모범답안2\n",
    "- 가장 큰 수 3번, 두번째로 큰 수 1번 반복되는 규칙을 이용한다\n",
    "- m 값에 따라 가장 큰 수가 더해지는 횟수의 규칙을 파악할 수 있다면 더 간단하게 구현 가능"
   ]
  },
  {
   "cell_type": "markdown",
   "id": "2ed79f49",
   "metadata": {},
   "source": [
    "### 03번 숫자 카드 게임 - pg 96\n",
    "입력조건\n",
    "- 숫자 카드게임은 가장 높은 숫자가 쓰인 카드 한 장을 뽑는 게임\n",
    "- 숫자 카드가 N X M 형태로 놓여있음\n",
    "- 뽑고자 하는 카드가 포함된 행 먼저 선택\n",
    "- 선택된 행에 포함된 카드 중 숫자가 가장 낮은 카드 선택"
   ]
  },
  {
   "cell_type": "code",
   "execution_count": 16,
   "id": "822bd63f",
   "metadata": {},
   "outputs": [
    {
     "name": "stdout",
     "output_type": "stream",
     "text": [
      "3 3\n",
      "3 1 2\n",
      "4 1 4\n",
      "2 2 2\n",
      "2\n"
     ]
    }
   ],
   "source": [
    "# 행에서 숫자가 가장 낮은 카드 중에서 가장 높은 카드를 선택하는 것\n",
    "row, col = map(int,input().split(\" \"))\n",
    "\n",
    "# N x M 의 2차원 리스트 형성\n",
    "min_val = 0\n",
    "row_num = 0\n",
    "\n",
    "for i in range(row):\n",
    "    matrix_1d = list(map(int,input().split(\" \")))\n",
    "    if i == 0:\n",
    "        min_val = min(matrix_1d) # min_val 할당\n",
    "        \n",
    "    if min_val < min(matrix_1d): # min_val 갱신, 행 번호 저장\n",
    "        min_val = min(matrix_1d)\n",
    "        \n",
    "print(min_val)"
   ]
  },
  {
   "cell_type": "markdown",
   "id": "cea7480b",
   "metadata": {},
   "source": [
    "모범답안1 : min() 이용하기\n",
    "- min()을 이용해서 리스트 내의 최솟값을 찾거나\n",
    "- 가장 작은 수들의 리스트를 생성하고 그 중에서 가장 큰 수 찾기"
   ]
  },
  {
   "cell_type": "code",
   "execution_count": 17,
   "id": "e22a8635",
   "metadata": {},
   "outputs": [
    {
     "name": "stdout",
     "output_type": "stream",
     "text": [
      "2 4\n",
      "7 3 1 8\n",
      "3 3 3 4\n",
      "3\n"
     ]
    }
   ],
   "source": [
    "# 행에서 숫자가 가장 낮은 카드 중에서 가장 높은 카드를 선택하는 것\n",
    "row, col = map(int,input().split(\" \"))\n",
    "\n",
    "min_val_lst = []\n",
    "row_num = 0\n",
    "\n",
    "for i in range(row):\n",
    "    matrix_1d = list(map(int,input().split(\" \")))\n",
    "    min_val_lst.append(min(matrix_1d))\n",
    "    \n",
    "print(max(min_val_lst))"
   ]
  },
  {
   "cell_type": "markdown",
   "id": "ecb0fa99",
   "metadata": {},
   "source": [
    "모범단어2 : 이중반복문 이용하기\n",
    "- 이중 반복문으로 이중 리스트 내의 모든 값을 검사하며 비교\n",
    "- 값의 범위가 10000까지 이므로 모든 값이 10001보다는 작다는 것 이용"
   ]
  },
  {
   "cell_type": "code",
   "execution_count": 18,
   "id": "fd5345d8",
   "metadata": {},
   "outputs": [
    {
     "name": "stdout",
     "output_type": "stream",
     "text": [
      "3 3\n",
      "3 1 2\n",
      "4 1 4\n",
      "2 2 2\n",
      "1\n"
     ]
    }
   ],
   "source": [
    "# 행에서 숫자가 가장 낮은 카드 중에서 가장 높은 카드를 선택하는 것\n",
    "row, col = map(int,input().split(\" \"))\n",
    "\n",
    "min_val = 10001\n",
    "result = 0\n",
    "for i in range(row):\n",
    "    matrix_1d = list(map(int,input().split(\" \")))\n",
    "    for j in matrix_1d: # min_val 갱신\n",
    "        min_val = min(min_val,j)\n",
    "        \n",
    "    result = max(result,min_val) # 행 마다 최솟값 비교하며, 그 중의 최댓값 출력\n",
    "print(min_val)"
   ]
  },
  {
   "cell_type": "code",
   "execution_count": null,
   "id": "f52482f9",
   "metadata": {},
   "outputs": [],
   "source": []
  }
 ],
 "metadata": {
  "kernelspec": {
   "display_name": "Python 3",
   "language": "python",
   "name": "python3"
  },
  "language_info": {
   "codemirror_mode": {
    "name": "ipython",
    "version": 3
   },
   "file_extension": ".py",
   "mimetype": "text/x-python",
   "name": "python",
   "nbconvert_exporter": "python",
   "pygments_lexer": "ipython3",
   "version": "3.8.8"
  }
 },
 "nbformat": 4,
 "nbformat_minor": 5
}
