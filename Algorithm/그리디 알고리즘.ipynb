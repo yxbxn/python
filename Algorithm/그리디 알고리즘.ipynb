{
 "cells": [
  {
   "cell_type": "markdown",
   "id": "fcd495e2",
   "metadata": {},
   "source": [
    "### 이것이 코딩 테스트다 : part02 주요 알고리즘 이론과 실전문제"
   ]
  },
  {
   "cell_type": "markdown",
   "id": "550b50c1",
   "metadata": {},
   "source": [
    "### 01번"
   ]
  },
  {
   "cell_type": "markdown",
   "id": "10a3a66b",
   "metadata": {},
   "source": [
    "### 02번 큰 수의 법칙 - pg 92\n",
    "입력조건\n",
    "- 첫째 줄에 N, M, K가 주어지며 공백으로 구분\n",
    "- 둘째 줄에는 N 개의 자연수가 주어지며 공백으로 구분\n",
    "- 입력으로 주어지는 K는 항상 M보다 작거나 같음\n",
    "- 출력조건 : 큰 수의 법칙에 따라 더해진 답을 출력"
   ]
  },
  {
   "cell_type": "code",
   "execution_count": 17,
   "id": "c8c89288",
   "metadata": {},
   "outputs": [
    {
     "name": "stdout",
     "output_type": "stream",
     "text": [
      "5 8 3\n",
      "2 4 5 4 6\n",
      "46\n"
     ]
    }
   ],
   "source": [
    "# 첫째줄 숫자 입력\n",
    "n, m, k = map(int,input().split(\" \"))\n",
    "\n",
    "# 둘째줄 숫자 입력\n",
    "data = list(map(int,input().split(\" \")))\n",
    "\n",
    "data.sort(reverse=True)\n",
    "\n",
    "res = 0\n",
    "cnt = 0\n",
    "for i in range(m):\n",
    "    if cnt != k:\n",
    "        res += data[0]\n",
    "        cnt += 1\n",
    "        continue\n",
    "    else:\n",
    "        res += data[1]\n",
    "        cnt = 0\n",
    "        continue\n",
    "    \n",
    "print(res)"
   ]
  }
 ],
 "metadata": {
  "kernelspec": {
   "display_name": "Python 3",
   "language": "python",
   "name": "python3"
  },
  "language_info": {
   "codemirror_mode": {
    "name": "ipython",
    "version": 3
   },
   "file_extension": ".py",
   "mimetype": "text/x-python",
   "name": "python",
   "nbconvert_exporter": "python",
   "pygments_lexer": "ipython3",
   "version": "3.8.8"
  }
 },
 "nbformat": 4,
 "nbformat_minor": 5
}
