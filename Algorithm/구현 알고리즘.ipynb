{
 "cells": [
  {
   "cell_type": "markdown",
   "id": "bd6a1284",
   "metadata": {},
   "source": [
    "### 이것이 코딩 테스트다 : part02 주요 알고리즘 이론과 실전문제"
   ]
  },
  {
   "cell_type": "markdown",
   "id": "d75fde42",
   "metadata": {},
   "source": [
    "### 04번 - pg111\n",
    "입력조건\n",
    "- 첫째 줄 공간의 크기를 나타내는 N\n",
    "- 둘째 줄 여행가 A가 이동할 계획서 내용"
   ]
  },
  {
   "cell_type": "code",
   "execution_count": 6,
   "id": "67d3b34f",
   "metadata": {},
   "outputs": [
    {
     "name": "stdout",
     "output_type": "stream",
     "text": [
      "5\n",
      "R R R U D D\n",
      "3 4\n"
     ]
    }
   ],
   "source": [
    "# 입력받기\n",
    "N = int(input())\n",
    "x,y = 1,1\n",
    "plans = input().split(\" \")\n",
    "\n",
    "# L R U D 이동방향\n",
    "\n",
    "dx = [0,0,-1,1]\n",
    "dy = [-1,1,0,0]\n",
    "move_type = [\"L\",\"R\",\"U\",\"D\"]\n",
    "\n",
    "# 이동 계획 하나씩\n",
    "\n",
    "for i in plans:\n",
    "    for j in range(len(move_type)):\n",
    "        # move type과 일치하는지 확인\n",
    "        if i == move_type[j]:\n",
    "            nx = x + dx[j]\n",
    "            ny = y + dy[j]\n",
    "            \n",
    "    # 공간 벗어나는 경우\n",
    "    if nx < 1 or ny < 1 or nx > N or ny > N:\n",
    "        continue\n",
    "        \n",
    "    # 이동수행\n",
    "    x, y = nx, ny\n",
    "        \n",
    "print(x,y)"
   ]
  },
  {
   "cell_type": "markdown",
   "id": "5ace10f2",
   "metadata": {},
   "source": [
    "### 04번 - pg113\n",
    "입력조건\n",
    "- 첫째 줄 정수 N\n",
    "- 00시 00분 00초 부터 N시 59분 59초까지 모든 시각 중에서 3이 하나라도 포함되는 모든 경우의 수 출력"
   ]
  },
  {
   "cell_type": "code",
   "execution_count": 2,
   "id": "617f7878",
   "metadata": {},
   "outputs": [
    {
     "name": "stdout",
     "output_type": "stream",
     "text": [
      "3\n",
      "8325\n"
     ]
    }
   ],
   "source": [
    "N = int(input())\n",
    "\n",
    "# 00시 ~ N시 59분 59초까지\n",
    "# 00시 00분 00초 : 분/초는 각각 60이 채워지면 다음으로 넘어간다\n",
    "count = 0\n",
    "\n",
    "for i in range(N+1):\n",
    "    for m in range(60):\n",
    "        for s in range(60):\n",
    "            if \"3\" in str(i) + str(m) + str(s):\n",
    "                count += 1\n",
    "                \n",
    "print(count)"
   ]
  },
  {
   "cell_type": "markdown",
   "id": "9c2abeb6",
   "metadata": {},
   "source": [
    "### 04번 - pg117\n",
    "입력조건\n",
    "- 첫째 줄에 8 x 8 좌표 평면상에서 현재 나이트가 위치한 곳의 좌표를 나타내는 두 문자로 구서된 문자열이 입력\n",
    "- 입력문자는 a1처럼 열과 행으로 구성\n",
    "- 첫째 줄에 나이트가 이동할 수 있는 경우의 수 출력"
   ]
  },
  {
   "cell_type": "code",
   "execution_count": 3,
   "id": "9555780c",
   "metadata": {},
   "outputs": [
    {
     "name": "stdout",
     "output_type": "stream",
     "text": [
      "a1\n",
      "2\n"
     ]
    }
   ],
   "source": [
    "input_data = input() # 현재 위치 확인\n",
    "row = int(input_data[1])\n",
    "col = int(ord(input_data[0])) - int(ord(\"a\")) + 1\n",
    "\n",
    "# 나이트가 이동할 수 있는 경우의 수\n",
    "\n",
    "move = [(2,-1),(2,1),(-2,1),(-2,-1),(1,2),(1,-2),(-1,2),(-1,-2)]\n",
    "\n",
    "cnt = 0\n",
    "\n",
    "for i in move: # 경우의 수에 따라 이동여부 확인\n",
    "    move_row = row + i[0]\n",
    "    move_col = col + i[1]\n",
    "    \n",
    "    if move_row >= 1 and move_row <= 8 and move_col >= 1 and move_col <= 8:\n",
    "        cnt +=1\n",
    "print(cnt)"
   ]
  },
  {
   "cell_type": "code",
   "execution_count": null,
   "id": "ad9dc645",
   "metadata": {},
   "outputs": [],
   "source": []
  }
 ],
 "metadata": {
  "kernelspec": {
   "display_name": "Python 3",
   "language": "python",
   "name": "python3"
  },
  "language_info": {
   "codemirror_mode": {
    "name": "ipython",
    "version": 3
   },
   "file_extension": ".py",
   "mimetype": "text/x-python",
   "name": "python",
   "nbconvert_exporter": "python",
   "pygments_lexer": "ipython3",
   "version": "3.8.8"
  }
 },
 "nbformat": 4,
 "nbformat_minor": 5
}
