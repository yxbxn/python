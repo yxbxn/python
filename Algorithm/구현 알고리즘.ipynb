{
 "cells": [
  {
   "cell_type": "markdown",
   "id": "bd6a1284",
   "metadata": {},
   "source": [
    "### 이것이 코딩 테스트다 : part02 주요 알고리즘 이론과 실전문제"
   ]
  },
  {
   "cell_type": "markdown",
   "id": "d75fde42",
   "metadata": {},
   "source": [
    "### 04번 - pg111\n",
    "입력조건\n",
    "- 첫째 줄 공간의 크기를 나타내는 N\n",
    "- 둘째 줄 여행가 A가 이동할 계획서 내용"
   ]
  },
  {
   "cell_type": "code",
   "execution_count": 6,
   "id": "67d3b34f",
   "metadata": {},
   "outputs": [
    {
     "name": "stdout",
     "output_type": "stream",
     "text": [
      "5\n",
      "R R R U D D\n",
      "3 4\n"
     ]
    }
   ],
   "source": [
    "# 입력받기\n",
    "N = int(input())\n",
    "x,y = 1,1\n",
    "plans = input().split(\" \")\n",
    "\n",
    "# L R U D 이동방향\n",
    "\n",
    "dx = [0,0,-1,1]\n",
    "dy = [-1,1,0,0]\n",
    "move_type = [\"L\",\"R\",\"U\",\"D\"]\n",
    "\n",
    "# 이동 계획 하나씩\n",
    "\n",
    "for i in plans:\n",
    "    for j in range(len(move_type)):\n",
    "        # move type과 일치하는지 확인\n",
    "        if i == move_type[j]:\n",
    "            nx = x + dx[j]\n",
    "            ny = y + dy[j]\n",
    "            \n",
    "    # 공간 벗어나는 경우\n",
    "    if nx < 1 or ny < 1 or nx > N or ny > N:\n",
    "        continue\n",
    "        \n",
    "    # 이동수행\n",
    "    x, y = nx, ny\n",
    "        \n",
    "print(x,y)"
   ]
  },
  {
   "cell_type": "code",
   "execution_count": null,
   "id": "c00cf054",
   "metadata": {},
   "outputs": [],
   "source": []
  }
 ],
 "metadata": {
  "kernelspec": {
   "display_name": "Python 3",
   "language": "python",
   "name": "python3"
  },
  "language_info": {
   "codemirror_mode": {
    "name": "ipython",
    "version": 3
   },
   "file_extension": ".py",
   "mimetype": "text/x-python",
   "name": "python",
   "nbconvert_exporter": "python",
   "pygments_lexer": "ipython3",
   "version": "3.8.8"
  }
 },
 "nbformat": 4,
 "nbformat_minor": 5
}
