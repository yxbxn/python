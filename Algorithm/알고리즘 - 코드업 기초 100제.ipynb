{
 "cells": [
  {
   "cell_type": "markdown",
   "id": "f17fb78b",
   "metadata": {},
   "source": [
    "# 코드업 알고리즘 기초 100제"
   ]
  },
  {
   "cell_type": "markdown",
   "id": "8c9d034d",
   "metadata": {},
   "source": [
    "### 6005\n",
    "이번에는 큰따옴표(\")(double quotation mark)가 포함된 출력문을 연습해보자.\n",
    "\n",
    "다음 문장을 출력하시오.\n",
    "\n",
    "\"Hello World\"\n",
    "(단, 큰따옴표도 함께 출력한다.)"
   ]
  },
  {
   "cell_type": "code",
   "execution_count": 75,
   "id": "64bb672b",
   "metadata": {},
   "outputs": [
    {
     "name": "stdout",
     "output_type": "stream",
     "text": [
      "\"Hello World\"\n",
      "\"Hello World\"\n"
     ]
    }
   ],
   "source": [
    "print('\"Hello World\"')\n",
    "\n",
    "# 기본적인 print()문을 이용할 때, 따옴표 및 특수문자 출력하는 방법\n",
    "# \\(back slash) 이용해서 출력하기 -> \\\" or \\' \n",
    "# back slash 뒤에 위치시키기\n",
    "print(\"\\\"Hello World\\\"\")"
   ]
  },
  {
   "cell_type": "markdown",
   "id": "91aac6d0",
   "metadata": {},
   "source": [
    "### 6006\n",
    "이번에는 특수문자 출력에 도전하자!!\n",
    "\n",
    "다음 문장을 출력하시오.\n",
    "\n",
    "\"!@#$%^&*()'\n",
    "(단, 큰따옴표와 작은따옴표도 함께 출력한다.)"
   ]
  },
  {
   "cell_type": "code",
   "execution_count": 8,
   "id": "67b90030",
   "metadata": {},
   "outputs": [
    {
     "name": "stdout",
     "output_type": "stream",
     "text": [
      "\"!@#$%^&*()'\n"
     ]
    }
   ],
   "source": [
    "print(\"\\\"!@#$%^&*()\\'\")\n",
    "# 6005번과 유사하게 back slash 이용하기"
   ]
  },
  {
   "cell_type": "markdown",
   "id": "538ea712",
   "metadata": {},
   "source": [
    "### 6007\n",
    "윈도우 운영체제의 파일 경로를 출력하는 연습을 해보자.\n",
    " \n",
    "파일 경로에는 특수문자들이 포함된다.\n",
    "\n",
    "다음 경로를 출력하시오.\n",
    "\n",
    "\"C:\\\\Download\\\\'hello'.py\"\n",
    "(단, 따옴표도 함께 출력한다.)"
   ]
  },
  {
   "cell_type": "code",
   "execution_count": 18,
   "id": "679519f6",
   "metadata": {},
   "outputs": [
    {
     "name": "stdout",
     "output_type": "stream",
     "text": [
      "\"C:\\Download\\'hello'.py\"\n"
     ]
    }
   ],
   "source": [
    "print(\"\\\"C:\\\\Download\\\\'hello'.py\\\"\")\n",
    "# \\도 안전하게 출력하려면 \\\\를 사용하는 것이 좋다.\n",
    "# back slash를 문자열로 포함시켜서 출력하기 위해서 back slash 두번 나열하기"
   ]
  },
  {
   "cell_type": "markdown",
   "id": "916d7533",
   "metadata": {},
   "source": [
    "### 6008\n",
    "이번에는 다음과 같은 python프로그램의 소스코드를 출력해보자.\n",
    "\n",
    "print(\"Hello\\nWorld\")\n",
    "\n",
    "위 코드를 정확히 그대로 출력하시오.(공백문자 주의)\n",
    "\n",
    " \n",
    "\n",
    "print 명령 안에 서식 문자로 \\n을 사용하면 줄 바꿈(new line) 문자로 사용된다.\n",
    "\n",
    "그렇다면 \\n을 화면에 그대로 출력하려면 어떻게 해야될까?"
   ]
  },
  {
   "cell_type": "code",
   "execution_count": 32,
   "id": "9efa2503",
   "metadata": {},
   "outputs": [
    {
     "name": "stdout",
     "output_type": "stream",
     "text": [
      "print(\"Hello\\nWorld\")\n"
     ]
    }
   ],
   "source": [
    "print(\"print(\\\"Hello\\\\nWorld\\\")\")\n",
    "# \\n을 화면에 그대로 출력하기 위해 \\\\n\n",
    "# back slash 2번 사용하기"
   ]
  },
  {
   "cell_type": "markdown",
   "id": "ada348e2",
   "metadata": {},
   "source": [
    "### 6009\n",
    "https://codeup.kr/problem.php?id=6009"
   ]
  },
  {
   "cell_type": "code",
   "execution_count": 35,
   "id": "c5997be2",
   "metadata": {},
   "outputs": [
    {
     "name": "stdout",
     "output_type": "stream",
     "text": [
      "3\n",
      "3\n"
     ]
    }
   ],
   "source": [
    "c = input()\n",
    "print(c)"
   ]
  },
  {
   "cell_type": "markdown",
   "id": "2b1121d7",
   "metadata": {},
   "source": [
    "### 6010 : : 정수 1개 입력받아 변환하여 출력하기\n",
    "https://codeup.kr/problem.php?id=6010"
   ]
  },
  {
   "cell_type": "code",
   "execution_count": 39,
   "id": "8c817035",
   "metadata": {},
   "outputs": [
    {
     "name": "stdout",
     "output_type": "stream",
     "text": [
      "3\n",
      "3\n"
     ]
    }
   ],
   "source": [
    "n = int(input())\n",
    "print(n)"
   ]
  },
  {
   "cell_type": "markdown",
   "id": "4e3fdf68",
   "metadata": {},
   "source": [
    "### 6011 : : [기초-입출력] 실수 1개 입력받아 변환하여 출력하기(설명)(py)\n",
    "https://codeup.kr/problem.php?id=6011"
   ]
  },
  {
   "cell_type": "code",
   "execution_count": 37,
   "id": "f9782f98",
   "metadata": {},
   "outputs": [
    {
     "name": "stdout",
     "output_type": "stream",
     "text": [
      "3.2\n",
      "3.2\n"
     ]
    }
   ],
   "source": [
    "n = float(input())\n",
    "print(n)"
   ]
  },
  {
   "cell_type": "markdown",
   "id": "794aed01",
   "metadata": {},
   "source": [
    "### 6012 : [기초-입출력] 정수 2개 입력받아 그대로 출력하기1(설명)(py)\n",
    "https://codeup.kr/problem.php?id=6012"
   ]
  },
  {
   "cell_type": "code",
   "execution_count": 43,
   "id": "bf2faec6",
   "metadata": {},
   "outputs": [
    {
     "name": "stdout",
     "output_type": "stream",
     "text": [
      "34\n",
      "34\n",
      "45\n",
      "45\n"
     ]
    }
   ],
   "source": [
    "print(int(input()))\n",
    "print(int(input()))\n",
    "\n",
    "# int()를 통해서 정수를 입력받고 출력하기"
   ]
  },
  {
   "cell_type": "markdown",
   "id": "f6bc20f9",
   "metadata": {},
   "source": [
    "### 6013 : [기초-입출력] 문자 2개 입력받아 순서 바꿔 출력하기1(py)\n",
    "https://codeup.kr/problem.php?id=6013"
   ]
  },
  {
   "cell_type": "code",
   "execution_count": 47,
   "id": "3e07bdc6",
   "metadata": {},
   "outputs": [
    {
     "name": "stdout",
     "output_type": "stream",
     "text": [
      "3\n",
      "4\n",
      "4\n",
      "3\n"
     ]
    }
   ],
   "source": [
    "a = str(input())\n",
    "b = str(input())\n",
    "print(b)\n",
    "print(a)"
   ]
  },
  {
   "cell_type": "markdown",
   "id": "5692542b",
   "metadata": {},
   "source": [
    "### 6014 : [기초-입출력] 실수 1개 입력받아 3번 출력하기\n",
    "https://codeup.kr/problem.php?id=6014"
   ]
  },
  {
   "cell_type": "code",
   "execution_count": 48,
   "id": "a021f9d5",
   "metadata": {},
   "outputs": [
    {
     "name": "stdout",
     "output_type": "stream",
     "text": [
      "3\n",
      "3.0\n",
      "3.0\n",
      "3.0\n"
     ]
    }
   ],
   "source": [
    "a = float(input())\n",
    "for i in range(3):\n",
    "    print(a)"
   ]
  },
  {
   "cell_type": "markdown",
   "id": "09f9e703",
   "metadata": {},
   "source": [
    "### 6015 : [기초-입출력] 정수 2개 입력받아 그대로 출력하기2(설명)(py)\n",
    "https://codeup.kr/problem.php?id=6015"
   ]
  },
  {
   "cell_type": "code",
   "execution_count": 57,
   "id": "c2c39b8b",
   "metadata": {},
   "outputs": [
    {
     "name": "stdout",
     "output_type": "stream",
     "text": [
      "3 4\n",
      "3\n",
      "4\n"
     ]
    }
   ],
   "source": [
    "a,b = input().split()\n",
    "print(int(a))\n",
    "print(int(b))"
   ]
  },
  {
   "cell_type": "markdown",
   "id": "ef14bd46",
   "metadata": {},
   "source": [
    "### 6016 : [기초-입출력] 문자 2개 입력받아 순서 바꿔 출력하기2(설명)(py)\n",
    "https://codeup.kr/problem.php?id=6016"
   ]
  },
  {
   "cell_type": "code",
   "execution_count": 59,
   "id": "27020519",
   "metadata": {},
   "outputs": [
    {
     "name": "stdout",
     "output_type": "stream",
     "text": [
      "바 보\n",
      "보 바\n"
     ]
    }
   ],
   "source": [
    "a,b = input().split()\n",
    "print(b,a)"
   ]
  },
  {
   "cell_type": "markdown",
   "id": "4e3c5c50",
   "metadata": {},
   "source": [
    "### 6017 : [기초-입출력] 문장 1개 입력받아 3번 출력하기(설명)(py)\n",
    "https://codeup.kr/problem.php?id=6017"
   ]
  },
  {
   "cell_type": "code",
   "execution_count": 60,
   "id": "f948b23c",
   "metadata": {},
   "outputs": [
    {
     "name": "stdout",
     "output_type": "stream",
     "text": [
      "3\n",
      "3 3 3\n"
     ]
    }
   ],
   "source": [
    "s = input()\n",
    "print(s,s,s)"
   ]
  },
  {
   "cell_type": "markdown",
   "id": "144687c2",
   "metadata": {},
   "source": [
    "### 6018 : [기초-입출력] 시간 입력받아 그대로 출력하기(설명)(py)\n",
    "https://codeup.kr/problem.php?id=6018"
   ]
  },
  {
   "cell_type": "code",
   "execution_count": 64,
   "id": "7ca842bb",
   "metadata": {},
   "outputs": [
    {
     "name": "stdout",
     "output_type": "stream",
     "text": [
      "24:08\n",
      "24:08\n"
     ]
    }
   ],
   "source": [
    "a,b = input().split(\":\")\n",
    "print(a,b,sep=\":\")\n",
    "# print에 sep = \":\"이 있으면 콜론 :을 사이에 두고 a와 b를 출력한다\n",
    "# sep는 분류기호(seperator)를 의미한다"
   ]
  },
  {
   "cell_type": "markdown",
   "id": "e8a61a1e",
   "metadata": {},
   "source": [
    "### 6019 : [기초-입출력] 연월일 입력받아 순서 바꿔 출력하기(py)\n",
    "https://codeup.kr/problem.php?id=6019"
   ]
  },
  {
   "cell_type": "code",
   "execution_count": 65,
   "id": "3fed8415",
   "metadata": {},
   "outputs": [
    {
     "name": "stdout",
     "output_type": "stream",
     "text": [
      "2022.08.31\n",
      "2022-08-31\n"
     ]
    }
   ],
   "source": [
    "y,m,d = input().split(\".\")\n",
    "print(d,m,y,sep=\"-\")"
   ]
  },
  {
   "cell_type": "markdown",
   "id": "b80e6c5b",
   "metadata": {},
   "source": [
    "### 6020 : [기초-입출력] 주민번호 입력받아 형태 바꿔 출력하기(py)\n",
    "https://codeup.kr/problem.php?id=6020"
   ]
  },
  {
   "cell_type": "code",
   "execution_count": 69,
   "id": "e4b65a50",
   "metadata": {},
   "outputs": [
    {
     "name": "stdout",
     "output_type": "stream",
     "text": [
      "9099999934-343434\n",
      "9099999934343434\n"
     ]
    }
   ],
   "source": [
    "a,b = input().split(\"-\")\n",
    "print(a+b)\n",
    "# 출력시 분류기호(seperator)를 \"\" 공백으로 설정해도 된다"
   ]
  },
  {
   "cell_type": "markdown",
   "id": "89dd03d5",
   "metadata": {},
   "source": [
    "### 6021 : [기초-입출력] 단어 1개 입력받아 나누어 출력하기(설명)(py)\n",
    "https://codeup.kr/problem.php?id=6021"
   ]
  },
  {
   "cell_type": "code",
   "execution_count": 72,
   "id": "9b6e633a",
   "metadata": {},
   "outputs": [
    {
     "name": "stdout",
     "output_type": "stream",
     "text": [
      "기초입출력\n",
      "기\n",
      "초\n",
      "입\n",
      "출\n",
      "력\n"
     ]
    }
   ],
   "source": [
    "s = input()\n",
    "for i in s:\n",
    "    print(i)\n",
    "    \n",
    "    \n",
    "s = input()\n",
    "print(s[0])"
   ]
  },
  {
   "cell_type": "markdown",
   "id": "4f979e1b",
   "metadata": {},
   "source": [
    "### 6022 : [기초-입출력] 연월일 입력받아 나누어 출력하기(설명)(py)\n",
    "https://codeup.kr/problem.php?id=6021"
   ]
  },
  {
   "cell_type": "code",
   "execution_count": 74,
   "id": "92c87d30",
   "metadata": {},
   "outputs": [
    {
     "name": "stdout",
     "output_type": "stream",
     "text": [
      "990110\n",
      "99 01 10\n"
     ]
    }
   ],
   "source": [
    "s = input()\n",
    "print(s[0:2],s[2:4],s[4:6])"
   ]
  },
  {
   "cell_type": "markdown",
   "id": "59c94b40",
   "metadata": {},
   "source": [
    "### 6023 : [기초-입출력] 시분초 입력받아 분만 출력하기(py)\n",
    "https://codeup.kr/problem.php?id=6023"
   ]
  },
  {
   "cell_type": "code",
   "execution_count": 77,
   "id": "ee448fdc",
   "metadata": {},
   "outputs": [
    {
     "name": "stdout",
     "output_type": "stream",
     "text": [
      "32:34:52\n",
      "34\n"
     ]
    }
   ],
   "source": [
    "a,b,c = input().split(\":\")\n",
    "print(b"
   ]
  },
  {
   "cell_type": "markdown",
   "id": "801917da",
   "metadata": {},
   "source": [
    "### 6024 : [기초-입출력] 단어 2개 입력받아 이어 붙이기(설명)(py)\n",
    "https://codeup.kr/problem.php?id=6024"
   ]
  },
  {
   "cell_type": "code",
   "execution_count": 1,
   "id": "b61283c9",
   "metadata": {},
   "outputs": [
    {
     "name": "stdout",
     "output_type": "stream",
     "text": [
      "hello 3\n",
      "hello3\n"
     ]
    }
   ],
   "source": [
    "a,b = input().split()\n",
    "print(a+b)"
   ]
  },
  {
   "cell_type": "markdown",
   "id": "3dd9165c",
   "metadata": {},
   "source": [
    "### 6025 : [기초-값변환] 정수 2개 입력받아 합 계산하기(설명)(py)"
   ]
  },
  {
   "cell_type": "code",
   "execution_count": 2,
   "id": "0be01a4c",
   "metadata": {},
   "outputs": [
    {
     "name": "stdout",
     "output_type": "stream",
     "text": [
      "3 4\n",
      "7\n"
     ]
    }
   ],
   "source": [
    "a,b = input().split(\" \")\n",
    "print(int(a)+int(b))"
   ]
  },
  {
   "cell_type": "markdown",
   "id": "d07c3a2f",
   "metadata": {},
   "source": [
    "### 6026 : [기초-값변환] 실수 2개 입력받아 합 계산하기(설명)(py)"
   ]
  },
  {
   "cell_type": "code",
   "execution_count": 4,
   "id": "32008a54",
   "metadata": {},
   "outputs": [
    {
     "name": "stdout",
     "output_type": "stream",
     "text": [
      "3.4\n",
      "2.3\n",
      "5.699999999999999\n"
     ]
    }
   ],
   "source": [
    "a = input()\n",
    "b = input()\n",
    "print(float(a)+float(b))"
   ]
  },
  {
   "cell_type": "markdown",
   "id": "522f5f8c",
   "metadata": {},
   "source": [
    "### 6027 : [기초-출력변환] 10진 정수 입력받아 16진수로 출력하기1(설명)(py)"
   ]
  },
  {
   "cell_type": "code",
   "execution_count": 13,
   "id": "67c48067",
   "metadata": {},
   "outputs": [
    {
     "name": "stdout",
     "output_type": "stream",
     "text": [
      "255\n",
      "ff\n"
     ]
    }
   ],
   "source": [
    "a = int(input())\n",
    "print('%x'% a) # %x로 출력하면 16진수 소문자, %o로 출력하면 8진수 문자열"
   ]
  },
  {
   "cell_type": "markdown",
   "id": "f43cee86",
   "metadata": {},
   "source": [
    "### 6028 : [기초-출력변환] 10진 정수 입력받아 16진수로 출력하기2(설명)(py)"
   ]
  },
  {
   "cell_type": "code",
   "execution_count": 15,
   "id": "b1c93569",
   "metadata": {},
   "outputs": [
    {
     "name": "stdout",
     "output_type": "stream",
     "text": [
      "255\n",
      "FF\n"
     ]
    }
   ],
   "source": [
    "# 16진수 대문자 형태 문자열로 출력하기\n",
    "a = int(input())\n",
    "print(\"%X\" %a)"
   ]
  },
  {
   "cell_type": "markdown",
   "id": "74d36728",
   "metadata": {},
   "source": [
    "### 6029 : [기초-출력변환] 16진 정수 입력받아 8진수로 출력하기(설명)(py)"
   ]
  },
  {
   "cell_type": "code",
   "execution_count": 22,
   "id": "d084a116",
   "metadata": {},
   "outputs": [
    {
     "name": "stdout",
     "output_type": "stream",
     "text": [
      "f\n",
      "17\n"
     ]
    }
   ],
   "source": [
    "# 16진수 입력받아 8진수 형태 문자열로 출력하기\n",
    "a = input()\n",
    "a_16 = int(a,16) # 입력된 변수 a를 16진수로 인식하기 16진수로 변환하는 것이 아니라, 16진수로 인식하는 것\n",
    "print(\"%o\" %a_16)"
   ]
  },
  {
   "cell_type": "markdown",
   "id": "615e764e",
   "metadata": {},
   "source": [
    "### 6030 : [기초-값변환] 영문자 1개 입력받아 10진수로 변환하기(설명)(py)\n",
    "- 컴퓨터에 저장되고 처리되는 모든 데이터들은 2진수 형태로 정수화\n",
    "- 컴퓨터에 문자를 저장하는 방법은 아스키코드, 유니코드 사용됨\n",
    "- 대문자 A는 10진수 값 65로 표현하고, 2진수값 10000001로 바꾸어 저장함"
   ]
  },
  {
   "cell_type": "code",
   "execution_count": 26,
   "id": "14bb2037",
   "metadata": {},
   "outputs": [
    {
     "name": "stdout",
     "output_type": "stream",
     "text": [
      "A\n",
      "65\n"
     ]
    }
   ],
   "source": [
    "n = ord(input()) # 영문자 1개를 입력받아 10진수 유니코드 값으로 출력하기\n",
    "print(n)"
   ]
  },
  {
   "cell_type": "markdown",
   "id": "af00da54",
   "metadata": {},
   "source": [
    "### 6031 : [기초-값변환] 정수 입력받아 유니코드 문자로 변환하기(설명)(py)\n",
    "- 6030번과 반대. 10진 정수를 입력받고, 유니코드 문자로 변환\n",
    "- 65 입력받으면 대문자 A가 출력"
   ]
  },
  {
   "cell_type": "code",
   "execution_count": 28,
   "id": "47f127be",
   "metadata": {},
   "outputs": [
    {
     "name": "stdout",
     "output_type": "stream",
     "text": [
      "65\n",
      "A\n"
     ]
    }
   ],
   "source": [
    "a = int(input())\n",
    "print(chr(a)) # 10진 정수를 유니코트 문자로 변환함 chr()"
   ]
  },
  {
   "cell_type": "markdown",
   "id": "51b0a1be",
   "metadata": {},
   "source": [
    "### 6032 : [기초-산술연산] 정수 1개 입력받아 부호 바꾸기(설명)(py)"
   ]
  },
  {
   "cell_type": "code",
   "execution_count": 29,
   "id": "81a3b8aa",
   "metadata": {},
   "outputs": [
    {
     "name": "stdout",
     "output_type": "stream",
     "text": [
      "-3\n",
      "3\n"
     ]
    }
   ],
   "source": [
    "a = int(input())\n",
    "print(-a)"
   ]
  },
  {
   "cell_type": "markdown",
   "id": "a833ddf2",
   "metadata": {},
   "source": [
    "### 6033 : [기초-산술연산] 문자 1개 입력받아 다음 문자 출력하기(설명)(py)"
   ]
  },
  {
   "cell_type": "code",
   "execution_count": 31,
   "id": "ba87a5dc",
   "metadata": {},
   "outputs": [
    {
     "name": "stdout",
     "output_type": "stream",
     "text": [
      "A\n",
      "B\n"
     ]
    }
   ],
   "source": [
    "n = ord(input()) # 입력된 문자 10진수 유니코드 값으로 변경\n",
    "print(chr(n+1)) # 1을 더한 후 chr를 통해 10진수 유니코드 -> 문자로 표현하기"
   ]
  },
  {
   "cell_type": "markdown",
   "id": "3f57e8bf",
   "metadata": {},
   "source": [
    "### 6034 : [기초-산술연산] 정수 2개 입력받아 차 계산하기(설명)(py)"
   ]
  },
  {
   "cell_type": "code",
   "execution_count": 32,
   "id": "11ae5388",
   "metadata": {},
   "outputs": [
    {
     "name": "stdout",
     "output_type": "stream",
     "text": [
      "3 4\n",
      "-1\n"
     ]
    }
   ],
   "source": [
    "a,b = input().split(\" \")\n",
    "print(int(a) - int(b))"
   ]
  },
  {
   "cell_type": "markdown",
   "id": "a9ef7bf4",
   "metadata": {},
   "source": [
    "### 6035 : [기초-산술연산] 실수 2개 입력받아 곱 계산하기(설명)(py)"
   ]
  },
  {
   "cell_type": "code",
   "execution_count": 33,
   "id": "145efadf",
   "metadata": {},
   "outputs": [
    {
     "name": "stdout",
     "output_type": "stream",
     "text": [
      "3 4\n",
      "12.0\n"
     ]
    }
   ],
   "source": [
    "a,b = input().split(\" \")\n",
    "print(float(a)* float(b))"
   ]
  },
  {
   "cell_type": "markdown",
   "id": "fb2778b0",
   "metadata": {},
   "source": [
    "### 6036 : [기초-산술연산] 단어 여러 번 출력하기(설명)(py)"
   ]
  },
  {
   "cell_type": "code",
   "execution_count": 36,
   "id": "785e7f48",
   "metadata": {},
   "outputs": [
    {
     "name": "stdout",
     "output_type": "stream",
     "text": [
      "python 3\n",
      "pythonpythonpython\n"
     ]
    }
   ],
   "source": [
    "w,n = input().split(\" \")\n",
    "print(w*int(n))"
   ]
  },
  {
   "cell_type": "markdown",
   "id": "03a81e8f",
   "metadata": {},
   "source": [
    "### 6037 : [기초-산술연산] 문장 여러 번 출력하기(설명)(py)"
   ]
  },
  {
   "cell_type": "code",
   "execution_count": 38,
   "id": "2270af01",
   "metadata": {},
   "outputs": [
    {
     "name": "stdout",
     "output_type": "stream",
     "text": [
      "3\n",
      "iloveyou\n",
      "iloveyouiloveyouiloveyou\n"
     ]
    }
   ],
   "source": [
    "n = int(input())\n",
    "s = input()\n",
    "print(n*s)"
   ]
  },
  {
   "cell_type": "markdown",
   "id": "23871eb2",
   "metadata": {},
   "source": [
    "### 6038 : [기초-산술연산] 정수 2개 입력받아 거듭제곱 계산하기(설명)(py)"
   ]
  },
  {
   "cell_type": "code",
   "execution_count": 43,
   "id": "528c9f61",
   "metadata": {},
   "outputs": [
    {
     "name": "stdout",
     "output_type": "stream",
     "text": [
      "3 4\n",
      "81\n"
     ]
    }
   ],
   "source": [
    "a,b = input().split(\" \")\n",
    "print(int(a)**int(b))"
   ]
  },
  {
   "cell_type": "markdown",
   "id": "d287a8f8",
   "metadata": {},
   "source": [
    "### 6039 : [기초-산술연산] 실수 2개 입력받아 거듭제곱 계산하기(py)"
   ]
  },
  {
   "cell_type": "code",
   "execution_count": 45,
   "id": "4b1b7989",
   "metadata": {},
   "outputs": [
    {
     "name": "stdout",
     "output_type": "stream",
     "text": [
      "3.4 4.2\n",
      "170.69132576063348\n"
     ]
    }
   ],
   "source": [
    "a,b = input().split(\" \")\n",
    "print(float(a)**float(b))"
   ]
  },
  {
   "cell_type": "markdown",
   "id": "953f37f9",
   "metadata": {},
   "source": [
    "### 6040 : [기초-산술연산] 정수 2개 입력받아 나눈 몫 계산하기(설명)(py)"
   ]
  },
  {
   "cell_type": "code",
   "execution_count": 48,
   "id": "b777fb5c",
   "metadata": {},
   "outputs": [
    {
     "name": "stdout",
     "output_type": "stream",
     "text": [
      "3 4\n",
      "0\n"
     ]
    }
   ],
   "source": [
    "a,b = input().split(\" \") # 몫을 출력하기 위해서 //, 나머지를 출력하기 위해서는 %\n",
    "print(int(a)//int(b))"
   ]
  },
  {
   "cell_type": "markdown",
   "id": "c5c1ea33",
   "metadata": {},
   "source": [
    "### 6041 : [기초-산술연산] 정수 2개 입력받아 나눈 나머지 계산하기(설명)(py)"
   ]
  },
  {
   "cell_type": "code",
   "execution_count": 49,
   "id": "8c00981f",
   "metadata": {},
   "outputs": [
    {
     "name": "stdout",
     "output_type": "stream",
     "text": [
      "10 2\n",
      "0\n"
     ]
    }
   ],
   "source": [
    "a,b = input().split(\" \") # 몫을 출력하기 위해서 //, 나머지를 출력하기 위해서는 %\n",
    "print(int(a)%int(b))"
   ]
  },
  {
   "cell_type": "markdown",
   "id": "d6ca96ee",
   "metadata": {},
   "source": [
    "### 6042 : [기초-값변환] 실수 1개 입력받아 소숫점이하 자리 변환하기(설명)(py)\n",
    "- format(수, \".2f\") 를 사용하면 원하는 자리까지의 정확도로 반올림 된 실수 값을 만들어 준다. "
   ]
  },
  {
   "cell_type": "code",
   "execution_count": 52,
   "id": "e908c2a2",
   "metadata": {},
   "outputs": [
    {
     "name": "stdout",
     "output_type": "stream",
     "text": [
      "34.34343434343\n",
      "34.34343\n"
     ]
    }
   ],
   "source": [
    "f = float(input())\n",
    "print(format(f,\".5f\")) # 소수점 둘째자리까지 표현하기, 셋째 자리에서 반올림하기"
   ]
  },
  {
   "cell_type": "markdown",
   "id": "423817e9",
   "metadata": {},
   "source": [
    "### 6043 : [기초-산술연산] 실수 2개 입력받아 나눈 결과 계산하기(py)"
   ]
  },
  {
   "cell_type": "code",
   "execution_count": 53,
   "id": "7c17abf8",
   "metadata": {},
   "outputs": [
    {
     "name": "stdout",
     "output_type": "stream",
     "text": [
      "10.0 3.0\n",
      "3.333\n"
     ]
    }
   ],
   "source": [
    "a,b = input().split(\" \")\n",
    "print(format(float(a)/float(b),\".3f\")) # 소수점 둘째자리까지 표현하기, 셋째 자리에서 반올림하기"
   ]
  },
  {
   "cell_type": "markdown",
   "id": "86130021",
   "metadata": {},
   "source": [
    "### 6044 : [기초-산술연산] 정수 2개 입력받아 자동 계산하기(py)"
   ]
  },
  {
   "cell_type": "code",
   "execution_count": 58,
   "id": "44ef687f",
   "metadata": {},
   "outputs": [
    {
     "name": "stdout",
     "output_type": "stream",
     "text": [
      "3 4\n",
      "7\n",
      "-1\n",
      "12\n",
      "0\n",
      "3\n",
      "0.75\n"
     ]
    }
   ],
   "source": [
    "a,b = input().split(\" \")\n",
    "a = int(a)\n",
    "b = int(b)\n",
    "print(a+b)\n",
    "print(a-b)\n",
    "print(a*b)\n",
    "print(a//b)\n",
    "print(a%b)\n",
    "print(format(a/b,\".2f\"))"
   ]
  },
  {
   "cell_type": "markdown",
   "id": "1c256385",
   "metadata": {},
   "source": [
    "### 6045 : [기초-산술연산] 정수 3개 입력받아 합과 평균 출력하기(설명)(py)"
   ]
  },
  {
   "cell_type": "code",
   "execution_count": 62,
   "id": "73d101d6",
   "metadata": {},
   "outputs": [
    {
     "name": "stdout",
     "output_type": "stream",
     "text": [
      "1 2 3\n",
      "6 2.00\n"
     ]
    }
   ],
   "source": [
    "a,b,c = input().split()\n",
    "sum_abc = int(a)+int(b)+int(c)\n",
    "print(sum_abc,format(sum_abc/3,\".2f\"))"
   ]
  },
  {
   "cell_type": "markdown",
   "id": "755c52f0",
   "metadata": {},
   "source": [
    "### 6046 : [기초-비트시프트연산] 정수 1개 입력받아 2배 곱해 출력하기(설명)(py)\n",
    "- 비트시프트연산자 << 와 >> 를 이용하면 지정한 비트 수만큼 밀어주면서 *2 혹은 1/2을 할 수 있다\n",
    "- 컴퓨터 내부에는 2진수 형태로 값이 저장되기 때문이다\n",
    "- n<<1 : n을 1비트 만큼 밀어주게 되면 0이 하나가 추가된다.\n",
    "- 4<<1 : 100(2) -> 1000(2)이 된다\n",
    "- n = 0o10 : 8진수값 10으로 저장된다\n",
    "- n = 0xf : 16진수값 f로 저장된다"
   ]
  },
  {
   "cell_type": "code",
   "execution_count": 1,
   "id": "7e258d19",
   "metadata": {},
   "outputs": [
    {
     "name": "stdout",
     "output_type": "stream",
     "text": [
      "24\n",
      "48\n"
     ]
    }
   ],
   "source": [
    "n = int(input())\n",
    "print(n<<1)"
   ]
  },
  {
   "cell_type": "markdown",
   "id": "75fd820f",
   "metadata": {},
   "source": [
    "### 6047 : [기초-비트시프트연산] 2의 거듭제곱 배로 곱해 출력하기(설명)(py)"
   ]
  },
  {
   "cell_type": "code",
   "execution_count": 2,
   "id": "3be08d96",
   "metadata": {},
   "outputs": [
    {
     "name": "stdout",
     "output_type": "stream",
     "text": [
      "2 10\n",
      "2048\n"
     ]
    }
   ],
   "source": [
    "a,b = input().split(\" \")\n",
    "a = int(a) ; b = int(b)\n",
    "print(a<<b) # a에 2의 b거듭제곱만큼 곱한 것을 출력함"
   ]
  },
  {
   "cell_type": "markdown",
   "id": "f13cca1b",
   "metadata": {},
   "source": [
    "### 6048 : [기초-비교연산] 정수 2개 입력받아 비교하기1(설명)(py)"
   ]
  },
  {
   "cell_type": "code",
   "execution_count": 3,
   "id": "4ee78d8d",
   "metadata": {},
   "outputs": [
    {
     "name": "stdout",
     "output_type": "stream",
     "text": [
      "4 3\n",
      "True\n"
     ]
    }
   ],
   "source": [
    "a,b = input().split(\" \")\n",
    "a = int(a) ; b = int(b)\n",
    "print(a>b)"
   ]
  },
  {
   "cell_type": "markdown",
   "id": "cbf01eea",
   "metadata": {},
   "source": [
    "### 6049 : [기초-비교연산] 정수 2개 입력받아 비교하기2(설명)(py)"
   ]
  },
  {
   "cell_type": "code",
   "execution_count": 4,
   "id": "3244d9a5",
   "metadata": {},
   "outputs": [
    {
     "name": "stdout",
     "output_type": "stream",
     "text": [
      "4 3\n",
      "False\n"
     ]
    }
   ],
   "source": [
    "a,b = input().split(\" \")\n",
    "a = int(a) ; b = int(b)\n",
    "print(a==b)"
   ]
  },
  {
   "cell_type": "markdown",
   "id": "15869407",
   "metadata": {},
   "source": [
    "### 6050 : [기초-비교연산] 정수 2개 입력받아 비교하기3(설명)(py)"
   ]
  },
  {
   "cell_type": "code",
   "execution_count": 5,
   "id": "b9911bc3",
   "metadata": {},
   "outputs": [
    {
     "name": "stdout",
     "output_type": "stream",
     "text": [
      "4 4\n",
      "True\n"
     ]
    }
   ],
   "source": [
    "a,b = input().split(\" \")\n",
    "a = int(a) ; b = int(b)\n",
    "print(a<=b)"
   ]
  },
  {
   "cell_type": "markdown",
   "id": "37b96106",
   "metadata": {},
   "source": [
    "### 6051 : [기초-비교연산] 정수 2개 입력받아 비교하기4(설명)(py)"
   ]
  },
  {
   "cell_type": "code",
   "execution_count": 6,
   "id": "3e7721a6",
   "metadata": {},
   "outputs": [
    {
     "name": "stdout",
     "output_type": "stream",
     "text": [
      "4 4\n",
      "False\n"
     ]
    }
   ],
   "source": [
    "a,b = input().split(\" \")\n",
    "a = int(a) ; b = int(b)\n",
    "print(a!=b)"
   ]
  },
  {
   "cell_type": "markdown",
   "id": "25f08d5e",
   "metadata": {},
   "source": [
    "### 6052 : [기초-논리연산] 정수 입력받아 참 거짓 평가하기(설명)(py)\n",
    "- bool( ) 을 이용하면 입력된 식이나 값을 평가해 불 형의 값(True 또는 False)을 출력해준다.\n",
    "- 식이나 값을 계산해서 결과값이 만들어지는 것을 평가(evaluate)라고 한다.\n",
    "- python 언어에서 정수값 0은 False(거짓)로 평가되고, 그 외의 값들은 모두 True(참)로 평가된다."
   ]
  },
  {
   "cell_type": "code",
   "execution_count": 7,
   "id": "dd505f5c",
   "metadata": {},
   "outputs": [
    {
     "name": "stdout",
     "output_type": "stream",
     "text": [
      "30\n",
      "True\n"
     ]
    }
   ],
   "source": [
    "a = int(input())\n",
    "print(bool(a))"
   ]
  },
  {
   "cell_type": "markdown",
   "id": "89ea865e",
   "metadata": {},
   "source": [
    "### 6053 : [기초-논리연산] 참 거짓 바꾸기(설명)(py)\n",
    "- 정수값 0은 False 이고, 나머지 정수 값들은 True 로 평가된다.\n",
    "- 빈 문자열 \"\" 나 ''는 False 이고, 나머지 문자열들은 True 로 평가된다."
   ]
  },
  {
   "cell_type": "code",
   "execution_count": 8,
   "id": "492de7bb",
   "metadata": {},
   "outputs": [
    {
     "name": "stdout",
     "output_type": "stream",
     "text": [
      "2\n",
      "False\n"
     ]
    }
   ],
   "source": [
    "a = bool(int(input()))\n",
    "print(not a)"
   ]
  },
  {
   "cell_type": "markdown",
   "id": "96709aab",
   "metadata": {},
   "source": [
    "### 6054 : [기초-논리연산] 둘 다 참일 경우만 참 출력하기(설명)(py)\n",
    "- 논리연산 and와 동일한 것 &"
   ]
  },
  {
   "cell_type": "code",
   "execution_count": 12,
   "id": "19b4f0cc",
   "metadata": {},
   "outputs": [
    {
     "name": "stdout",
     "output_type": "stream",
     "text": [
      "3 4\n",
      "True\n"
     ]
    }
   ],
   "source": [
    "a,b = input().split()\n",
    "print(bool(int(a)) & bool(int(b)))"
   ]
  },
  {
   "cell_type": "markdown",
   "id": "d151427d",
   "metadata": {},
   "source": [
    "### 6055 : [기초-논리연산] 하나라도 참이면 참 출력하기(설명)(py)\n",
    "- 논리연산 or과 동일한 것 |"
   ]
  },
  {
   "cell_type": "code",
   "execution_count": 23,
   "id": "7af7391b",
   "metadata": {},
   "outputs": [
    {
     "name": "stdout",
     "output_type": "stream",
     "text": [
      "3 0\n",
      "True\n"
     ]
    }
   ],
   "source": [
    "a,b = input().split()\n",
    "print(bool(int(a)) | bool(int(b)))"
   ]
  },
  {
   "cell_type": "markdown",
   "id": "5a15fe99",
   "metadata": {},
   "source": [
    "### 6056 : [기초-논리연산] 참/거짓이 서로 다를 때에만 참 출력하기(설명)(py)"
   ]
  },
  {
   "cell_type": "code",
   "execution_count": 19,
   "id": "7197c53c",
   "metadata": {},
   "outputs": [
    {
     "name": "stdout",
     "output_type": "stream",
     "text": [
      "3 3\n",
      "False\n"
     ]
    }
   ],
   "source": [
    "a,b = input().split()\n",
    "print(int(a) != int(b))"
   ]
  },
  {
   "cell_type": "markdown",
   "id": "dd1e28e3",
   "metadata": {},
   "source": [
    "### 6057 : [기초-논리연산] 참/거짓이 서로 같을 때에만 참 출력하기(설명)(py)"
   ]
  },
  {
   "cell_type": "code",
   "execution_count": 20,
   "id": "cc15e34f",
   "metadata": {},
   "outputs": [
    {
     "name": "stdout",
     "output_type": "stream",
     "text": [
      "3 3\n",
      "True\n"
     ]
    }
   ],
   "source": [
    "a,b = input().split()\n",
    "print(int(a) == int(b))"
   ]
  },
  {
   "cell_type": "markdown",
   "id": "049221b0",
   "metadata": {},
   "source": [
    "### 6058 : [기초-논리연산] 둘 다 거짓일 경우만 참 출력하기(py)"
   ]
  },
  {
   "cell_type": "code",
   "execution_count": 29,
   "id": "ff7fb928",
   "metadata": {},
   "outputs": [
    {
     "name": "stdout",
     "output_type": "stream",
     "text": [
      "0 0\n",
      "True\n"
     ]
    }
   ],
   "source": [
    "a,b = input().split()\n",
    "print(not bool(int(a)) and (not bool(int(b))))"
   ]
  },
  {
   "cell_type": "markdown",
   "id": "aaf695d9",
   "metadata": {},
   "source": [
    "### 6059 : [기초-비트단위논리연산] 비트단위로 NOT 하여 출력하기(설명)(py)"
   ]
  },
  {
   "cell_type": "code",
   "execution_count": 3,
   "id": "f67903d3",
   "metadata": {},
   "outputs": [
    {
     "name": "stdout",
     "output_type": "stream",
     "text": [
      "3 5\n",
      "1\n"
     ]
    }
   ],
   "source": [
    "n = int(input())\n",
    "print(~n)"
   ]
  },
  {
   "cell_type": "markdown",
   "id": "82aefea3",
   "metadata": {},
   "source": [
    "### 6060 : [기초-비트단위논리연산] 비트단위로 AND 하여 출력하기(설명)(py)"
   ]
  },
  {
   "cell_type": "code",
   "execution_count": 5,
   "id": "f6d5c1a3",
   "metadata": {},
   "outputs": [
    {
     "name": "stdout",
     "output_type": "stream",
     "text": [
      "3 5\n",
      "1\n"
     ]
    }
   ],
   "source": [
    "a,b = input().split()\n",
    "print(int(a)&int(b))"
   ]
  },
  {
   "cell_type": "markdown",
   "id": "1d654c9b",
   "metadata": {},
   "source": [
    "### 6061 : [기초-비트단위논리연산] 비트단위로 OR 하여 출력하기(설명)(py)"
   ]
  },
  {
   "cell_type": "code",
   "execution_count": 9,
   "id": "6a4444c7",
   "metadata": {},
   "outputs": [
    {
     "name": "stdout",
     "output_type": "stream",
     "text": [
      "3 5\n",
      "7\n"
     ]
    }
   ],
   "source": [
    "a,b = input().split()\n",
    "print(int(a)|int(b))\n",
    "# print(bin(a))"
   ]
  },
  {
   "cell_type": "markdown",
   "id": "c9138054",
   "metadata": {},
   "source": [
    "### 6062 : [기초-비트단위논리연산] 비트단위로 XOR 하여 출력하기(설명)(py)\n",
    "- C언어에서는 전혀 다른 배타적 논리합(xor, 서로 다를 때 1)의 의미를 가진다.\n",
    "- 두 장의 이미지가 겹쳐졌을때 색이 다른 부분만 처리해줄때 사용가능.\n",
    "- 두 그림에서 차이만 골라내 배경 위에서 움직이는 그림의 색으로 바꿔주면 된다"
   ]
  },
  {
   "cell_type": "code",
   "execution_count": 11,
   "id": "ea9729e8",
   "metadata": {},
   "outputs": [
    {
     "name": "stdout",
     "output_type": "stream",
     "text": [
      "3 5\n",
      "6\n"
     ]
    }
   ],
   "source": [
    "a,b = input().split()\n",
    "print(int(a)^int(b))\n",
    "# print(bin(a))"
   ]
  },
  {
   "cell_type": "markdown",
   "id": "5a8d76f4",
   "metadata": {},
   "source": [
    "### 6063 : [기초-3항연산] 정수 2개 입력받아 큰 값 출력하기(설명)(py)"
   ]
  },
  {
   "cell_type": "code",
   "execution_count": 12,
   "id": "487e43f1",
   "metadata": {},
   "outputs": [
    {
     "name": "stdout",
     "output_type": "stream",
     "text": [
      "5 3\n",
      "5\n"
     ]
    }
   ],
   "source": [
    "a,b = input().split()\n",
    "a = int(a) ; b = int(b)\n",
    "c = (a if (a>=b) else b)\n",
    "print(c)"
   ]
  },
  {
   "cell_type": "markdown",
   "id": "152c6bfd",
   "metadata": {},
   "source": [
    "### 6064 : [기초-3항연산] 정수 3개 입력받아 가장 작은 값 출력하기(설명)(py)"
   ]
  },
  {
   "cell_type": "code",
   "execution_count": 23,
   "id": "421287a6",
   "metadata": {},
   "outputs": [
    {
     "name": "stdout",
     "output_type": "stream",
     "text": [
      "4 31 20\n",
      "4\n"
     ]
    }
   ],
   "source": [
    "a,b,c = input().split()\n",
    "a = int(a) ; b = int(b) ; c = int(c)\n",
    "n = ((a if a<b else b) if ((a if a<b else b) < c) else c)\n",
    "print(n)"
   ]
  },
  {
   "cell_type": "markdown",
   "id": "34cfd12c",
   "metadata": {},
   "source": [
    "### 6065 : [기초-조건/선택실행구조] 정수 3개 입력받아 짝수만 출력하기(설명)(py)"
   ]
  },
  {
   "cell_type": "code",
   "execution_count": 32,
   "id": "311bc3f2",
   "metadata": {},
   "outputs": [
    {
     "name": "stdout",
     "output_type": "stream",
     "text": [
      "3 4 5\n",
      "4\n"
     ]
    }
   ],
   "source": [
    "a,b,c = input().split()\n",
    "a = int(a) ; b = int(b) ; c = int(c)\n",
    "if a%2 == 0:\n",
    "    print(a)\n",
    "if b%2 == 0:\n",
    "    print(b)\n",
    "if c%2 == 0:\n",
    "    print(c)    "
   ]
  },
  {
   "cell_type": "markdown",
   "id": "cd50ffb8",
   "metadata": {},
   "source": [
    "### 6066 : [기초-조건/선택실행구조] 정수 3개 입력받아 짝/홀 출력하기(설명)(py)"
   ]
  },
  {
   "cell_type": "code",
   "execution_count": 27,
   "id": "eb25bbd8",
   "metadata": {},
   "outputs": [
    {
     "name": "stdout",
     "output_type": "stream",
     "text": [
      "3 4 6\n",
      "odd\n",
      "even\n",
      "even\n"
     ]
    }
   ],
   "source": [
    "a,b,c = input().split()\n",
    "a = int(a) ; b = int(b) ; c = int(c)\n",
    "for i in [a,b,c]:\n",
    "    if i % 2 == 0:\n",
    "        print(\"even\")\n",
    "    else:\n",
    "        print(\"odd\")"
   ]
  },
  {
   "cell_type": "markdown",
   "id": "e85d25c6",
   "metadata": {},
   "source": [
    "### 6067 : [기초-조건/선택실행구조] 정수 1개 입력받아 분류하기(설명)(py)\n",
    "\n",
    "음수이면서 짝수이면, A\n",
    "음수이면서 홀수이면, B\n",
    "양수이면서 짝수이면, C\n",
    "양수이면서 홀수이면, D"
   ]
  },
  {
   "cell_type": "code",
   "execution_count": 34,
   "id": "6eb1073f",
   "metadata": {},
   "outputs": [
    {
     "name": "stdout",
     "output_type": "stream",
     "text": [
      "-324\n",
      "A\n"
     ]
    }
   ],
   "source": [
    "a = int(input())\n",
    "if a % 2 == 0:\n",
    "    if a < 0:\n",
    "        print(\"A\")\n",
    "    else:\n",
    "        print(\"C\")\n",
    "else:\n",
    "    if a < 0 :\n",
    "        print(\"B\")\n",
    "    else:\n",
    "        print(\"D\")"
   ]
  },
  {
   "cell_type": "code",
   "execution_count": 51,
   "id": "7ffdb867",
   "metadata": {},
   "outputs": [
    {
     "name": "stdout",
     "output_type": "stream",
     "text": [
      "333\n",
      "D\n"
     ]
    }
   ],
   "source": [
    "# 3항 연산으로 해결하기\n",
    "a = int(input())\n",
    "((print(\"C\") if a >0 else print(\"A\")) if (a % 2 == 0) else (print(\"D\") if a > 0 else print(\"B\")))"
   ]
  },
  {
   "cell_type": "markdown",
   "id": "9cb83903",
   "metadata": {},
   "source": [
    "### 6068 : [기초-조건/선택실행구조] 점수 입력받아 평가 출력하기(설명)(py)"
   ]
  },
  {
   "cell_type": "code",
   "execution_count": 53,
   "id": "69cfc1f7",
   "metadata": {},
   "outputs": [
    {
     "name": "stdout",
     "output_type": "stream",
     "text": [
      "30\n",
      "D\n"
     ]
    }
   ],
   "source": [
    "a = int(input())\n",
    "if a>=90:\n",
    "    print(\"A\")\n",
    "elif a>=70:\n",
    "    print(\"B\")\n",
    "elif a>=40:\n",
    "    print(\"C\")\n",
    "else:\n",
    "    print(\"D\")"
   ]
  },
  {
   "cell_type": "markdown",
   "id": "e578849e",
   "metadata": {},
   "source": [
    "### 6069 : [기초-조건/선택실행구조] 평가 입력받아 다르게 출력하기(py)"
   ]
  },
  {
   "cell_type": "code",
   "execution_count": 57,
   "id": "aefc3245",
   "metadata": {},
   "outputs": [
    {
     "name": "stdout",
     "output_type": "stream",
     "text": [
      "A\n",
      "best!!!\n"
     ]
    }
   ],
   "source": [
    "a = input()\n",
    "\n",
    "if a == \"A\":\n",
    "    print(\"best!!!\")\n",
    "elif a == \"B\":\n",
    "    print(\"good!!\")\n",
    "elif a == \"C\":\n",
    "    print(\"run!\")\n",
    "elif a == \"D\":\n",
    "    print(\"slowly~\")\n",
    "else:\n",
    "    print(\"what?\")"
   ]
  },
  {
   "cell_type": "markdown",
   "id": "791629ad",
   "metadata": {},
   "source": [
    "### 6070 : [기초-조건/선택실행구조] 월 입력받아 계절 출력하기(설명)(py)"
   ]
  },
  {
   "cell_type": "code",
   "execution_count": 58,
   "id": "c62bad80",
   "metadata": {},
   "outputs": [
    {
     "name": "stdout",
     "output_type": "stream",
     "text": [
      "12\n",
      "winter\n"
     ]
    }
   ],
   "source": [
    "n = int(input())\n",
    "if n//3 == 1:\n",
    "    print(\"spring\")\n",
    "elif n//3 == 2:\n",
    "    print(\"summer\")\n",
    "elif n//3 == 3:\n",
    "    print(\"fall\")\n",
    "else:\n",
    "    print(\"winter\")"
   ]
  },
  {
   "cell_type": "code",
   "execution_count": null,
   "id": "5f30ac04",
   "metadata": {},
   "outputs": [],
   "source": []
  },
  {
   "cell_type": "code",
   "execution_count": null,
   "id": "6bad9212",
   "metadata": {},
   "outputs": [],
   "source": []
  },
  {
   "cell_type": "code",
   "execution_count": null,
   "id": "b6d42ac8",
   "metadata": {},
   "outputs": [],
   "source": []
  },
  {
   "cell_type": "code",
   "execution_count": null,
   "id": "40b21c3e",
   "metadata": {},
   "outputs": [],
   "source": []
  }
 ],
 "metadata": {
  "kernelspec": {
   "display_name": "Python 3",
   "language": "python",
   "name": "python3"
  },
  "language_info": {
   "codemirror_mode": {
    "name": "ipython",
    "version": 3
   },
   "file_extension": ".py",
   "mimetype": "text/x-python",
   "name": "python",
   "nbconvert_exporter": "python",
   "pygments_lexer": "ipython3",
   "version": "3.8.8"
  }
 },
 "nbformat": 4,
 "nbformat_minor": 5
}
