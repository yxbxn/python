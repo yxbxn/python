{
 "cells": [
  {
   "cell_type": "markdown",
   "id": "f17fb78b",
   "metadata": {},
   "source": [
    "# 코드업 알고리즘 기초 100제"
   ]
  },
  {
   "cell_type": "markdown",
   "id": "8c9d034d",
   "metadata": {},
   "source": [
    "### 6005\n",
    "이번에는 큰따옴표(\")(double quotation mark)가 포함된 출력문을 연습해보자.\n",
    "\n",
    "다음 문장을 출력하시오.\n",
    "\n",
    "\"Hello World\"\n",
    "(단, 큰따옴표도 함께 출력한다.)"
   ]
  },
  {
   "cell_type": "code",
   "execution_count": 75,
   "id": "64bb672b",
   "metadata": {},
   "outputs": [
    {
     "name": "stdout",
     "output_type": "stream",
     "text": [
      "\"Hello World\"\n",
      "\"Hello World\"\n"
     ]
    }
   ],
   "source": [
    "print('\"Hello World\"')\n",
    "\n",
    "# 기본적인 print()문을 이용할 때, 따옴표 및 특수문자 출력하는 방법\n",
    "# \\(back slash) 이용해서 출력하기 -> \\\" or \\' \n",
    "# back slash 뒤에 위치시키기\n",
    "print(\"\\\"Hello World\\\"\")"
   ]
  },
  {
   "cell_type": "markdown",
   "id": "91aac6d0",
   "metadata": {},
   "source": [
    "### 6006\n",
    "이번에는 특수문자 출력에 도전하자!!\n",
    "\n",
    "다음 문장을 출력하시오.\n",
    "\n",
    "\"!@#$%^&*()'\n",
    "(단, 큰따옴표와 작은따옴표도 함께 출력한다.)"
   ]
  },
  {
   "cell_type": "code",
   "execution_count": 8,
   "id": "67b90030",
   "metadata": {},
   "outputs": [
    {
     "name": "stdout",
     "output_type": "stream",
     "text": [
      "\"!@#$%^&*()'\n"
     ]
    }
   ],
   "source": [
    "print(\"\\\"!@#$%^&*()\\'\")\n",
    "# 6005번과 유사하게 back slash 이용하기"
   ]
  },
  {
   "cell_type": "markdown",
   "id": "538ea712",
   "metadata": {},
   "source": [
    "### 6007\n",
    "윈도우 운영체제의 파일 경로를 출력하는 연습을 해보자.\n",
    " \n",
    "파일 경로에는 특수문자들이 포함된다.\n",
    "\n",
    "다음 경로를 출력하시오.\n",
    "\n",
    "\"C:\\\\Download\\\\'hello'.py\"\n",
    "(단, 따옴표도 함께 출력한다.)"
   ]
  },
  {
   "cell_type": "code",
   "execution_count": 18,
   "id": "679519f6",
   "metadata": {},
   "outputs": [
    {
     "name": "stdout",
     "output_type": "stream",
     "text": [
      "\"C:\\Download\\'hello'.py\"\n"
     ]
    }
   ],
   "source": [
    "print(\"\\\"C:\\\\Download\\\\'hello'.py\\\"\")\n",
    "# \\도 안전하게 출력하려면 \\\\를 사용하는 것이 좋다.\n",
    "# back slash를 문자열로 포함시켜서 출력하기 위해서 back slash 두번 나열하기"
   ]
  },
  {
   "cell_type": "markdown",
   "id": "916d7533",
   "metadata": {},
   "source": [
    "### 6008\n",
    "이번에는 다음과 같은 python프로그램의 소스코드를 출력해보자.\n",
    "\n",
    "print(\"Hello\\nWorld\")\n",
    "\n",
    "위 코드를 정확히 그대로 출력하시오.(공백문자 주의)\n",
    "\n",
    " \n",
    "\n",
    "print 명령 안에 서식 문자로 \\n을 사용하면 줄 바꿈(new line) 문자로 사용된다.\n",
    "\n",
    "그렇다면 \\n을 화면에 그대로 출력하려면 어떻게 해야될까?"
   ]
  },
  {
   "cell_type": "code",
   "execution_count": 32,
   "id": "9efa2503",
   "metadata": {},
   "outputs": [
    {
     "name": "stdout",
     "output_type": "stream",
     "text": [
      "print(\"Hello\\nWorld\")\n"
     ]
    }
   ],
   "source": [
    "print(\"print(\\\"Hello\\\\nWorld\\\")\")\n",
    "# \\n을 화면에 그대로 출력하기 위해 \\\\n\n",
    "# back slash 2번 사용하기"
   ]
  },
  {
   "cell_type": "markdown",
   "id": "ada348e2",
   "metadata": {},
   "source": [
    "### 6009\n",
    "https://codeup.kr/problem.php?id=6009"
   ]
  },
  {
   "cell_type": "code",
   "execution_count": 35,
   "id": "c5997be2",
   "metadata": {},
   "outputs": [
    {
     "name": "stdout",
     "output_type": "stream",
     "text": [
      "3\n",
      "3\n"
     ]
    }
   ],
   "source": [
    "c = input()\n",
    "print(c)"
   ]
  },
  {
   "cell_type": "markdown",
   "id": "2b1121d7",
   "metadata": {},
   "source": [
    "### 6010 : : 정수 1개 입력받아 변환하여 출력하기\n",
    "https://codeup.kr/problem.php?id=6010"
   ]
  },
  {
   "cell_type": "code",
   "execution_count": 39,
   "id": "8c817035",
   "metadata": {},
   "outputs": [
    {
     "name": "stdout",
     "output_type": "stream",
     "text": [
      "3\n",
      "3\n"
     ]
    }
   ],
   "source": [
    "n = int(input())\n",
    "print(n)"
   ]
  },
  {
   "cell_type": "markdown",
   "id": "4e3fdf68",
   "metadata": {},
   "source": [
    "### 6011 : : [기초-입출력] 실수 1개 입력받아 변환하여 출력하기(설명)(py)\n",
    "https://codeup.kr/problem.php?id=6011"
   ]
  },
  {
   "cell_type": "code",
   "execution_count": 37,
   "id": "f9782f98",
   "metadata": {},
   "outputs": [
    {
     "name": "stdout",
     "output_type": "stream",
     "text": [
      "3.2\n",
      "3.2\n"
     ]
    }
   ],
   "source": [
    "n = float(input())\n",
    "print(n)"
   ]
  },
  {
   "cell_type": "markdown",
   "id": "794aed01",
   "metadata": {},
   "source": [
    "### 6012 : [기초-입출력] 정수 2개 입력받아 그대로 출력하기1(설명)(py)\n",
    "https://codeup.kr/problem.php?id=6012"
   ]
  },
  {
   "cell_type": "code",
   "execution_count": 43,
   "id": "bf2faec6",
   "metadata": {},
   "outputs": [
    {
     "name": "stdout",
     "output_type": "stream",
     "text": [
      "34\n",
      "34\n",
      "45\n",
      "45\n"
     ]
    }
   ],
   "source": [
    "print(int(input()))\n",
    "print(int(input()))\n",
    "\n",
    "# int()를 통해서 정수를 입력받고 출력하기"
   ]
  },
  {
   "cell_type": "markdown",
   "id": "f6bc20f9",
   "metadata": {},
   "source": [
    "### 6013 : [기초-입출력] 문자 2개 입력받아 순서 바꿔 출력하기1(py)\n",
    "https://codeup.kr/problem.php?id=6013"
   ]
  },
  {
   "cell_type": "code",
   "execution_count": 47,
   "id": "3e07bdc6",
   "metadata": {},
   "outputs": [
    {
     "name": "stdout",
     "output_type": "stream",
     "text": [
      "3\n",
      "4\n",
      "4\n",
      "3\n"
     ]
    }
   ],
   "source": [
    "a = str(input())\n",
    "b = str(input())\n",
    "print(b)\n",
    "print(a)"
   ]
  },
  {
   "cell_type": "markdown",
   "id": "5692542b",
   "metadata": {},
   "source": [
    "### 6014 : [기초-입출력] 실수 1개 입력받아 3번 출력하기\n",
    "https://codeup.kr/problem.php?id=6014"
   ]
  },
  {
   "cell_type": "code",
   "execution_count": 48,
   "id": "a021f9d5",
   "metadata": {},
   "outputs": [
    {
     "name": "stdout",
     "output_type": "stream",
     "text": [
      "3\n",
      "3.0\n",
      "3.0\n",
      "3.0\n"
     ]
    }
   ],
   "source": [
    "a = float(input())\n",
    "for i in range(3):\n",
    "    print(a)"
   ]
  },
  {
   "cell_type": "markdown",
   "id": "09f9e703",
   "metadata": {},
   "source": [
    "### 6015 : [기초-입출력] 정수 2개 입력받아 그대로 출력하기2(설명)(py)\n",
    "https://codeup.kr/problem.php?id=6015"
   ]
  },
  {
   "cell_type": "code",
   "execution_count": 57,
   "id": "c2c39b8b",
   "metadata": {},
   "outputs": [
    {
     "name": "stdout",
     "output_type": "stream",
     "text": [
      "3 4\n",
      "3\n",
      "4\n"
     ]
    }
   ],
   "source": [
    "a,b = input().split()\n",
    "print(int(a))\n",
    "print(int(b))"
   ]
  },
  {
   "cell_type": "markdown",
   "id": "ef14bd46",
   "metadata": {},
   "source": [
    "### 6016 : [기초-입출력] 문자 2개 입력받아 순서 바꿔 출력하기2(설명)(py)\n",
    "https://codeup.kr/problem.php?id=6016"
   ]
  },
  {
   "cell_type": "code",
   "execution_count": 59,
   "id": "27020519",
   "metadata": {},
   "outputs": [
    {
     "name": "stdout",
     "output_type": "stream",
     "text": [
      "바 보\n",
      "보 바\n"
     ]
    }
   ],
   "source": [
    "a,b = input().split()\n",
    "print(b,a)"
   ]
  },
  {
   "cell_type": "markdown",
   "id": "4e3c5c50",
   "metadata": {},
   "source": [
    "### 6017 : [기초-입출력] 문장 1개 입력받아 3번 출력하기(설명)(py)\n",
    "https://codeup.kr/problem.php?id=6017"
   ]
  },
  {
   "cell_type": "code",
   "execution_count": 60,
   "id": "f948b23c",
   "metadata": {},
   "outputs": [
    {
     "name": "stdout",
     "output_type": "stream",
     "text": [
      "3\n",
      "3 3 3\n"
     ]
    }
   ],
   "source": [
    "s = input()\n",
    "print(s,s,s)"
   ]
  },
  {
   "cell_type": "markdown",
   "id": "144687c2",
   "metadata": {},
   "source": [
    "### 6018 : [기초-입출력] 시간 입력받아 그대로 출력하기(설명)(py)\n",
    "https://codeup.kr/problem.php?id=6018"
   ]
  },
  {
   "cell_type": "code",
   "execution_count": 64,
   "id": "7ca842bb",
   "metadata": {},
   "outputs": [
    {
     "name": "stdout",
     "output_type": "stream",
     "text": [
      "24:08\n",
      "24:08\n"
     ]
    }
   ],
   "source": [
    "a,b = input().split(\":\")\n",
    "print(a,b,sep=\":\")\n",
    "# print에 sep = \":\"이 있으면 콜론 :을 사이에 두고 a와 b를 출력한다\n",
    "# sep는 분류기호(seperator)를 의미한다"
   ]
  },
  {
   "cell_type": "markdown",
   "id": "e8a61a1e",
   "metadata": {},
   "source": [
    "### 6019 : [기초-입출력] 연월일 입력받아 순서 바꿔 출력하기(py)\n",
    "https://codeup.kr/problem.php?id=6019"
   ]
  },
  {
   "cell_type": "code",
   "execution_count": 65,
   "id": "3fed8415",
   "metadata": {},
   "outputs": [
    {
     "name": "stdout",
     "output_type": "stream",
     "text": [
      "2022.08.31\n",
      "2022-08-31\n"
     ]
    }
   ],
   "source": [
    "y,m,d = input().split(\".\")\n",
    "print(d,m,y,sep=\"-\")"
   ]
  },
  {
   "cell_type": "markdown",
   "id": "b80e6c5b",
   "metadata": {},
   "source": [
    "### 6020 : [기초-입출력] 주민번호 입력받아 형태 바꿔 출력하기(py)\n",
    "https://codeup.kr/problem.php?id=6020"
   ]
  },
  {
   "cell_type": "code",
   "execution_count": 69,
   "id": "e4b65a50",
   "metadata": {},
   "outputs": [
    {
     "name": "stdout",
     "output_type": "stream",
     "text": [
      "9099999934-343434\n",
      "9099999934343434\n"
     ]
    }
   ],
   "source": [
    "a,b = input().split(\"-\")\n",
    "print(a+b)\n",
    "# 출력시 분류기호(seperator)를 \"\" 공백으로 설정해도 된다"
   ]
  },
  {
   "cell_type": "markdown",
   "id": "89dd03d5",
   "metadata": {},
   "source": [
    "### 6021 : [기초-입출력] 단어 1개 입력받아 나누어 출력하기(설명)(py)\n",
    "https://codeup.kr/problem.php?id=6021"
   ]
  },
  {
   "cell_type": "code",
   "execution_count": 72,
   "id": "9b6e633a",
   "metadata": {},
   "outputs": [
    {
     "name": "stdout",
     "output_type": "stream",
     "text": [
      "기초입출력\n",
      "기\n",
      "초\n",
      "입\n",
      "출\n",
      "력\n"
     ]
    }
   ],
   "source": [
    "s = input()\n",
    "for i in s:\n",
    "    print(i)\n",
    "    \n",
    "    \n",
    "s = input()\n",
    "print(s[0])"
   ]
  },
  {
   "cell_type": "markdown",
   "id": "4f979e1b",
   "metadata": {},
   "source": [
    "### 6022 : [기초-입출력] 연월일 입력받아 나누어 출력하기(설명)(py)\n",
    "https://codeup.kr/problem.php?id=6021"
   ]
  },
  {
   "cell_type": "code",
   "execution_count": 74,
   "id": "92c87d30",
   "metadata": {},
   "outputs": [
    {
     "name": "stdout",
     "output_type": "stream",
     "text": [
      "990110\n",
      "99 01 10\n"
     ]
    }
   ],
   "source": [
    "s = input()\n",
    "print(s[0:2],s[2:4],s[4:6])"
   ]
  },
  {
   "cell_type": "markdown",
   "id": "59c94b40",
   "metadata": {},
   "source": [
    "### 6023 : [기초-입출력] 시분초 입력받아 분만 출력하기(py)\n",
    "https://codeup.kr/problem.php?id=6023"
   ]
  },
  {
   "cell_type": "code",
   "execution_count": 77,
   "id": "ee448fdc",
   "metadata": {},
   "outputs": [
    {
     "name": "stdout",
     "output_type": "stream",
     "text": [
      "32:34:52\n",
      "34\n"
     ]
    }
   ],
   "source": [
    "a,b,c = input().split(\":\")\n",
    "print(b"
   ]
  },
  {
   "cell_type": "code",
   "execution_count": null,
   "id": "d3fb5e72",
   "metadata": {},
   "outputs": [],
   "source": []
  },
  {
   "cell_type": "code",
   "execution_count": null,
   "id": "b61283c9",
   "metadata": {},
   "outputs": [],
   "source": []
  },
  {
   "cell_type": "code",
   "execution_count": null,
   "id": "84ae1d6e",
   "metadata": {},
   "outputs": [],
   "source": []
  },
  {
   "cell_type": "code",
   "execution_count": null,
   "id": "0be01a4c",
   "metadata": {},
   "outputs": [],
   "source": []
  },
  {
   "cell_type": "code",
   "execution_count": null,
   "id": "dc7a6b87",
   "metadata": {},
   "outputs": [],
   "source": []
  },
  {
   "cell_type": "code",
   "execution_count": null,
   "id": "32008a54",
   "metadata": {},
   "outputs": [],
   "source": []
  },
  {
   "cell_type": "code",
   "execution_count": null,
   "id": "18377594",
   "metadata": {},
   "outputs": [],
   "source": []
  },
  {
   "cell_type": "code",
   "execution_count": null,
   "id": "67c48067",
   "metadata": {},
   "outputs": [],
   "source": []
  },
  {
   "cell_type": "code",
   "execution_count": null,
   "id": "9aac5026",
   "metadata": {},
   "outputs": [],
   "source": []
  },
  {
   "cell_type": "code",
   "execution_count": null,
   "id": "b1c93569",
   "metadata": {},
   "outputs": [],
   "source": []
  },
  {
   "cell_type": "code",
   "execution_count": null,
   "id": "4cc1bf02",
   "metadata": {},
   "outputs": [],
   "source": []
  },
  {
   "cell_type": "code",
   "execution_count": null,
   "id": "d084a116",
   "metadata": {},
   "outputs": [],
   "source": []
  },
  {
   "cell_type": "code",
   "execution_count": null,
   "id": "ac64a6f0",
   "metadata": {},
   "outputs": [],
   "source": []
  },
  {
   "cell_type": "code",
   "execution_count": null,
   "id": "14bb2037",
   "metadata": {},
   "outputs": [],
   "source": []
  },
  {
   "cell_type": "code",
   "execution_count": null,
   "id": "6cdf4b9f",
   "metadata": {},
   "outputs": [],
   "source": []
  },
  {
   "cell_type": "code",
   "execution_count": null,
   "id": "47f127be",
   "metadata": {},
   "outputs": [],
   "source": []
  },
  {
   "cell_type": "code",
   "execution_count": null,
   "id": "53a98a63",
   "metadata": {},
   "outputs": [],
   "source": []
  },
  {
   "cell_type": "code",
   "execution_count": null,
   "id": "81a3b8aa",
   "metadata": {},
   "outputs": [],
   "source": []
  },
  {
   "cell_type": "code",
   "execution_count": null,
   "id": "17285b2d",
   "metadata": {},
   "outputs": [],
   "source": []
  },
  {
   "cell_type": "code",
   "execution_count": null,
   "id": "ba87a5dc",
   "metadata": {},
   "outputs": [],
   "source": []
  },
  {
   "cell_type": "code",
   "execution_count": null,
   "id": "59a013d0",
   "metadata": {},
   "outputs": [],
   "source": []
  },
  {
   "cell_type": "code",
   "execution_count": null,
   "id": "11ae5388",
   "metadata": {},
   "outputs": [],
   "source": []
  },
  {
   "cell_type": "code",
   "execution_count": null,
   "id": "f2366d40",
   "metadata": {},
   "outputs": [],
   "source": []
  },
  {
   "cell_type": "code",
   "execution_count": null,
   "id": "145efadf",
   "metadata": {},
   "outputs": [],
   "source": []
  },
  {
   "cell_type": "code",
   "execution_count": null,
   "id": "df979e2b",
   "metadata": {},
   "outputs": [],
   "source": []
  },
  {
   "cell_type": "code",
   "execution_count": null,
   "id": "785e7f48",
   "metadata": {},
   "outputs": [],
   "source": []
  },
  {
   "cell_type": "code",
   "execution_count": null,
   "id": "aa567af0",
   "metadata": {},
   "outputs": [],
   "source": []
  },
  {
   "cell_type": "code",
   "execution_count": null,
   "id": "2270af01",
   "metadata": {},
   "outputs": [],
   "source": []
  },
  {
   "cell_type": "code",
   "execution_count": null,
   "id": "a084e3d6",
   "metadata": {},
   "outputs": [],
   "source": []
  },
  {
   "cell_type": "code",
   "execution_count": null,
   "id": "528c9f61",
   "metadata": {},
   "outputs": [],
   "source": []
  },
  {
   "cell_type": "code",
   "execution_count": null,
   "id": "df99dc00",
   "metadata": {},
   "outputs": [],
   "source": []
  },
  {
   "cell_type": "code",
   "execution_count": null,
   "id": "4b1b7989",
   "metadata": {},
   "outputs": [],
   "source": []
  },
  {
   "cell_type": "code",
   "execution_count": null,
   "id": "565e0aee",
   "metadata": {},
   "outputs": [],
   "source": []
  },
  {
   "cell_type": "code",
   "execution_count": null,
   "id": "b777fb5c",
   "metadata": {},
   "outputs": [],
   "source": []
  },
  {
   "cell_type": "code",
   "execution_count": null,
   "id": "9807938e",
   "metadata": {},
   "outputs": [],
   "source": []
  },
  {
   "cell_type": "code",
   "execution_count": null,
   "id": "8c00981f",
   "metadata": {},
   "outputs": [],
   "source": []
  },
  {
   "cell_type": "code",
   "execution_count": null,
   "id": "6ac7e2af",
   "metadata": {},
   "outputs": [],
   "source": []
  }
 ],
 "metadata": {
  "kernelspec": {
   "display_name": "Python 3",
   "language": "python",
   "name": "python3"
  },
  "language_info": {
   "codemirror_mode": {
    "name": "ipython",
    "version": 3
   },
   "file_extension": ".py",
   "mimetype": "text/x-python",
   "name": "python",
   "nbconvert_exporter": "python",
   "pygments_lexer": "ipython3",
   "version": "3.8.8"
  }
 },
 "nbformat": 4,
 "nbformat_minor": 5
}
