{
 "cells": [
  {
   "cell_type": "markdown",
   "id": "fa8907bc",
   "metadata": {},
   "source": [
    "### xlsx 파일에서 뉴스 링크 가져오기\n",
    "- 경향신문"
   ]
  },
  {
   "cell_type": "code",
   "execution_count": 27,
   "id": "987612de",
   "metadata": {},
   "outputs": [],
   "source": [
    "import pandas as pd\n",
    "import warnings\n",
    "warnings.filterwarnings(\"ignore\")\n",
    "\n",
    "\n",
    "file = pd.read_excel(\"NewsResult_20220216-20220516.xlsx\")[[\"일자\",\"언론사\",\"기고자\",\"제목\",\"키워드\",\"URL\"]]\n",
    "# URL 컬럼 존재"
   ]
  },
  {
   "cell_type": "code",
   "execution_count": 28,
   "id": "022251bb",
   "metadata": {},
   "outputs": [
    {
     "data": {
      "text/html": [
       "<div>\n",
       "<style scoped>\n",
       "    .dataframe tbody tr th:only-of-type {\n",
       "        vertical-align: middle;\n",
       "    }\n",
       "\n",
       "    .dataframe tbody tr th {\n",
       "        vertical-align: top;\n",
       "    }\n",
       "\n",
       "    .dataframe thead th {\n",
       "        text-align: right;\n",
       "    }\n",
       "</style>\n",
       "<table border=\"1\" class=\"dataframe\">\n",
       "  <thead>\n",
       "    <tr style=\"text-align: right;\">\n",
       "      <th></th>\n",
       "      <th>일자</th>\n",
       "      <th>언론사</th>\n",
       "      <th>기고자</th>\n",
       "      <th>제목</th>\n",
       "      <th>키워드</th>\n",
       "      <th>URL</th>\n",
       "    </tr>\n",
       "  </thead>\n",
       "  <tbody>\n",
       "    <tr>\n",
       "      <th>0</th>\n",
       "      <td>20220516</td>\n",
       "      <td>경향신문</td>\n",
       "      <td>윤은용 기자 plaimstone@kyunghyang.com</td>\n",
       "      <td>지소연 ‘아름다운 피날레’</td>\n",
       "      <td>지소연,피날레,잉글랜드,FA,맨시티,제압,첼시,2관왕,동행,마침표,찍어,에이스,한국...</td>\n",
       "      <td>https://www.khan.co.kr/sports/football/article...</td>\n",
       "    </tr>\n",
       "    <tr>\n",
       "      <th>1</th>\n",
       "      <td>20220516</td>\n",
       "      <td>경향신문</td>\n",
       "      <td>윤은용 기자 plaimstone@kyunghyang.com</td>\n",
       "      <td>‘우리’와 4년 더 위성우 감독, 14시즌 동행 계약</td>\n",
       "      <td>감독,위성우,계약,시즌,동행,여자,프로,농구,역대,최고,명장,위성우,아산,우리은행,...</td>\n",
       "      <td>https://www.khan.co.kr/sports/basketball-volle...</td>\n",
       "    </tr>\n",
       "    <tr>\n",
       "      <th>2</th>\n",
       "      <td>20220516</td>\n",
       "      <td>경향신문</td>\n",
       "      <td>황민국 기자 stylelomo@kyunghyang.com</td>\n",
       "      <td>한국, 중국이 포기한 ‘아시안컵’ 유치 재도전 나선다</td>\n",
       "      <td>한국,중국,포기,아시안컵,유치,중국,확산,코로나,급속,개최,반납,축구협회,실무회의,...</td>\n",
       "      <td>https://www.khan.co.kr/sports/football/article...</td>\n",
       "    </tr>\n",
       "  </tbody>\n",
       "</table>\n",
       "</div>"
      ],
      "text/plain": [
       "         일자   언론사                               기고자  \\\n",
       "0  20220516  경향신문  윤은용 기자 plaimstone@kyunghyang.com   \n",
       "1  20220516  경향신문  윤은용 기자 plaimstone@kyunghyang.com   \n",
       "2  20220516  경향신문   황민국 기자 stylelomo@kyunghyang.com   \n",
       "\n",
       "                              제목  \\\n",
       "0                 지소연 ‘아름다운 피날레’   \n",
       "1  ‘우리’와 4년 더 위성우 감독, 14시즌 동행 계약   \n",
       "2  한국, 중국이 포기한 ‘아시안컵’ 유치 재도전 나선다   \n",
       "\n",
       "                                                 키워드  \\\n",
       "0  지소연,피날레,잉글랜드,FA,맨시티,제압,첼시,2관왕,동행,마침표,찍어,에이스,한국...   \n",
       "1  감독,위성우,계약,시즌,동행,여자,프로,농구,역대,최고,명장,위성우,아산,우리은행,...   \n",
       "2  한국,중국,포기,아시안컵,유치,중국,확산,코로나,급속,개최,반납,축구협회,실무회의,...   \n",
       "\n",
       "                                                 URL  \n",
       "0  https://www.khan.co.kr/sports/football/article...  \n",
       "1  https://www.khan.co.kr/sports/basketball-volle...  \n",
       "2  https://www.khan.co.kr/sports/football/article...  "
      ]
     },
     "execution_count": 28,
     "metadata": {},
     "output_type": "execute_result"
    }
   ],
   "source": [
    "file.head(3)"
   ]
  },
  {
   "cell_type": "markdown",
   "id": "8b1012e3",
   "metadata": {},
   "source": [
    "### 신문사 결합한 크롤링 코드"
   ]
  },
  {
   "cell_type": "code",
   "execution_count": 23,
   "id": "5e7f80aa",
   "metadata": {},
   "outputs": [],
   "source": [
    "import urllib.request\n",
    "from urllib.parse import quote\n",
    "from urllib.request import Request, urlopen\n",
    "from bs4 import BeautifulSoup\n",
    "import requests\n",
    "import openpyxl\n",
    "from openpyxl import Workbook\n",
    "import pandas as pd\n",
    "from openpyxl.utils.dataframe import dataframe_to_rows"
   ]
  },
  {
   "cell_type": "code",
   "execution_count": 34,
   "id": "85b93dd0",
   "metadata": {},
   "outputs": [],
   "source": [
    "soup_dict = {\"동아일보\":\"div.article_txt\",\n",
    "            \"중앙일보\":\"div.article_body\",\n",
    "            \"한겨례\":\"div.text\"}\n",
    "\n",
    "# 경향신문만 다르게\n",
    "\n",
    "\n",
    "def Crawl_news(category, URL):\n",
    "    \n",
    "    response = requests.get(URL)\n",
    "    html = response.text\n",
    "    \n",
    "    if category == \"경향신문\":\n",
    "        req = Request(URL, headers={'User-Agent': 'Mozilla/5.0'})\n",
    "        source_code_from_url = urlopen(req).read()\n",
    "\n",
    "        soup = BeautifulSoup(source_code_from_url,\"html.parser\")\n",
    "        content = soup.select_one(f\"div.art_body\").text\n",
    "        \n",
    "    else:\n",
    "        soup = BeautifulSoup(html,\"html.parser\")\n",
    "\n",
    "        tag = soup_dict[category] # 각 신문사별 태그명\n",
    "\n",
    "        content = soup.select_one(tag).text\n",
    "\n",
    "    return content"
   ]
  },
  {
   "cell_type": "code",
   "execution_count": null,
   "id": "5af3fcc6",
   "metadata": {},
   "outputs": [],
   "source": [
    "import time\n",
    "from tqdm import tqdm\n",
    "\n",
    "content_lst = []\n",
    "\n",
    "for index,row in tqdm(file.iterrows(), total = file.shape[0]):\n",
    "    content = Crawl_news(row[\"언론사\"], row[\"URL\"])\n",
    "    content_lst.append(content)"
   ]
  },
  {
   "cell_type": "markdown",
   "id": "e077950d",
   "metadata": {},
   "source": [
    "# 크롤링 관련 글"
   ]
  },
  {
   "cell_type": "markdown",
   "id": "022da918",
   "metadata": {},
   "source": [
    "- 링크 : https://playthegame00.tistory.com/59\n",
    "- meta content 태그에 있는 텍스트는 전문이 아님"
   ]
  },
  {
   "cell_type": "code",
   "execution_count": 10,
   "id": "ab132ade",
   "metadata": {},
   "outputs": [],
   "source": [
    "from bs4 import BeautifulSoup\n",
    "import requests\n",
    "import openpyxl\n",
    "from openpyxl import Workbook\n",
    "import pandas as pd\n",
    "from openpyxl.utils.dataframe import dataframe_to_rows\n",
    "\n",
    "\n",
    "wb = Workbook()\n",
    "sheet = wb.active"
   ]
  },
  {
   "cell_type": "code",
   "execution_count": 17,
   "id": "06eb0afc",
   "metadata": {},
   "outputs": [],
   "source": [
    "url = \"https://www.donga.com/news/article/all/20220515/113400207/2\"\n",
    "response = requests.get(\"https://www.donga.com/news/article/all/20220515/113400207/2\")\n",
    "\n",
    "# text 메소드로 태그 내 텍스트만 추출\n",
    "html = response.text"
   ]
  },
  {
   "cell_type": "code",
   "execution_count": 18,
   "id": "89ae4144",
   "metadata": {},
   "outputs": [
    {
     "name": "stdout",
     "output_type": "stream",
     "text": [
      "<meta content=\"박지현 더불어민주당 공동비상대책위원장이 이준석 국민의힘 대표의 성 상납 의혹을 ‘개인 사생활 문제’라며 옹호한 권성동 국민의힘 원내대표를 향해 “성상납은 사생활이 아니라 범죄 행…\" name=\"description\"/>\n"
     ]
    }
   ],
   "source": [
    "soup = BeautifulSoup(html,\"html.parser\")\n",
    "print(soup.head.find(\"meta\",{\"name\":\"description\"}))"
   ]
  },
  {
   "cell_type": "markdown",
   "id": "97c26fa6",
   "metadata": {},
   "source": [
    "- 링크 : https://velog.io/@macang15/%EB%84%A4%EC%9D%B4%EB%B2%84-%EB%89%B4%EC%8A%A4-%EA%B8%B0%EC%82%AC-%EC%A0%9C%EB%AA%A9%EB%82%A0%EC%A7%9C%EB%B3%B8%EB%AC%B8%EB%8C%93%EA%B8%80-%ED%81%AC%EB%A1%A4%EB%A7%81-%ED%95%98%EA%B8%B0-%ED%8C%8C%EC%9D%B4%EC%8D%AC-%EA%B8%B0%EA%B0%84-%EC%84%A4%EC%A0%95-%EC%96%B8%EB%A1%A0%EC%82%AC-%EC%84%A4%EC%A0%95\n",
    "- 동아일보 크롤링 성공"
   ]
  },
  {
   "cell_type": "code",
   "execution_count": 19,
   "id": "c54ec04c",
   "metadata": {},
   "outputs": [],
   "source": [
    "soup = BeautifulSoup(html,\"html.parser\")\n",
    "\n",
    "# 뉴스기사 전문 크롤링\n",
    "content = soup.select_one(\"div.article_txt\").text\n",
    "title = soup.head.find(\"meta\",{\"property\":\"og:title\"}).get(\"content\")\n",
    "date = soup.head.find(\"meta\",{\"property\":\"dd:published_time\"}).get(\"content\")\n",
    "\n",
    "# 뉴스기사 제목, 날짜"
   ]
  },
  {
   "cell_type": "code",
   "execution_count": 20,
   "id": "4a6245b6",
   "metadata": {},
   "outputs": [],
   "source": [
    "wb = Workbook()\n",
    "sheet = wb.active\n",
    "sheet.append(['발행일','기사제목',\"URL\",'내용'])\n",
    "sheet.append([date, title,url,content])"
   ]
  },
  {
   "cell_type": "code",
   "execution_count": 21,
   "id": "bda55f08",
   "metadata": {},
   "outputs": [],
   "source": [
    "wb.save(filename=\"1월.csv\")"
   ]
  },
  {
   "cell_type": "code",
   "execution_count": 22,
   "id": "983cf5fc",
   "metadata": {},
   "outputs": [
    {
     "data": {
      "text/plain": [
       "'\\n박지현 더불어민주당 공동비상대책위원장이 이준석 국민의힘 대표의 성 상납 의혹을 ‘개인 사생활 문제’라며 옹호한 권성동 국민의힘 원내대표를 향해 “성상납은 사생활이 아니라 범죄 행위”라며 “수준이하”라고 직격했다. 박 위원장은 14일 오후 이광재 강원지사 후보 선거사무소 개소식에 참석해 인사말을 통해 “제가 민주당을 비판하려거든 이 대표 성 상납부터 징계하라고 했더니 (권 원내대표가) ‘성상납을 받는 것은 사생활’이라고 한다”며 이같이 말했다.그러면서 “이런 수준 이하 선수를 강원도에서 완전히 몰아내기 위해서라도 우리는 반드시 이겨야 한다”고 강조했다. 또 “이 사람(권성동 원내대표)이 강원도 사람이라는 것이 솔직히 조금 창피한 마음”이라고 비판했다. \\n\\n 앞서 권 원내대표는 이 대표의 성상납 의혹 징계 절차에 대해 “개인의 사생활에 관한 문제라 진행상황은 전혀 모르고 있고, 사생활에 관한 문제를 파악하는 것도 적절치 않다고 생각한다”고 말한 바 있다.박 위원장은 김진태 국민의힘 강원도지사 후보의 ‘5.18 망언’도 언급하면서 “우리 이광재 후보를 어찌 보고 국민의힘에서 김진태 후보를 내세웠나 싶다”며 “(김 후보는) 광주 북한군 침투설을 끊임없이 제기했던 사람”이라고 지적했다. 이어 “김진태 후보께서는 이미 사과하셨다고 하지만 공천이라는 절체절명의 이해관계 앞에서 한 사과는 진정한 사과가 아니다”라며 “(김 후보가) 후보직을 사퇴하는 것이 진정한 사과 아니겠느냐”고 덧붙였다. 또 “이분은 후보직을 사퇴하는 것이 진정한 사과 아니냐. 정치인의 역사 왜곡에 대한 책임은 도지사 자리보다 훨씬 무겁다는 것을 꼭 확인해주길 바란다”고 강조했다. 이날 개소식에 참석한 박홍근 민주당 원내대표 역시 김 후보를 향해 “숱한 허위사실을 퍼뜨리고 망언을 내뱉어 온 막말꾼 후보는 안 된다”며 “공약이 아무리 좋은들 지켜지기나 하겠느냐”고 지적했다. 송치훈 동아닷컴 기자 sch53@donga.com \\n\\n\\n\\n송치훈 기자\\n동아닷컴 온라인뉴스팀\\nsch53@donga.com\\n\\n\\n \\n\\n\\n좋아요 이미지좋아요\\n슬퍼요 이미지슬퍼요\\n화나요 이미지화나요\\n후속기사 원해요 이미지후속기사 원해요\\n\\n\\n기사추천 이미지기사추천\\n공유 이미지공유\\n\\n\\n\\n\\n공유하기\\n\\n\\n닫기\\n\\n\\n\\n\\n\\n\\n\\nCopyright ⓒ 동아일보 & donga.com\\n'"
      ]
     },
     "execution_count": 22,
     "metadata": {},
     "output_type": "execute_result"
    }
   ],
   "source": [
    "content"
   ]
  },
  {
   "cell_type": "markdown",
   "id": "326f4a05",
   "metadata": {},
   "source": [
    "- 중앙일보 크롤링 성공\n",
    "- 링크 : https://www.joongang.co.kr/article/25071233"
   ]
  },
  {
   "cell_type": "code",
   "execution_count": 75,
   "id": "8e411962",
   "metadata": {
    "scrolled": true
   },
   "outputs": [
    {
     "data": {
      "text/plain": [
       "\"\\n윤석열 정부의 초대 국무총리 후보자가 4월 3일 지명 이후 42일째 국회의 벽을 넘지 못하고 있다. 윤 대통령이 10일 ‘1호 결재’로 한덕수 후보자 임명동의안에 서명했지만, 더불어민주당은 인준 부결을 만지작거리고 있다. 윤 대통령이 11일 박진 외교부, 이상민 행정안전부 등 청문 보고서가 채택 안된 장관들의 임명을 강행하자 야당 내 '한덕수 불가론'이 점차 커지는 모양새다.\\n   국정 전반을 총괄하는 국무총리는 다른 장관과 달리 대통령이 임명을 강행할 수 없고, 국회 본회의 표결을 거쳐야 한다. 재적 의원(300명) 과반 출석, 출석 의원 과반 찬성이 필요하다. 168석을 보유한 민주당은 마음만 먹으면 국민의힘(109석)을 완력으로 누르고 ‘한덕수 카드’를 뒤집을 수 있다.\\n한덕수 후보자는 노무현 정부 말기인 2007년 국회 본회의에서 참여 의원 270명 중 210명의 찬성표를 얻어 무난하게 총리로 임명됐다. 사진은 2005년 3월 15일 청와대에서 노무현 대통령이 한덕수 당시 재경부총리에게 임명장을 수여하는 모습. 중앙포토\\n   한 후보자는 노무현 정부 말기인 2007년만 해도 270명 중 210명의 찬성표를 얻어 무난하게 총리로 임명됐다. 하지만 당시 국회는 한·미 자유무역협정(FTA) 비준을 앞둔 특수 상황이었다. 여야가 아니라 FTA 찬성파와 반대파로 국회가 갈렸다. 이 때문에 FTA에 찬성하는 한나라당 의원들도 대부분 한 후보자에게 찬성표를 던졌다.\\n   지금 국면은 전혀 다르다. ‘검수완박’(검찰 수사권 완전 박탈) 법안 통과를 두고 거칠게 충돌한 여야가 6월 1일 지방선거를 앞두고 대치 국면을 이어가고 있다. 국민의힘 관계자는 12일 통화에서 “의석 차이가 너무 나기 때문에 역대 어느 총리 인준 때보다 불리한 상황”이라고 말했다.\\n김대중 대통령과 이한동 국무총리가 2001년 3월 27일 오전 청와대에서 열린 국무회의장에 들어서고 있다. 중앙포토\\n   2000년 6월 인사청문제도 도입 이후 첫 국회 표결을 거친 이는 김대중 정부의 이한동 총리였다. 재석 의원 272명 중 139명이 찬성(51.1%)해 가까스로 국회 문턱을 넘었다. 당시에도 여소야대 구도였지만 한나라당은 133석으로 과반이 아니었고 새천년민주당 115석, 자민련 17석으로 의석 차이가 크지 않았다. 여당이 무소속과 군소 정당 의원을 포섭하면 통과가 충분히 가능했다.\\n   노무현 정부에서는 고건(246명 중 163명 찬성), 이해찬(289명 중 200명 찬성), 한명숙(264명 중 182명 찬성), 한덕수 총리가 무난하게 본회의를 통과했다. 이명박 정부의 두 번째 총리인 정운찬 총리는 사상 처음으로 야당의 표결 불참을 뚫고 임명됐다.\\xa0민주당과 자유선진당, 민주노동당 의원들이 불참했지만, 한나라당과 친박연대, 무소속 의원 177명이 참여해 164명이 찬성표를 던졌다.\\n   박근혜 정부에선 정홍원 총리(272명 중 197명 찬성)에 이어 이완구 총리가 281명 중 148명의 찬성(52.7%)을 얻어 턱걸이로 표결을 통과했다. 하지만 이 총리는 이른바 ‘성완종 리스트’ 사건에 이름이 올라 63일 만에 총리직에서 물러났고, 2년 뒤 대법원에서 무죄 판결을 받았다.\\n 2015년 6월 8일 황교안 당시 국무총리 후보자(오른쪽)가 청문회 속개 전 청문회장을 찾은 유승민 당시 새누리당 원내대표와 대화하는 모습. 김성룡 기자\\n   이 총리의 뒤를 이은 황교안 총리 인준안은 278명 중 156명의 찬성표를 얻어 통과됐다. 당시 표결에 참석한 새누리당 의원이 정확히 156명이었다. 새누리당 원내대표였던 유승민 전 의원이 소속 의원들에게 문자메시지와 통화를 돌리고, 투표 당일 총동원령까지 내리는 등 적극적으로 ‘표 단속’을 펼친 결과였다.\\n   문재인 정부에서는 이낙연·정세균·김부겸 총리 인준안이 가결됐다. 문 정부 초대 총리인 이낙연 총리 표결 때는 자유한국당 의원들이 불참하는 등 분위기가 좋지 않았지만 188명 중 164명이 찬성했다. 김부겸 총리 표결 때도 국민의힘 의원들의 퇴장 속에 176명 중 168명이 찬성해 통과됐다.\\n2002년 진행된 장상 국무총리서리 인사청문회. 중앙포토\\n   역대 국무총리 후보자 중 자진 사퇴 등 중도 낙마를 제외하고 국회에서 인준안이 부결된 사례는 2002년 김대중 정부의 장상·장대환 국무총리 후보자 둘 뿐이다. 위장 전입, 부동산 투기 논란을 빚은 장상 후보자 인준안은 244명 중 142명이 반대해 부결됐다. 약 한 달 뒤 장대환 후보자도 탈세, 위장 전입 논란 끝에 266명 중 151명의 반대로 쓴잔을 마셨다.\\n   윤석열 정부의 초대 총리 공백이 이어지자 국민의힘 청문특위 위원들은 12일 “민주당은 다른 장관 후보자의 낙마를 한덕수 후보자 인준과 연계하려는 움직임을 보이고 있고 이는 ‘공직자 끼워팔기’”라며 인준을 촉구했다. 국민의힘 관계자는 “민주당이 한 후보자의 인준안을 부결하면 모든 국정 파행의 책임을 져야 한다”며 “이 경우 지방선거에서 국민의 호된 심판을 받을 것”이라고 주장했다.\\n손국희 기자 9key@joongang.co.kr\\n\""
      ]
     },
     "execution_count": 75,
     "metadata": {},
     "output_type": "execute_result"
    }
   ],
   "source": [
    "url = \"https://www.joongang.co.kr/article/25071233\"\n",
    "response = requests.get(f\"https://www.joongang.co.kr/article/25071233\")\n",
    "# text 메소드로 태그 내 텍스트만 추출\n",
    "html = response.text\n",
    "\n",
    "soup = BeautifulSoup(html,\"html.parser\")\n",
    "content = soup.select_one(f\"div.article_body\").text\n",
    "\n",
    "content"
   ]
  },
  {
   "cell_type": "markdown",
   "id": "029c68aa",
   "metadata": {},
   "source": [
    "- 한겨례 신문 크롤링 시도\n",
    "- 링크 : https://www.hani.co.kr/arti/politics/politics_general/1042845.html?_fr=mt1"
   ]
  },
  {
   "cell_type": "code",
   "execution_count": 84,
   "id": "2e5e896d",
   "metadata": {},
   "outputs": [
    {
     "data": {
      "text/plain": [
       "'\\n\\n\\n\\n\\n인천 계양을 국회의원 보궐선거에 나서는 이재명 더불어민주당 6·1 지방선거 총괄선거대책위원장이 12일 오전 인천시 남동구 더불어민주당 인천시당에서 열린 기자간담회에서 인사말을 하고 있다. 연합뉴스\\n\\n\\n\\n☞한겨레S 뉴스레터 구독하기 https://bit.ly/319DiiE\\n\\n우리나라에는 세가지 전국 선거가 있습니다. 대통령 선거, 국회의원 총선거, 전국 동시 지방선거입니다. 국회의원과 지방자치단체장 및 지방의원 임기는 4년입니다. 국회의원 총선과 지방선거는 2년마다 엇갈려 치르는 일정이 정착되어 있습니다.\\n따라서 총선과 지방선거 사이에는 일정한 규칙이 있습니다. 이를테면 국회의원이 지방선거 단체장으로 출마하려면 국회의원을 2년 만에 그만두거나 국회의원을 하고 2년을 쉬었다가 나와야 합니다. 단체장이나 지방의원이 국회의원 총선에 출마하는 경우도 마찬가지입니다.\\n그런데 우리나라는 대통령 선거가 훨씬 더 중요합니다. 대선 결과에 따라 여당과 야당이 결정되기 때문입니다. 총선과 지방선거 중간중간에 임기 5년 대통령 선거 일정이 끼어들면서 여러가지 복잡한 상황이 발생합니다. 대통령이 임기 도중 탄핵이라도 당하면 한층 더 복잡해집니다.\\n올해가 바로 그런 경우입니다. 3월9일 대통령 선거를 치르고 3개월도 안 된 6월1일에 지방선거를 치러야 합니다. 일정이 이렇게 된 이유는 물론 박근혜 전 대통령 탄핵 때문입니다. 3개월 만에 전국선거를 두번이나 치르는 것은 자원 낭비입니다. 우리는 이런 정도 정치 일정을 여야가 타협해서 조정할 수 있는 정치적 역량을 갖지 못했습니다. 부끄러운 일입니다.\\n\\n\\n\\n\\n\\n\\n\\n\\n\\n 역대 세번째, 대선 직후 전국선거\\n대통령 선거 직후에 곧이어 전국선거를 한 것은 1987년 이후 지금까지 두차례였습니다.\\n첫째, 1987년 개헌 때문에 특별한 정치 환경이 만들어졌습니다.\\n1987년 6월 항쟁 뒤 여야 합의로 개정된 헌법의 부칙에 따라 1987년 12월16일 대통령 선거를 하고 ‘4개월10일’ 뒤인 1988년 4월26일에 국회의원 총선거를 했습니다.\\n헌법 부칙은 헌법 시행일(1988년 2월25일) 40일 전까지 대통령 선거를, 헌법 공포일(1987년 10월29일)로부터 6월 이내에 13대 국회의원 선거를 하도록 했기 때문입니다. 12대 국회는 3년 만에 문을 닫았습니다.\\n둘째, 20년 뒤인 2007년 같은 일정이 반복됐습니다.\\n왜 그랬을까요? 간단한 산수입니다. 대통령 임기는 5년, 국회의원 임기는 4년이기 때문입니다. 5와 4의 최소공배수는 20입니다. 2007년 12월19일 대통령 선거가 치러졌습니다. 그리고 ‘3개월20일’ 뒤인 2008년 4월9일 국회의원 총선거가 치러졌습니다.\\n그런데 ‘3개월20일’의 기록이 이번에 다시 ‘2개월23일’로 단축됐습니다. 앞서 말씀드렸지만, 박근혜 대통령 탄핵과 문재인 대통령 5년 재임으로 대통령 선거가 2022년 3월9일로 앞당겨졌기 때문입니다.\\n전국선거 일정을 길게 소개한 이유는 이번 6·1 지방선거가 3·9 대통령 선거 연장전으로 치러질 수밖에 없는 구조적 배경을 설명하기 위해서입니다.\\n여러분은 더불어민주당의 대선 후보였던 이재명 전 경기지사가 왜 이렇게 서둘러서 정치에 복귀했다고 생각하십니까? 몇가지 가설이 있습니다.\\n첫째, 윤석열 대통령이 집무실 이전과 장관 인사 등 실정으로 조기 복귀의 빌미를 줬기 때문이다. 둘째, 사법적으로 맞서기 위해 보호막이 필요하기 때문이다. 셋째, 더불어민주당에 지방선거를 치르고 이후 당을 이끌어갈 중심인물이 없기 때문이다.\\n이 중에서 어느 것이 맞을까요? 저는 다 맞는다고 생각합니다. 특히 세번째 이유를 눈여겨볼 필요가 있습니다. 대선 결과를 도저히 인정할 수 없다는 민주당 열성 지지층의 불복 심리가 이재명 전 지사를 다급하게 소환한 것입니다. 전례를 살펴보겠습니다.\\n1987년 12월 대선 패배 직후 김영삼 통일민주당 총재와 김대중 평화민주당 총재는 대선을 원천적 부정선거로 규정하고 군사정권 타도 투쟁을 선언했습니다. 그러나 유권자가 보기에 노태우 대통령 당선은 부정선거 때문이 아니라 양 김씨의 단일화 실패 때문이었습니다. 양 김씨는 부정선거 주장을 접고 눈앞으로 다가온 13대 국회의원 총선거를 준비했습니다.\\n“야권을 지지한 과반수의 국민이 선거 결과에 대해 실망과 허탈감에 빠져 있다는 데 생각이 미치자, 나는 국민의 실망과 허탈감을 달래야 할 책무를 느끼지 않을 수 없었다.”\\n“12월22일 당 간부들이 배석한 가운데 가진 기자회견에서 ‘이번 대통령 선거에서 이루지 못한 군정 종식과 민주화라는 역사적 과업을 다가오는 총선에서 선거 혁명을 통해 기필코 실현하겠다’고 천명했다.”(김영삼 회고록)\\n“나는 그대로 주저앉을 수 없었다. 1988년 2월3일 각계 재야 인사 91명을 대거 영입했다. 박영숙, 이길재, 문동환, 성래운, 임채정, 정동년, 이해찬, 이상수, 고영근, 양성우씨 등이 새로 정치를 시작했다. 학자, 민권운동가, 법조계와 종교계 인사, 문인 등이 포함되었다. 이들의 대규모 입당은 재야 인사들의 제도 정치권 진입이라는 점에서 정치사의 획을 긋는 일대 사건이었다.”(김대중 자서전)\\n총선 결과는 민정당 125석, 평민당 70석, 통일민주당 59석, 신민주공화당 35석으로 여소야대였습니다. ‘1노 3김’의 시대가 활짝 열렸습니다. 양 김씨는 13대 총선에서의 정치적 재기를 바탕으로 1992년, 그리고 1997년 차례차례 대통령에 당선됐습니다.\\n2007년 12월 대선에서 패배한 정동영 대통합민주신당 후보는 1987년 양 김씨와는 좀 다른 이유로 난감한 처지에 놓였습니다. 첫째, 표차가 너무 컸습니다. 말 그대로 참패였습니다. 둘째, 정당의 ‘오너’가 아니었습니다. 정당의 총재가 이미 사라지고 없던 시기였습니다.\\n정동영 후보는 2008년 4월 총선에서 서울 동작을에 출마했습니다. 한나라당이 표적 공천한 정몽준 의원에게 졌습니다. 미국으로 갔다가 돌아와서 2009년 4·29 재보선에서 전주 덕진에 무소속으로 출마해 당선됐습니다. 하지만 그 바람에 오히려 대선 주자의 지위를 잃었습니다.\\n\\n\\n\\n\\n\\n\\n이재명 더불어민주당 상임고문이 8일 인천 계양을 국회의원 보궐선거 출마 선언 기자회견에서 지지자들에게 인사하고 있다. 공동취재사진\\n\\n\\n\\n 이재명 조기등판, 득실은?\\n 2012년 사례도 있습니다. 2012년 12월19일 대선에서 패배한 문재인 민주통합당 후보가 정계에서 은퇴했던가요? 아닙니다.\\n문재인 후보는 2012년 4·11 총선에서 당선된 국회의원이었습니다. 의원직을 사퇴하지 않고 대선을 치렀습니다. 대선 뒤에도 당내에 상당한 지분을 가진 유력 정치인이었습니다. 대선 패배 1년 뒤 <1219 끝이 시작이다>라는 책을 펴내 차기 대선 출마를 일찌감치 선언했습니다.\\n“저와 민주당은 지난 대선에서 실패했습니다. 그러나 그것으로 끝나지 않는 법입니다. 저와 민주당이 다시 희망과 믿음을 만들어 나가고 싶습니다.”\\n\\n\\n\\n\\n\\n\\n\\n\\n그 뒤 2015년 2월 전당대회에 출마해서 대표가 됐고 그 탄력으로 2016년 총선과 2017년 대선에서 승리했습니다.\\n이재명 전 지사가 민주당 역대 대선 주자들의 이러한 역사를 모를 리 없습니다. 이재명 전 지사가 인천 계양을 보궐선거 출마를 결심한 가장 큰 이유는 더불어민주당의 유일한 차기 대선 주자라는 정치적 자산을 내려놓지 않기 위해서라고 저는 봅니다.\\n물론 정치인의 선택에는 그만한 책임이 뒤따릅니다. 이재명 전 지사는 총괄 상임선거대책위원장을 맡았습니다. 선거 결과에 책임을 지겠다는 의미입니다. 어떻게 될까요? 민주당이 지방선거에서 이길 수 있을까요? 승패의 기준은 무엇일까요?\\n2018년 지방선거에서 민주당은 17개 광역단체장 가운데 14개를 차지했습니다. 자유한국당은 대구와 경북에서만 이겼습니다. 제주는 무소속 원희룡 후보가 당선됐습니다. 따라서 2018년을 기준으로 하면 민주당의 지방선거 승리는 불가능합니다.\\n이번 대통령 선거 결과를 기준으로 하면 얘기가 좀 달라집니다. 이번 대선에서 이재명 위원장은 17개 광역단체 가운데 경기, 인천, 세종, 광주, 전남, 전북, 제주 일곱곳을 이겼습니다. 승부처인 수도권과 충청권의 후보별 득표율은 이렇습니다.\\n\\n서울 이재명 45.73% 윤석열 50.56%\\n경기 이재명 50.94% 윤석열 45.62%\\n인천 이재명 48.91% 윤석열 47.05%\\n대전 이재명 46.44% 윤석열 49.55%\\n충남 이재명 44.96% 윤석열 51.08%\\n충북 이재명 45.12% 윤석열 50.67%\\n세종 이재명 51.91% 윤석열 44.14%\\n\\n이재명 위원장으로서는 자신이 이긴 곳에서 광역단체장을 넘겨주면 지는 것이고, 반대로 자신이 진 곳에서 광역단체장을 가져오면 이기는 것입니다. 만약 민주당이 경기, 인천, 세종을 지키고, 서울·대전·충남·충북 가운데 한곳이라도 가져오면 이기는 것입니다. 반면에 경기·인천이나 세종 가운데 한곳이라도 내주면 지는 것입니다.\\n따라서 이재명 위원장은 경기와 인천을 지키기 위해, 그리고 서울·대전·충남·충북에서 한곳이라도 가져오기 위해 사력을 다할 수밖에 없을 것입니다. 어떻게 될까요?\\n\\n 포성 사라지면 ‘타협의 계절’ 올까\\n객관적 형세는 이재명 위원장과 민주당에 불리합니다. 우선 수도권에서 경기와 인천을 다 지키기가 쉽지 않습니다. 인천은 충청권의 영향을 강하게 받는 곳입니다. 충청권은 본래 대세를 따르는 성향이 강합니다. 윤석열 대통령의 국민의힘이 유리하다고 봐야 합니다. 더구나 최근 박완주 의원 성폭력 사건까지 터졌습니다. 민주당이 세종을 지키기도 버거운 상황입니다.\\n마무리하겠습니다. 6·1 지방선거가 3·9 대선의 연장전이 된 이유는 선거 일정이 너무 붙어 있기 때문입니다. 윤석열 대통령과 이재명 위원장의 득표율 차가 0.73%포인트에 불과하기 때문입니다. 전쟁이 끝나고 포성이 사라져야 비로소 평화가 찾아오는 법입니다.\\n6·1 지방선거 이후에는 대통령과 국회, 윤석열 대통령과 민주당이 견제와 균형으로 함께 국정을 이끌어가는 대화와 타협의 시대가 열릴 것입니다. 바야흐로 정치가 돌아올 것입니다.\\n정치부 선임기자 shy99@hani.co.kr'"
      ]
     },
     "execution_count": 84,
     "metadata": {},
     "output_type": "execute_result"
    }
   ],
   "source": [
    "url = \"https://www.hani.co.kr/arti/politics/politics_general/1042845.html?_fr=mt1\"\n",
    "response = requests.get(f\"https://www.hani.co.kr/arti/politics/politics_general/1042845.html?_fr=mt1\")\n",
    "# text 메소드로 태그 내 텍스트만 추출\n",
    "html = response.text\n",
    "\n",
    "soup = BeautifulSoup(html,\"html.parser\")\n",
    "content = soup.select_one(f\"div.text\").text\n",
    "\n",
    "content"
   ]
  },
  {
   "cell_type": "markdown",
   "id": "19722ddc",
   "metadata": {},
   "source": [
    "- 링크 : https://www.khan.co.kr/politics/north-korea/article/202205161434001\n",
    "- 경향신문 크롤링\n",
    "- HTTP 403 에러 수정 : https://jaimemin.tistory.com/1672"
   ]
  },
  {
   "cell_type": "code",
   "execution_count": 40,
   "id": "5fc7949f",
   "metadata": {},
   "outputs": [],
   "source": [
    "import urllib.request\n",
    "from urllib.parse import quote\n",
    "from urllib.request import Request, urlopen\n",
    "\n",
    "URL = \"https://www.khan.co.kr/sports/football/article/202205162247015\"\n",
    "req = Request(URL, headers={'User-Agent': 'Mozilla/5.0'})\n",
    "source_code_from_url = urlopen(req).read()"
   ]
  },
  {
   "cell_type": "code",
   "execution_count": 42,
   "id": "ce6b0259",
   "metadata": {},
   "outputs": [
    {
     "name": "stderr",
     "output_type": "stream",
     "text": [
      "Some characters could not be decoded, and were replaced with REPLACEMENT CHARACTER.\n"
     ]
    }
   ],
   "source": [
    "soup = BeautifulSoup(source_code_from_url,\"html.parser\")\n",
    "content = soup.select_one(f\"div.art_body\").text"
   ]
  },
  {
   "cell_type": "code",
   "execution_count": 43,
   "id": "b7b9c6d4",
   "metadata": {},
   "outputs": [
    {
     "data": {
      "text/plain": [
       "'\\n\\n\\n잉글랜드 FA컵, 맨시티 제압첼시 2연패에 2관왕 힘 보태며‘8년 동행’ 화려한 마침표 찍어\\n\\n\\n\\n\\n\\n\\n\\n\\n\\n첼시 위민 지소연이 16일 영국 런던 웸블리 스타디움에서 열린 2021~2022 잉글랜드 여자 FA컵 결승전에서 맨체스터 시티를 3-2로 꺾고 우승한 뒤 우승 트로피를 들고 기뻐하고 있다. 런던 | EPA연합뉴스                            \\n\\n\\n\\n한국 여자축구 ‘에이스’ 지소연(31)이 첼시 위민의 잉글랜드축구협회(FA)컵 2연패와 시즌 2관왕에 힘을 보태며 8년 동행에 화려한 마침표를 찍었다. \\n\\n첼시 위민은 16일 영국 런던의 웸블리 스타디움에서 열린 2021~2022 잉글랜드 여자 FA컵 결승전에서 결승골을 포함해 멀티골을 터뜨린 샘 커의 활약을 앞세워 연장전 끝에 맨체스터 시티(이하 맨시티)를 3-2로 따돌리고 우승을 차지했다. \\n\\n이로써 첼시는 2020~2021시즌에 이어 FA컵 2연패를 달성하고, 통산 4번째 정상에 올랐다. 아울러 이번 시즌 잉글랜드 여자슈퍼리그(WSL)에 이어 2번째 트로피를 들어올렸다. \\n\\n이번 시즌을 끝으로 영국 생활을 마치고 한국으로 오기로 한 지소연은 이날 후반 24분 베서니 잉글랜드 대신 투입돼 여자 FA컵 사상 최다 관중인 4만9094명 앞에서 첼시 선수로서 마지막 경기를 치렀다. 후반 44분 헤일리 라소에게 2-2 동점골을 내줘 연장전으로 끌려간 첼시는 연장 전반 9분 간판 공격수 커의 득점포로 승기를 잡았다. 우승 확정을 눈앞에 둔 연장 후반 14분엔 엠마 헤이스 감독이 지소연을 마렌 미엘데로 교체해, 지소연에게 박수를 받으며 떠날 시간을 마련해줬다. \\n \\n\\n \\n2014년 첼시에 입단한 지소연은 줄곧 주축으로 활약하며 팀의 역사를 함께 썼다. 첼시에서 공식전 210경기에 출전해 68골을 터뜨렸는데, 출전 수와 득점 모두 첼시 위민 역대 3위에 해당한다. 첼시 유니폼을 입고 지소연은 WSL 6회, FA컵 4회, 리그컵 2회, 커뮤니티 실드 1회 등 우승의 기쁨을 맛봤다. 잉글랜드 무대에 데뷔한 시즌에 WSL 올해의 선수와 잉글랜드프로축구선수협회(PFA) 올해의 선수상을 받았고, WSL 통산 100경기와 200경기에 출전한 최초의 비영국인 선수로도 이름을 남겼다. \\n\\n지소연 \\n'"
      ]
     },
     "execution_count": 43,
     "metadata": {},
     "output_type": "execute_result"
    }
   ],
   "source": [
    "content"
   ]
  },
  {
   "cell_type": "code",
   "execution_count": null,
   "id": "fd6854c3",
   "metadata": {},
   "outputs": [],
   "source": []
  }
 ],
 "metadata": {
  "kernelspec": {
   "display_name": "Python 3",
   "language": "python",
   "name": "python3"
  },
  "language_info": {
   "codemirror_mode": {
    "name": "ipython",
    "version": 3
   },
   "file_extension": ".py",
   "mimetype": "text/x-python",
   "name": "python",
   "nbconvert_exporter": "python",
   "pygments_lexer": "ipython3",
   "version": "3.8.8"
  }
 },
 "nbformat": 4,
 "nbformat_minor": 5
}
