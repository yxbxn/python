{
  "nbformat": 4,
  "nbformat_minor": 0,
  "metadata": {
    "colab": {
      "name": "naver_news_comment_crawler.ipynb",
      "private_outputs": true,
      "provenance": [],
      "collapsed_sections": [],
      "authorship_tag": "ABX9TyOYsZwLOTu1oMR2hkdrq3UH",
      "include_colab_link": true
    },
    "kernelspec": {
      "name": "python3",
      "display_name": "Python 3"
    },
    "language_info": {
      "name": "python"
    }
  },
  "cells": [
    {
      "cell_type": "markdown",
      "metadata": {
        "id": "view-in-github",
        "colab_type": "text"
      },
      "source": [
        "<a href=\"https://colab.research.google.com/github/yxbxn/python/blob/main/naver_news_comment_crawler.ipynb\" target=\"_parent\"><img src=\"https://colab.research.google.com/assets/colab-badge.svg\" alt=\"Open In Colab\"/></a>"
      ]
    },
    {
      "cell_type": "code",
      "execution_count": null,
      "metadata": {
        "id": "1qRP6AaE4FUf"
      },
      "outputs": [],
      "source": [
        "from bs4 import BeautifulSoup\n",
        "import requests\n",
        "import re\n",
        "import sys\n",
        "import pprint\n",
        "import pandas as pd"
      ]
    },
    {
      "cell_type": "code",
      "source": [
        "url = \"https://n.news.naver.com/article/001/0013146102?sid=100\"\n",
        "\n",
        "url = \"https://news.naver.com/main/read.naver?mode=LSD&mid=sec&sid1=100&oid=001&aid=0013146102\"\n",
        "\n",
        "# 파라미터 분석\n",
        "# sid1 - 분야 : 정치 100 / 경제 101 / 사회 102...\n",
        "# oid - 신문사명 : 연합뉴스 001 / 프레시안 002 ...\n",
        "# aid - 게시글 번호"
      ],
      "metadata": {
        "id": "oX0pb0Dc4Wyv"
      },
      "execution_count": null,
      "outputs": []
    },
    {
      "cell_type": "code",
      "source": [
        "comment_list = []\n",
        "sympathy_list = [] # 공감수\n",
        "antipathy_list = [] # 비공감수\n",
        "time_list = [] # 시간\n",
        "\n",
        "# 신문사 명 및 게시글 번호 수집\n",
        "\n",
        "oid = url.split(\"oid=\")[1].split(\"&\")[0]\n",
        "aid = url.split(\"aid=\")[1]\n",
        "page = 1    \n",
        "header = {\n",
        "    \"User-agent\":\"Mozilla/5.0 (Windows NT 10.0; Win64; x64) AppleWebKit/537.36 (KHTML, like Gecko) Chrome/65.0.3325.181 Safari/537.36\",\n",
        "    \"referer\":url,\n",
        "    \n",
        "} \n",
        "while True :\n",
        "    c_url=\"https://apis.naver.com/commentBox/cbox/web_neo_list_jsonp.json?ticket=news&templateId=default_society&pool=cbox5&_callback=jQuery1707138182064460843_1523512042464&lang=ko&country=&objectId=news\"+oid+\"%2C\"+aid+\"&categoryId=&pageSize=20&indexSize=10&groupId=&listType=OBJECT&pageType=more&page=\"+str(page)+\"&refresh=false&sort=FAVORITE\"\n",
        "    r = requests.get(c_url,headers = header)\n",
        "    cont = BeautifulSoup( r.content,\"html.parser\")    \n",
        "    total_comm = str(cont).split('comment\":')[1].split(\",\")[0] # 총 댓글 개수\n",
        "   \n",
        "    match = re.findall('\"contents\":([^\\*]*),\"userIdNo\"', str(cont))\n",
        "    # 리스트에 댓글 넣어주기\n",
        "    comment_list.append(match)\n",
        "\n",
        "    sympathy_list.append(re.findall('\"sympathyCount\":([^\\*]*),\"antipathyCount\"', str(cont)))\n",
        "    antipathy_list.append(re.findall('\"antipathyCount\":([^\\*]*),\"hideReplyButton\"', str(cont)))\n",
        "    time_list.append(re.findall('\"modTime\":([^\\*]*),\"modTimeGmt\"', str(cont)))\n",
        "\n",
        "    # 1페이지에 댓글 20개씩 여러 페이지 가져오기\n",
        "    if int(total_comm) <= ((page) * 20):\n",
        "        break\n",
        "    else: \n",
        "        page += 1"
      ],
      "metadata": {
        "id": "9XzXHoj04Yjd"
      },
      "execution_count": null,
      "outputs": []
    },
    {
      "cell_type": "code",
      "source": [
        "# 다중 리스트 단일 리스트로 변환\n",
        "def flatten(lst):\n",
        "    flatList = []\n",
        "    for i in lst:\n",
        "        if type(i) == list:\n",
        "            for e in i:\n",
        "                flatList.append(e) # 문자열 양 끝에 중복된 \"\" 제거해야함\n",
        "        else:\n",
        "            flatList.append(i)\n",
        "    return flatList"
      ],
      "metadata": {
        "id": "W547LfX6489y"
      },
      "execution_count": null,
      "outputs": []
    },
    {
      "cell_type": "code",
      "source": [
        "comment_df = pd.DataFrame()\n",
        "comment_df[\"time\"] = flatten(time_list)\n",
        "comment_df[\"sympathy\"] = flatten(sympathy_list)\n",
        "comment_df[\"antipathy\"] = flatten(antipathy_list)\n",
        "comment_df[\"comment\"] = flatten(comment_list)"
      ],
      "metadata": {
        "id": "mKgqINFOF5Km"
      },
      "execution_count": null,
      "outputs": []
    },
    {
      "cell_type": "code",
      "source": [
        "comment_df"
      ],
      "metadata": {
        "id": "1jO-HM4s49ai"
      },
      "execution_count": null,
      "outputs": []
    },
    {
      "cell_type": "markdown",
      "source": [
        "## 간단한 전처리 수행하기\n",
        "- 특수문자 제거하기\n",
        "- 한글 자모음만 존재하는 것 제거하기 ( ㅋㅋㅋ ㅜㅜ )"
      ],
      "metadata": {
        "id": "XXnjNX5a4i1M"
      }
    },
    {
      "cell_type": "code",
      "source": [
        "def new_data_cleansing_text(input,col):\n",
        "    df = input.copy()\n",
        "\n",
        "    # 줄바꿈 기호 삭제\n",
        "    df[col] = df[col].apply(lambda x : x.replace(r\"\\n\",\" \"))\n",
        "\n",
        "    # 한글 자음모음 삭제\n",
        "    df[col] = df[col].apply(lambda x : re.sub('([ㄱ-ㅎㅏ-ㅣ]+)',\"\",x))\n",
        "        \n",
        "    # 특수 기호 공백으로 처리\n",
        "    df[col] = df[col].apply(lambda x : re.sub('[^\\w\\s]', ' ', x))\n",
        "\n",
        "    # 다중공백 -> 단일공백\n",
        "    df[col] = df[col].apply(lambda x : re.sub(' +', ' ', x))\n",
        "        \n",
        "    #양쪽 공백삭제\n",
        "    df[col] = df[col].apply(lambda x : x.strip())\n",
        "        \n",
        "    return df"
      ],
      "metadata": {
        "id": "MZ4KYkHwIgxy"
      },
      "execution_count": null,
      "outputs": []
    },
    {
      "cell_type": "code",
      "source": [
        "comment_df_clean = new_data_cleansing_text(comment_df,\"comment\")"
      ],
      "metadata": {
        "id": "cAFLLa4jKnd4"
      },
      "execution_count": null,
      "outputs": []
    },
    {
      "cell_type": "code",
      "source": [
        "comment_df.head()"
      ],
      "metadata": {
        "id": "lqPqjAemKbk3"
      },
      "execution_count": null,
      "outputs": []
    },
    {
      "cell_type": "code",
      "source": [
        "comment_df_clean.head()"
      ],
      "metadata": {
        "id": "gkMQ2KGQJnUx"
      },
      "execution_count": null,
      "outputs": []
    },
    {
      "cell_type": "code",
      "source": [
        ""
      ],
      "metadata": {
        "id": "Gg2ClZ_8KFyG"
      },
      "execution_count": null,
      "outputs": []
    }
  ]
}
