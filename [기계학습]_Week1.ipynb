{
  "nbformat": 4,
  "nbformat_minor": 0,
  "metadata": {
    "colab": {
      "private_outputs": true,
      "provenance": [],
      "collapsed_sections": [],
      "mount_file_id": "1QiIUwNrqpK3xyjJ-DmFIsNIQuRy6xpe5",
      "authorship_tag": "ABX9TyOVt+IMu7WNAt2k6EkcUXHt",
      "include_colab_link": true
    },
    "kernelspec": {
      "name": "python3",
      "display_name": "Python 3"
    },
    "language_info": {
      "name": "python"
    }
  },
  "cells": [
    {
      "cell_type": "markdown",
      "metadata": {
        "id": "view-in-github",
        "colab_type": "text"
      },
      "source": [
        "<a href=\"https://colab.research.google.com/github/yxbxn/python/blob/main/%5B%EA%B8%B0%EA%B3%84%ED%95%99%EC%8A%B5%5D_Week1.ipynb\" target=\"_parent\"><img src=\"https://colab.research.google.com/assets/colab-badge.svg\" alt=\"Open In Colab\"/></a>"
      ]
    },
    {
      "cell_type": "code",
      "execution_count": null,
      "metadata": {
        "id": "a8u3h6FhTn4W"
      },
      "outputs": [],
      "source": [
        "# 구글드라이브 연동\n",
        "from google.colab import drive\n",
        "drive.mount('/content/MyDrive')"
      ]
    },
    {
      "cell_type": "code",
      "source": [
        "file_path=\"/content/MyDrive/MyDrive/ML/실습예제1.txt\"\n",
        "with open(file_path,\"r\",encoding=\"utf8\") as inFile:\n",
        "  lines=inFile.readlines()\n",
        " \n",
        "for line in lines:\n",
        "  print(line)"
      ],
      "metadata": {
        "id": "2BB2AcgRUIvU"
      },
      "execution_count": null,
      "outputs": []
    },
    {
      "cell_type": "code",
      "source": [],
      "metadata": {
        "id": "IOvTX6TzVf3a"
      },
      "execution_count": null,
      "outputs": []
    }
  ]
}