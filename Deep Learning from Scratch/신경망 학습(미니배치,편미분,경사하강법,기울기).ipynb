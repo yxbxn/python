{
 "cells": [
  {
   "cell_type": "markdown",
   "id": "bbc7710e",
   "metadata": {},
   "source": [
    "### Q. 활성화 함수를 사용하는 이유가 무엇일까?"
   ]
  },
  {
   "cell_type": "markdown",
   "id": "cd6eb4ad",
   "metadata": {},
   "source": [
    "A. 활성화 함수는 입력 신호의 총합을 출력신호로 변환하여서 다른 층의 뉴런으로 전달하게 되는데 그 과정에서 모델의 복잡도가 올라가게 된다. 선형의 퍼셉트론을 쌓아서는 해결할 수 없었던 문제들이 존재했고, 이것을 해결하기 위해 비선형함수를 활성화 함수에 도입하게 된다. 비선형 함수를 활성화 함수로 쓰는 것이 다층 퍼셉트론 즉, 신경망을 만드는 것에 의미가 있는 것이다. 단순히 선형의 활성화 함수를 쌓게 되면 안된다. 그렇다면 결국에 선형으로 귀결되기 때문에 비선형 문제를 풀기 위해서는 비선형 함수를 활성화 함수로 사용해야한다. 입력값에 대한 출력값이 비선형으로 나타나게 된다. \n",
    "- https://syj9700.tistory.com/37"
   ]
  },
  {
   "cell_type": "markdown",
   "id": "c6013de4",
   "metadata": {},
   "source": [
    "### 손실함수 : 신경망이 매개변수를 찾아나가는 기준"
   ]
  },
  {
   "cell_type": "code",
   "execution_count": 11,
   "id": "e1ba0ab4",
   "metadata": {},
   "outputs": [],
   "source": [
    "# 오차제곱함 : Sum of Squares for Error(SSE)\n",
    "import numpy as np\n",
    "def sum_squares_error(y,t):\n",
    "    return (np.sum((y-t)**2))/2\n",
    "# 왜 SSE를 구할 때는 2를 나눠야하는걸까? 경사하강법의 델타규칙에 의해서 어쩌고 저쩌고... 경사하강법 공부하고 돌아오기"
   ]
  },
  {
   "cell_type": "code",
   "execution_count": 24,
   "id": "479b93f8",
   "metadata": {},
   "outputs": [
    {
     "name": "stdout",
     "output_type": "stream",
     "text": [
      "y1과 t의 SSE 0.09750000000000003\n",
      "y2과 t의 SSE 0.5975\n"
     ]
    }
   ],
   "source": [
    "# 원핫인코딩된 정답 레이블은 2\n",
    "t = [0,0,1,0,0,0,0,0,0,0]\n",
    "\n",
    "# y1은 2가 가장 높은 확률이라고, y2는 7이 가장 높은 확률이라고 나타남\n",
    "y1 = [0.1,0.05,0.6,0.0,0.05,0.1,0.0,0.1,0.0,0.0]\n",
    "y2 = [0.1,0.05,0.1,0.0,0.05,0.1,0.0,0.6,0.0,0.0]\n",
    "\n",
    "print(\"y1과 t의 SSE\",sum_squares_error(np.array(t),np.array(y1)))\n",
    "print(\"y2과 t의 SSE\",sum_squares_error(np.array(t),np.array(y2)))"
   ]
  },
  {
   "cell_type": "markdown",
   "id": "af333abf",
   "metadata": {},
   "source": [
    "제대로 정답을 추론한 y2 넘파일 배열이 낮은 SSE 값을 가진다"
   ]
  },
  {
   "cell_type": "code",
   "execution_count": 27,
   "id": "d9b266af",
   "metadata": {},
   "outputs": [
    {
     "name": "stdout",
     "output_type": "stream",
     "text": [
      "y1과 t의 CEE 0.510825457099338\n",
      "y2과 t의 CEE 2.302584092994546\n"
     ]
    }
   ],
   "source": [
    "# 교차엔트로피오차 : Cross Entropy Error(CEE)\n",
    "def cross_entropy_error(y,t):\n",
    "    delta = 1e-7\n",
    "    return -np.sum(t*np.log(y+delta))\n",
    "\n",
    "print(\"y1과 t의 CEE\",cross_entropy_error(np.array(y1),np.array(t)))\n",
    "print(\"y2과 t의 CEE\",cross_entropy_error(np.array(y2),np.array(t)))\n",
    "# y가 0이 되면 log 0으로 inf가 되기 때문에 매우 작은 값인 delta 더해주기"
   ]
  },
  {
   "cell_type": "code",
   "execution_count": 22,
   "id": "d9dadc28",
   "metadata": {},
   "outputs": [
    {
     "name": "stderr",
     "output_type": "stream",
     "text": [
      "<ipython-input-22-f6e7c0610b57>:1: RuntimeWarning: divide by zero encountered in log\n",
      "  np.log(0)\n"
     ]
    },
    {
     "data": {
      "text/plain": [
       "-inf"
      ]
     },
     "execution_count": 22,
     "metadata": {},
     "output_type": "execute_result"
    }
   ],
   "source": [
    "np.log(0)"
   ]
  },
  {
   "cell_type": "markdown",
   "id": "f6d07540",
   "metadata": {},
   "source": [
    "### 미니배치 학습\n",
    "- 신경망 학습에서 훈련 데이터로부터 일부만 골라서 학습을 수행하는 것"
   ]
  },
  {
   "cell_type": "code",
   "execution_count": 2,
   "id": "02a5e952",
   "metadata": {},
   "outputs": [
    {
     "name": "stdout",
     "output_type": "stream",
     "text": [
      "(60000, 784)\n",
      "(60000, 10)\n"
     ]
    }
   ],
   "source": [
    "import sys,os\n",
    "sys.path.append(os.pardir)\n",
    "import numpy as np\n",
    "from dataset.mnist import load_mnist\n",
    "\n",
    "(x_train,t_train),(x_test,t_test) = load_mnist(normalize=True,one_hot_label=True)\n",
    "# 원핫인코딩을 통해 정답 원소만 1로\n",
    "\n",
    "print(x_train.shape)\n",
    "print(t_train.shape)"
   ]
  },
  {
   "cell_type": "code",
   "execution_count": 6,
   "id": "57ebf789",
   "metadata": {},
   "outputs": [
    {
     "name": "stdout",
     "output_type": "stream",
     "text": [
      "[18444 12064 55420 31931 43946  8537 23732 45518 30330  8804 49247 20760\n",
      "  8011  9045 55346 51785 17385 27042 21061 21369 14744 29985   566 40546\n",
      " 57896  2127  9140 38349 22914 49232 48713 29809  4168 39355  3773 12966\n",
      " 41505 40478 16767  5923 22476 49446 50197 30658 33308 33759 25770 34444\n",
      " 13278 10152 23995 46378  4048 50893 18150 57988  2356 46834 38047 41748\n",
      " 21545 20641 21143 27851  8667 28687 55102 31521  7284 33036 41554 44122\n",
      " 50052 19332 38127  6655  5521 23203 53197 52880 53699 37921 31424 21791\n",
      " 20131 54973 55802 43755 32726 39431 26848  1225 10105 30425 52852 40919\n",
      " 31528  1975 35840  9067]\n"
     ]
    }
   ],
   "source": [
    "# 6만개의 데이터 중에서 100개 정도의 미니배치 학습을 진행\n",
    "train_size = x_train.shape[0]\n",
    "batch_size = 100\n",
    "batch_idx = np.random.choice(train_size,100)\n",
    "# 6만개 중에서 100개의 무작위 인덱스 추출\n",
    "print(batch_idx)\n",
    "\n",
    "x_batch = x_train[batch_idx] # 100x784 행렬\n",
    "t_batch = t_train[batch_idx] # 100x10 행렬"
   ]
  },
  {
   "cell_type": "markdown",
   "id": "786f6f04",
   "metadata": {},
   "source": [
    "2) numpy 배열의 별연산(*)은 스칼라 곱이다. 즉, 브로드캐스팅이 가능하고 원소별로 곱이 가능해지는 것이다\n",
    "-> 내적하고 헷갈리지 말기!"
   ]
  },
  {
   "cell_type": "code",
   "execution_count": 63,
   "id": "85d722a8",
   "metadata": {},
   "outputs": [],
   "source": [
    "def cross_entropy_error(y,t):\n",
    "    if y.ndim == 1:\n",
    "    # y,t가 1차원 배열인 경우\n",
    "        y = y.reshape(1,y.size)\n",
    "        t = t.reshape(1,t.size)\n",
    "    batch_size = y.shape[0]\n",
    "    return - np.sum(t * np.log(y + 1e-7)) / batch_size"
   ]
  },
  {
   "cell_type": "markdown",
   "id": "82d2eb2c",
   "metadata": {},
   "source": [
    "3) 정답 레이블이 원-핫 인코딩이 아닌 '2'나 '7' 등의 숫자 레이블로 주어진 경우 교차 엔트로피 구하기"
   ]
  },
  {
   "cell_type": "code",
   "execution_count": null,
   "id": "9bef66a3",
   "metadata": {},
   "outputs": [],
   "source": [
    "# 정답 레이블에 해당하는 레이블만 가져와서 교차 엔트로피 합을 구하면 된다.\n",
    "def cross_entropy_error(y,t):\n",
    "    if y.ndim == 1:\n",
    "    # y,t가 1차원 배열인 경우\n",
    "        y = y.reshape(1,y.size)\n",
    "        t = t.reshape(1,t.size)\n",
    "    batch_size = y.shape[0]\n",
    "    return - np.sum(np.log(y[np.arange(batch_size),t] + 1e-7)) / batch_size"
   ]
  },
  {
   "cell_type": "markdown",
   "id": "bea6a106",
   "metadata": {},
   "source": [
    "2)와 3)의 차이는 2)는 원-핫 인코딩으로 인해 0인 부분이 생겨났고 곱해지나마나 한 것이지만 3)은 원-핫 인코딩이 아니기 때문에 정답에 해당하는 부분의 y 값만 추출해서 가져오는 것!"
   ]
  },
  {
   "cell_type": "markdown",
   "id": "8e3f1e30",
   "metadata": {},
   "source": [
    "## 수치미분\n",
    "- 수치 미분의 2가지 오차 ( 반올림 오차 / 차분 오차 )"
   ]
  },
  {
   "cell_type": "code",
   "execution_count": 76,
   "id": "8c55434e",
   "metadata": {},
   "outputs": [
    {
     "data": {
      "text/plain": [
       "0.0"
      ]
     },
     "execution_count": 76,
     "metadata": {},
     "output_type": "execute_result"
    }
   ],
   "source": [
    "np.float32(1e-50)\n",
    "# 파이썬에서는 반올림 오차가 발생하는데 소수점 8자리 이하의 작은 숫자들은 생략된다"
   ]
  },
  {
   "cell_type": "code",
   "execution_count": 195,
   "id": "3a43989d",
   "metadata": {},
   "outputs": [],
   "source": [
    "# 2가지 오차를 개선하기 위한 수치 미분 구현방법\n",
    "def numerical_diff(f,x):\n",
    "    h = 1e-4\n",
    "    return (f(x+h) - f(x-h)) / (2*h)"
   ]
  },
  {
   "cell_type": "markdown",
   "id": "fbe06b23",
   "metadata": {},
   "source": [
    "numerical_diff 함수에서 ( )를 제대로 표기 안하면서 계속 오류 잡아먹혔다.\n",
    "- return (f(x+h) - f(x-h)) / (2*h)\n",
    "- return (f(x+h) - f(x-h)) / 2*h 정말 다른다는 것... 이해하기"
   ]
  },
  {
   "cell_type": "markdown",
   "id": "35fdc7d1",
   "metadata": {},
   "source": [
    "수치 미분을 이용해서 미분하기"
   ]
  },
  {
   "cell_type": "code",
   "execution_count": 196,
   "id": "e117a3b7",
   "metadata": {},
   "outputs": [
    {
     "name": "stdout",
     "output_type": "stream",
     "text": [
      "x=5 일 때의 수치미분 0.1999999999990898\n",
      "x=10 일 때의 수치미분 0.2999999999986347\n"
     ]
    }
   ],
   "source": [
    "def function_1(x):\n",
    "    return 0.01*(x**2) + 0.1*x\n",
    "\n",
    "print(\"x=5 일 때의 수치미분\",numerical_diff(function_1,5))\n",
    "print(\"x=10 일 때의 수치미분\",numerical_diff(function_1,10))"
   ]
  },
  {
   "cell_type": "code",
   "execution_count": 197,
   "id": "b2dd61ec",
   "metadata": {},
   "outputs": [
    {
     "name": "stderr",
     "output_type": "stream",
     "text": [
      "C:\\ProgramData\\Anaconda3\\lib\\site-packages\\matplotlib\\backends\\backend_agg.py:238: RuntimeWarning: Glyph 52629 missing from current font.\n",
      "  font.set_text(s, 0.0, flags=flags)\n",
      "C:\\ProgramData\\Anaconda3\\lib\\site-packages\\matplotlib\\backends\\backend_agg.py:201: RuntimeWarning: Glyph 52629 missing from current font.\n",
      "  font.set_text(s, 0, flags=flags)\n"
     ]
    },
    {
     "data": {
      "image/png": "[encoded data removed]",
      "text/plain": [
       "<Figure size 432x288 with 1 Axes>"
      ]
     },
     "metadata": {
      "needs_background": "light"
     },
     "output_type": "display_data"
    }
   ],
   "source": [
    "# 함수와 수치 미분 접선 그려보기\n",
    "import numpy as np\n",
    "import matplotlib.pylab as plt\n",
    "\n",
    "x = np.arange(0,20,0.1)\n",
    "y = function_1(x)\n",
    "plt.xlabel(\"X축\") ; plt.ylabel(\"Y축\")\n",
    "plt.plot(x,y)\n",
    "plt.show()"
   ]
  },
  {
   "cell_type": "markdown",
   "id": "82285bee",
   "metadata": {},
   "source": [
    "수치 미분 접선 만들기"
   ]
  },
  {
   "cell_type": "code",
   "execution_count": 203,
   "id": "c4c1dd1e",
   "metadata": {},
   "outputs": [
    {
     "name": "stderr",
     "output_type": "stream",
     "text": [
      "C:\\ProgramData\\Anaconda3\\lib\\site-packages\\matplotlib\\backends\\backend_agg.py:238: RuntimeWarning: Glyph 52629 missing from current font.\n",
      "  font.set_text(s, 0.0, flags=flags)\n",
      "C:\\ProgramData\\Anaconda3\\lib\\site-packages\\matplotlib\\backends\\backend_agg.py:201: RuntimeWarning: Glyph 52629 missing from current font.\n",
      "  font.set_text(s, 0, flags=flags)\n"
     ]
    },
    {
     "data": {
      "image/png": "[encoded data removed]",
      "text/plain": [
       "<Figure size 432x288 with 1 Axes>"
      ]
     },
     "metadata": {
      "needs_background": "light"
     },
     "output_type": "display_data"
    }
   ],
   "source": [
    "# 직선식\n",
    "def gradient(a,x,y,X):\n",
    "    return a*(X-x)+y\n",
    "\n",
    "x1 = 5 ; y1 = function_1(x1) ; a1 = numerical_diff(function_1,x1)\n",
    "x2 = 10 ; y2 = function_1(x2) ; a2 = numerical_diff(function_1,x2)\n",
    "\n",
    "X = np.arange(0,20,0.1)\n",
    "y = function_1(X)\n",
    "plt.xlabel(\"X축\") ; plt.ylabel(\"Y축\")\n",
    "plt.plot(X,y)\n",
    "plt.plot(X,gradient(a1,x1,y1,X),\"--\")\n",
    "plt.plot(X,gradient(a2,x2,y2,X),\"--\") \n",
    "plt.show()"
   ]
  },
  {
   "cell_type": "markdown",
   "id": "72665f8b",
   "metadata": {},
   "source": [
    "편미분 구현하기\n",
    "- 어떤 함수 f에 대해서 x라는 넘파이 배열"
   ]
  },
  {
   "cell_type": "code",
   "execution_count": 213,
   "id": "df192d4e",
   "metadata": {},
   "outputs": [],
   "source": [
    "def function_2(x):\n",
    "    # x 라는 배열은 x1 x2 x3... 이렇게 다양한 변수가 배열로 입력될 수 있다\n",
    "    return x[0]**2 + x[1]**2\n",
    "\n",
    "def numerical_gradient(f,x):\n",
    "    h = 1e-4 # 수치 미분하기 위해서\n",
    "    grad = np.zeros_like(x) # 편미분한 값을 담는 grad 배열\n",
    "    \n",
    "    # for문을 돌면서 x 배열의 변수마다 편미분 값을 구해주기\n",
    "    for idx in range(x.size):\n",
    "        val = x[idx]\n",
    "        # f(x+h) 계산하기\n",
    "        x[idx] = val + h\n",
    "        fxh1 = f(x)\n",
    "        \n",
    "        # f(x-h) 계산하기\n",
    "        x[idx] = val - h\n",
    "        fxh2 = f(x)\n",
    "        \n",
    "        # 미분값 계산하기\n",
    "        grad[idx] = (fxh1 - fxh2) / (2*h)\n",
    "        x[idx] = val\n",
    "        \n",
    "    return grad "
   ]
  },
  {
   "cell_type": "code",
   "execution_count": 216,
   "id": "47296627",
   "metadata": {},
   "outputs": [
    {
     "name": "stdout",
     "output_type": "stream",
     "text": [
      "[x0=3,x1=4] 에 대한 편미분 값 [6. 8.]\n",
      "[x0=3,x1=0] 에 대한 편미분 값 [6. 0.]\n",
      "[x0=4,x1=4] 에 대한 편미분 값 [0. 8.]\n"
     ]
    }
   ],
   "source": [
    "print(\"[x0=3,x1=4] 에 대한 편미분 값\",numerical_gradient(function_2,np.array([3.0,4.0])))\n",
    "print(\"[x0=3,x1=0] 에 대한 편미분 값\",numerical_gradient(function_2,np.array([3.0,0.0])))\n",
    "print(\"[x0=4,x1=4] 에 대한 편미분 값\",numerical_gradient(function_2,np.array([0.0,4.0])))"
   ]
  },
  {
   "cell_type": "markdown",
   "id": "d425701b",
   "metadata": {},
   "source": [
    "경사하강법의 간단한 구현\n",
    "- 편미분 기울기가 의미하는 것은 무조건 최솟값을 가르키는 것은 아니다\n",
    "- 국소적인 최솟값(극소) 혹은 안정점일 수도 있기 때문이다\n",
    "- 그렇더라도 기울기가 가르키는 방향으로 가게 되면 함숫값이 줄어든다\n",
    "- 기울기가 제시한 방향을 단서로 하여 최소값으로 찾아가는 것이다"
   ]
  },
  {
   "cell_type": "code",
   "execution_count": 237,
   "id": "39b3d9c8",
   "metadata": {},
   "outputs": [],
   "source": [
    "def gradient_descent(f,init_x,lr=0.1,step_num=100):\n",
    "    x = init_x.copy()\n",
    "    for i in range(100):\n",
    "        x -= numerical_gradient(f,x) * lr\n",
    "    return x"
   ]
  },
  {
   "cell_type": "code",
   "execution_count": 239,
   "id": "7b2af942",
   "metadata": {},
   "outputs": [
    {
     "name": "stdout",
     "output_type": "stream",
     "text": [
      "경사하강법을 통해 구한 최솟값 x0 x1 [-6.11110793e-10  8.14814391e-10]\n",
      "최소의 손실함수 값 1.0373788922158197e-18\n",
      "초기의 손실함수 값 25.0\n"
     ]
    }
   ],
   "source": [
    "init_x = np.array([-3.0,4.0])\n",
    "min_x = gradient_descent(function_2,init_x)\n",
    "print(\"경사하강법을 통해 구한 최솟값 x0 x1\",min_x)\n",
    "print(\"최소의 손실함수 값\",function_2(min_x))\n",
    "print(\"초기의 손실함수 값\",function_2(init_x))"
   ]
  },
  {
   "cell_type": "markdown",
   "id": "b8461180",
   "metadata": {},
   "source": [
    "경사하강법의 갱신과정 시각화해보기\n",
    "- 학습률이 0.1인 경우"
   ]
  },
  {
   "cell_type": "code",
   "execution_count": 244,
   "id": "41ece530",
   "metadata": {},
   "outputs": [
    {
     "data": {
      "image/png": "[encoded data removed]",
      "text/plain": [
       "<Figure size 432x288 with 1 Axes>"
      ]
     },
     "metadata": {
      "needs_background": "light"
     },
     "output_type": "display_data"
    }
   ],
   "source": [
    "plt.xlabel(\"X축\") ; plt.ylabel(\"Y축\")\n",
    "plt.xlim(-4,4) ; plt.ylim(-4,4)\n",
    "x = np.array([-3.0,4.0])\n",
    "for i in range(100):\n",
    "    x -= numerical_gradient(function_2,x) * 0.1\n",
    "    plt.plot(x[0],x[1],\".\")"
   ]
  },
  {
   "cell_type": "markdown",
   "id": "5b08e86b",
   "metadata": {},
   "source": [
    "학습률이 너무 작은 경우"
   ]
  },
  {
   "cell_type": "code",
   "execution_count": 253,
   "id": "6681a0e8",
   "metadata": {},
   "outputs": [
    {
     "name": "stdout",
     "output_type": "stream",
     "text": [
      "[-2.99999994  3.99999992]\n"
     ]
    },
    {
     "data": {
      "image/png": "[encoded data removed]",
      "text/plain": [
       "<Figure size 432x288 with 1 Axes>"
      ]
     },
     "metadata": {
      "needs_background": "light"
     },
     "output_type": "display_data"
    }
   ],
   "source": [
    "plt.xlabel(\"X축\") ; plt.ylabel(\"Y축\")\n",
    "plt.xlim(-4,4) ; plt.ylim(-4,4)\n",
    "x = np.array([-3.0,4.0])\n",
    "for i in range(100):\n",
    "    x -= numerical_gradient(function_2,x) * (1e-10)\n",
    "    plt.plot(x[0],x[1],\".\")\n",
    "print(x)"
   ]
  },
  {
   "cell_type": "markdown",
   "id": "85f78e96",
   "metadata": {},
   "source": [
    "학습률이 너무 큰 경우"
   ]
  },
  {
   "cell_type": "code",
   "execution_count": 254,
   "id": "124de513",
   "metadata": {},
   "outputs": [
    {
     "name": "stdout",
     "output_type": "stream",
     "text": [
      "[6.08804931e-22 5.86305618e-21]\n"
     ]
    },
    {
     "data": {
      "image/png": "[encoded data removed]",
      "text/plain": [
       "<Figure size 432x288 with 1 Axes>"
      ]
     },
     "metadata": {
      "needs_background": "light"
     },
     "output_type": "display_data"
    }
   ],
   "source": [
    "plt.xlabel(\"X축\") ; plt.ylabel(\"Y축\")\n",
    "plt.xlim(-4,4) ; plt.ylim(-4,4)\n",
    "x = np.array([-3.0,4.0])\n",
    "for i in range(100):\n",
    "    x -= numerical_gradient(function_2,x) * 0.6\n",
    "   # print(i,\" 번째의 손실함수 값\",function_2(x))\n",
    "    plt.plot(x[0],x[1],\".\")\n",
    "print(x)"
   ]
  },
  {
   "cell_type": "markdown",
   "id": "e9e29bec",
   "metadata": {},
   "source": [
    "### 신경망에서의 기울기"
   ]
  },
  {
   "cell_type": "code",
   "execution_count": 256,
   "id": "c678a3cb",
   "metadata": {},
   "outputs": [],
   "source": [
    "import sys,os\n",
    "sys.path.append(os.pardir)\n",
    "import numpy as np\n",
    "from common.functions import softmax,cross_entropy_error\n",
    "from common.gradient import numerical_gradient"
   ]
  },
  {
   "cell_type": "code",
   "execution_count": 313,
   "id": "c752ef9c",
   "metadata": {},
   "outputs": [],
   "source": [
    "def numerical_gradient(f, x):\n",
    "    h = 1e-4 # 0.0001\n",
    "    grad = np.zeros_like(x)\n",
    "    \n",
    "    it = np.nditer(x, flags=['multi_index'], op_flags=['readwrite'])\n",
    "    while not it.finished:\n",
    "        idx = it.multi_index\n",
    "        tmp_val = x[idx]\n",
    "        x[idx] = float(tmp_val) + h\n",
    "        fxh1 = f(x) # f(x+h)\n",
    "        \n",
    "        x[idx] = tmp_val - h \n",
    "        fxh2 = f(x) # f(x-h)\n",
    "        grad[idx] = (fxh1 - fxh2) / (2*h)\n",
    "        \n",
    "        x[idx] = tmp_val # 값 복원\n",
    "        it.iternext()   \n",
    "        \n",
    "    return grad"
   ]
  },
  {
   "cell_type": "code",
   "execution_count": 314,
   "id": "f6f72917",
   "metadata": {},
   "outputs": [],
   "source": [
    "def softmax(x):\n",
    "    if x.ndim == 2:\n",
    "        x = x.T\n",
    "        x = x - np.max(x, axis=0)\n",
    "        y = np.exp(x) / np.sum(np.exp(x), axis=0)\n",
    "        return y.T \n",
    "\n",
    "    x = x - np.max(x) # 오버플로 대책\n",
    "    return np.exp(x) / np.sum(np.exp(x))\n",
    "# T가 포함되는 이유 행렬 계산 때문에 그렇다"
   ]
  },
  {
   "cell_type": "code",
   "execution_count": 305,
   "id": "4d30e0e2",
   "metadata": {},
   "outputs": [],
   "source": [
    "class simpleNet:\n",
    "    def __init__(self):\n",
    "        np.random.seed(0)\n",
    "        self.W = np.random.randn(2,3)\n",
    "        # self를 통해서 내부 변수 생성해주기\n",
    "        \n",
    "    def predict(self,x):\n",
    "        return np.dot(x,self.W)\n",
    "    \n",
    "    def loss(self,x,t):\n",
    "        # 예측을 했다면 손실함수 값을 측정해야한다.\n",
    "        z = self.predict(x)\n",
    "        y = softmax(z) # 확률이니까 softmax\n",
    "        loss = cross_entropy_error(y,t) # 손실함수 CEE\n",
    "        return loss"
   ]
  },
  {
   "cell_type": "code",
   "execution_count": 309,
   "id": "50a9052a",
   "metadata": {},
   "outputs": [
    {
     "name": "stdout",
     "output_type": "stream",
     "text": [
      "[[ 1.76405235  0.40015721  0.97873798]\n",
      " [ 2.2408932   1.86755799 -0.97727788]]\n",
      "[ 3.07523529  1.92089652 -0.2923073 ]\n"
     ]
    },
    {
     "data": {
      "text/plain": [
       "3.6674507891066104"
      ]
     },
     "execution_count": 309,
     "metadata": {},
     "output_type": "execute_result"
    }
   ],
   "source": [
    "net = simpleNet() # 객체 생성하기\n",
    "print(net.W) # 객체 내부의 변수를 불러오기\n",
    "x = np.array([0.6,0.9]) # 입력값 x\n",
    "p = net.predict(x) # 초기 입력값 x로 예측한 값\n",
    "print(p)\n",
    "np.argmax(p) # 최댓값의 인덱스 2\n",
    "t = np.array([0,0,1]) # 정답 레이블\n",
    "net.loss(x,t)\n",
    "# 초기값과 W를 이용해서 손실함수 값을 계산한 것 -> 경사하강법을 통해서 W를 업데이트 해보자."
   ]
  },
  {
   "cell_type": "markdown",
   "id": "8a3b680d",
   "metadata": {},
   "source": [
    "기울기 구하기"
   ]
  },
  {
   "cell_type": "code",
   "execution_count": 321,
   "id": "506b50bf",
   "metadata": {},
   "outputs": [
    {
     "name": "stdout",
     "output_type": "stream",
     "text": [
      "[[ 0.44453517  0.14013839 -0.58467355]\n",
      " [ 0.66680275  0.21020758 -0.87701033]]\n"
     ]
    }
   ],
   "source": [
    "def f(W):\n",
    "    return net.loss(x,t) # f 라는 손실함수를 계산해주는 함수를 정의해야 한다.\n",
    "\n",
    "dW = numerical_gradient(f,net.W) # 매개변수에 대한 손실함수의 미분값 = 기울기\n",
    "print(dW) # w11은 손실함수가 증가하는데 기여할 수 있기 때문에 음의 방향으로 갱신시켜야 손실함수가 감소한다"
   ]
  }
 ],
 "metadata": {
  "kernelspec": {
   "display_name": "Python 3",
   "language": "python",
   "name": "python3"
  },
  "language_info": {
   "codemirror_mode": {
    "name": "ipython",
    "version": 3
   },
   "file_extension": ".py",
   "mimetype": "text/x-python",
   "name": "python",
   "nbconvert_exporter": "python",
   "pygments_lexer": "ipython3",
   "version": "3.8.8"
  }
 },
 "nbformat": 4,
 "nbformat_minor": 5
}
