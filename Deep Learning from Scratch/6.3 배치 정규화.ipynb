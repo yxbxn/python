{
 "cells": [
  {
   "cell_type": "markdown",
   "id": "269e84f7",
   "metadata": {},
   "source": [
    "## 배치 정규화\n",
    "- 가중치 초깃값을 적절하게 설정하면 각 층의 활성화 값 분포가 적당히 퍼지는 모습\n",
    "- 각 층의 활성화 값이 적당히 퍼지도록 하는 배치 정규화"
   ]
  },
  {
   "cell_type": "code",
   "execution_count": 2,
   "id": "4633e68b",
   "metadata": {},
   "outputs": [],
   "source": [
    "import sys, os\n",
    "sys.path.append(os.pardir)  # 부모 디렉터리의 파일을 가져올 수 있도록 설정\n",
    "import numpy as np\n",
    "import matplotlib.pyplot as plt\n",
    "from dataset.mnist import load_mnist\n",
    "from common.multi_layer_net_extend import MultiLayerNetExtend\n",
    "from common.optimizer import SGD, Adam"
   ]
  },
  {
   "cell_type": "code",
   "execution_count": 3,
   "id": "fc87d8f9",
   "metadata": {},
   "outputs": [],
   "source": [
    "# MNIST 데이터 가져오기\n",
    "\n",
    "(x_train,t_train),(x_test,t_test) = load_mnist(normalize=True)\n",
    "\n",
    "# 학습데이터 줄이기\n",
    "x_train = x_train[:1000]\n",
    "t_train = t_train[:1000]\n",
    "\n",
    "max_epochs = 20\n",
    "train_size = x_train.shape[0] # 1000\n",
    "batch_size = 100\n",
    "lr_rate = 0.01"
   ]
  },
  {
   "cell_type": "code",
   "execution_count": 4,
   "id": "ad6eb010",
   "metadata": {},
   "outputs": [],
   "source": [
    "def __train(weight_init_std):\n",
    "    \n",
    "    # 배치 정규화 적용\n",
    "    bn_network = MultiLayerNetExtend(input_size=784, hidden_size_list=[100, 100, 100, 100, 100],\n",
    "                                     output_size = 10,weight_init_std=weight_init_std, use_batchnorm = True)\n",
    "    network = MultiLayerNetExtend(input_size=784, hidden_size_list=[100, 100, 100, 100, 100],\n",
    "                                     output_size = 10,weight_init_std=weight_init_std, use_batchnorm = False)\n",
    "    \n",
    "    optimizer = SGD(lr=lr_rate)\n",
    "    \n",
    "    train_acc_lst = []\n",
    "    bn_train_acc_lst = []\n",
    "    \n",
    "    iter_per_epoch = max(train_size / batch_size,1) # 1epoch 마다 100번 반복\n",
    "    epoch_cnt = 0\n",
    "    \n",
    "    for i in range(1000000000):\n",
    "        batch_mask = np.random.choice(train_size,batch_size)\n",
    "        x_batch = x_train[batch_mask]\n",
    "        t_batch = t_train[batch_mask]\n",
    "        \n",
    "        for _network in (bn_network,network):\n",
    "            grads = _network.gradient(x_batch,t_batch)\n",
    "            optimizer.update(_network.params,grads)\n",
    "            \n",
    "        if i % iter_per_epoch == 0:\n",
    "            train_acc = network.accuracy(x_train,t_train)\n",
    "            bn_train_acc = bn_network.accuracy(x_train,t_train)\n",
    "            \n",
    "            train_acc_lst.append(train_acc)\n",
    "            bn_train_acc_lst.append(bn_train_acc)\n",
    "            \n",
    "            print(\"epoch:\" + str(epoch_cnt) + \" | \" + str(train_acc) + \" - \" + str(bn_train_acc))\n",
    "            \n",
    "            epoch_cnt+=1\n",
    "            if epoch_cnt >= max_epochs:\n",
    "                break\n",
    "                \n",
    "    return train_acc_lst,bn_train_acc_lst"
   ]
  },
  {
   "cell_type": "code",
   "execution_count": 5,
   "id": "9f80dc42",
   "metadata": {},
   "outputs": [],
   "source": [
    "# 그래프 그리기\n",
    "\n",
    "weight_scale_lst = np.logspace(0,-4,num=16)\n",
    "x = np.arange(max_epochs)"
   ]
  },
  {
   "cell_type": "code",
   "execution_count": 6,
   "id": "071d807b",
   "metadata": {},
   "outputs": [
    {
     "data": {
      "text/plain": [
       "array([1.00000000e+00, 5.41169527e-01, 2.92864456e-01, 1.58489319e-01,\n",
       "       8.57695899e-02, 4.64158883e-02, 2.51188643e-02, 1.35935639e-02,\n",
       "       7.35642254e-03, 3.98107171e-03, 2.15443469e-03, 1.16591440e-03,\n",
       "       6.30957344e-04, 3.41454887e-04, 1.84784980e-04, 1.00000000e-04])"
      ]
     },
     "execution_count": 6,
     "metadata": {},
     "output_type": "execute_result"
    }
   ],
   "source": [
    "weight_scale_lst"
   ]
  },
  {
   "cell_type": "code",
   "execution_count": 11,
   "id": "de755c9a",
   "metadata": {},
   "outputs": [
    {
     "name": "stdout",
     "output_type": "stream",
     "text": [
      "============== 1/16 ==============\n",
      "epoch:0 | 0.117 - 0.116\n"
     ]
    },
    {
     "name": "stderr",
     "output_type": "stream",
     "text": [
      "C:\\Users\\김유빈\\Untitled Folder\\common\\multi_layer_net_extend.py:104: RuntimeWarning: overflow encountered in square\n",
      "  weight_decay += 0.5 * self.weight_decay_lambda * np.sum(W**2)\n",
      "C:\\Users\\김유빈\\Untitled Folder\\common\\multi_layer_net_extend.py:104: RuntimeWarning: invalid value encountered in double_scalars\n",
      "  weight_decay += 0.5 * self.weight_decay_lambda * np.sum(W**2)\n"
     ]
    },
    {
     "name": "stdout",
     "output_type": "stream",
     "text": [
      "epoch:1 | 0.097 - 0.115\n",
      "epoch:2 | 0.097 - 0.111\n",
      "epoch:3 | 0.097 - 0.161\n",
      "epoch:4 | 0.097 - 0.183\n",
      "epoch:5 | 0.097 - 0.203\n",
      "epoch:6 | 0.097 - 0.207\n",
      "epoch:7 | 0.097 - 0.23\n",
      "epoch:8 | 0.097 - 0.248\n",
      "epoch:9 | 0.097 - 0.27\n",
      "epoch:10 | 0.097 - 0.281\n",
      "epoch:11 | 0.097 - 0.313\n",
      "epoch:12 | 0.097 - 0.319\n",
      "epoch:13 | 0.097 - 0.328\n",
      "epoch:14 | 0.097 - 0.358\n",
      "epoch:15 | 0.097 - 0.362\n",
      "epoch:16 | 0.097 - 0.373\n",
      "epoch:17 | 0.097 - 0.384\n",
      "epoch:18 | 0.097 - 0.41\n"
     ]
    },
    {
     "name": "stderr",
     "output_type": "stream",
     "text": [
      "No handles with labels found to put in legend.\n"
     ]
    },
    {
     "name": "stdout",
     "output_type": "stream",
     "text": [
      "epoch:19 | 0.097 - 0.419\n",
      "============== 2/16 ==============\n",
      "epoch:0 | 0.105 - 0.077\n"
     ]
    },
    {
     "name": "stderr",
     "output_type": "stream",
     "text": [
      "C:\\Users\\김유빈\\Untitled Folder\\common\\multi_layer_net_extend.py:104: RuntimeWarning: overflow encountered in square\n",
      "  weight_decay += 0.5 * self.weight_decay_lambda * np.sum(W**2)\n",
      "C:\\Users\\김유빈\\Untitled Folder\\common\\multi_layer_net_extend.py:104: RuntimeWarning: invalid value encountered in double_scalars\n",
      "  weight_decay += 0.5 * self.weight_decay_lambda * np.sum(W**2)\n"
     ]
    },
    {
     "name": "stdout",
     "output_type": "stream",
     "text": [
      "epoch:1 | 0.097 - 0.105\n",
      "epoch:2 | 0.097 - 0.138\n",
      "epoch:3 | 0.097 - 0.149\n",
      "epoch:4 | 0.097 - 0.162\n",
      "epoch:5 | 0.097 - 0.181\n",
      "epoch:6 | 0.097 - 0.202\n",
      "epoch:7 | 0.097 - 0.215\n",
      "epoch:8 | 0.097 - 0.234\n",
      "epoch:9 | 0.097 - 0.252\n",
      "epoch:10 | 0.097 - 0.28\n",
      "epoch:11 | 0.097 - 0.303\n",
      "epoch:12 | 0.097 - 0.321\n",
      "epoch:13 | 0.097 - 0.337\n",
      "epoch:14 | 0.097 - 0.349\n",
      "epoch:15 | 0.097 - 0.387\n",
      "epoch:16 | 0.097 - 0.394\n",
      "epoch:17 | 0.097 - 0.411\n",
      "epoch:18 | 0.097 - 0.425\n"
     ]
    },
    {
     "name": "stderr",
     "output_type": "stream",
     "text": [
      "No handles with labels found to put in legend.\n"
     ]
    },
    {
     "name": "stdout",
     "output_type": "stream",
     "text": [
      "epoch:19 | 0.097 - 0.441\n",
      "============== 3/16 ==============\n",
      "epoch:0 | 0.118 - 0.107\n",
      "epoch:1 | 0.383 - 0.092\n",
      "epoch:2 | 0.533 - 0.118\n",
      "epoch:3 | 0.651 - 0.147\n",
      "epoch:4 | 0.683 - 0.188\n",
      "epoch:5 | 0.732 - 0.229\n",
      "epoch:6 | 0.789 - 0.258\n",
      "epoch:7 | 0.838 - 0.305\n",
      "epoch:8 | 0.88 - 0.33\n",
      "epoch:9 | 0.899 - 0.38\n",
      "epoch:10 | 0.926 - 0.421\n",
      "epoch:11 | 0.946 - 0.446\n",
      "epoch:12 | 0.955 - 0.484\n",
      "epoch:13 | 0.968 - 0.515\n",
      "epoch:14 | 0.977 - 0.538\n",
      "epoch:15 | 0.979 - 0.561\n",
      "epoch:16 | 0.984 - 0.583\n",
      "epoch:17 | 0.987 - 0.596\n",
      "epoch:18 | 0.988 - 0.62\n"
     ]
    },
    {
     "name": "stderr",
     "output_type": "stream",
     "text": [
      "No handles with labels found to put in legend.\n"
     ]
    },
    {
     "name": "stdout",
     "output_type": "stream",
     "text": [
      "epoch:19 | 0.991 - 0.65\n",
      "============== 4/16 ==============\n",
      "epoch:0 | 0.083 - 0.1\n",
      "epoch:1 | 0.204 - 0.093\n",
      "epoch:2 | 0.323 - 0.177\n",
      "epoch:3 | 0.423 - 0.261\n",
      "epoch:4 | 0.492 - 0.315\n",
      "epoch:5 | 0.553 - 0.401\n",
      "epoch:6 | 0.587 - 0.432\n",
      "epoch:7 | 0.64 - 0.473\n",
      "epoch:8 | 0.666 - 0.519\n",
      "epoch:9 | 0.707 - 0.578\n",
      "epoch:10 | 0.737 - 0.604\n",
      "epoch:11 | 0.734 - 0.625\n",
      "epoch:12 | 0.777 - 0.654\n",
      "epoch:13 | 0.765 - 0.68\n",
      "epoch:14 | 0.795 - 0.705\n",
      "epoch:15 | 0.795 - 0.724\n",
      "epoch:16 | 0.82 - 0.735\n",
      "epoch:17 | 0.836 - 0.749\n",
      "epoch:18 | 0.832 - 0.757\n"
     ]
    },
    {
     "name": "stderr",
     "output_type": "stream",
     "text": [
      "No handles with labels found to put in legend.\n"
     ]
    },
    {
     "name": "stdout",
     "output_type": "stream",
     "text": [
      "epoch:19 | 0.838 - 0.772\n",
      "============== 5/16 ==============\n",
      "epoch:0 | 0.087 - 0.092\n",
      "epoch:1 | 0.097 - 0.181\n",
      "epoch:2 | 0.101 - 0.349\n",
      "epoch:3 | 0.11 - 0.47\n",
      "epoch:4 | 0.129 - 0.554\n",
      "epoch:5 | 0.134 - 0.622\n",
      "epoch:6 | 0.14 - 0.67\n",
      "epoch:7 | 0.157 - 0.716\n",
      "epoch:8 | 0.169 - 0.748\n",
      "epoch:9 | 0.191 - 0.775\n",
      "epoch:10 | 0.198 - 0.8\n",
      "epoch:11 | 0.21 - 0.813\n",
      "epoch:12 | 0.212 - 0.83\n",
      "epoch:13 | 0.206 - 0.838\n",
      "epoch:14 | 0.208 - 0.853\n",
      "epoch:15 | 0.226 - 0.858\n",
      "epoch:16 | 0.234 - 0.87\n",
      "epoch:17 | 0.229 - 0.889\n",
      "epoch:18 | 0.248 - 0.886\n"
     ]
    },
    {
     "name": "stderr",
     "output_type": "stream",
     "text": [
      "No handles with labels found to put in legend.\n"
     ]
    },
    {
     "name": "stdout",
     "output_type": "stream",
     "text": [
      "epoch:19 | 0.242 - 0.897\n",
      "============== 6/16 ==============\n",
      "epoch:0 | 0.1 - 0.119\n",
      "epoch:1 | 0.1 - 0.187\n",
      "epoch:2 | 0.092 - 0.464\n",
      "epoch:3 | 0.091 - 0.607\n",
      "epoch:4 | 0.103 - 0.7\n",
      "epoch:5 | 0.143 - 0.742\n",
      "epoch:6 | 0.124 - 0.768\n",
      "epoch:7 | 0.117 - 0.784\n",
      "epoch:8 | 0.117 - 0.807\n",
      "epoch:9 | 0.117 - 0.826\n",
      "epoch:10 | 0.117 - 0.842\n",
      "epoch:11 | 0.117 - 0.86\n",
      "epoch:12 | 0.117 - 0.868\n",
      "epoch:13 | 0.117 - 0.878\n",
      "epoch:14 | 0.117 - 0.895\n",
      "epoch:15 | 0.117 - 0.903\n",
      "epoch:16 | 0.117 - 0.914\n",
      "epoch:17 | 0.117 - 0.924\n",
      "epoch:18 | 0.117 - 0.934\n"
     ]
    },
    {
     "name": "stderr",
     "output_type": "stream",
     "text": [
      "No handles with labels found to put in legend.\n"
     ]
    },
    {
     "name": "stdout",
     "output_type": "stream",
     "text": [
      "epoch:19 | 0.117 - 0.944\n",
      "============== 7/16 ==============\n",
      "epoch:0 | 0.099 - 0.112\n",
      "epoch:1 | 0.116 - 0.251\n",
      "epoch:2 | 0.116 - 0.532\n",
      "epoch:3 | 0.116 - 0.651\n",
      "epoch:4 | 0.117 - 0.74\n",
      "epoch:5 | 0.117 - 0.786\n",
      "epoch:6 | 0.117 - 0.836\n",
      "epoch:7 | 0.117 - 0.872\n",
      "epoch:8 | 0.116 - 0.905\n",
      "epoch:9 | 0.116 - 0.919\n",
      "epoch:10 | 0.116 - 0.936\n",
      "epoch:11 | 0.116 - 0.953\n",
      "epoch:12 | 0.116 - 0.969\n",
      "epoch:13 | 0.116 - 0.972\n",
      "epoch:14 | 0.116 - 0.98\n",
      "epoch:15 | 0.116 - 0.987\n",
      "epoch:16 | 0.116 - 0.989\n",
      "epoch:17 | 0.116 - 0.993\n",
      "epoch:18 | 0.117 - 0.994\n"
     ]
    },
    {
     "name": "stderr",
     "output_type": "stream",
     "text": [
      "No handles with labels found to put in legend.\n"
     ]
    },
    {
     "name": "stdout",
     "output_type": "stream",
     "text": [
      "epoch:19 | 0.117 - 0.997\n",
      "============== 8/16 ==============\n",
      "epoch:0 | 0.116 - 0.094\n",
      "epoch:1 | 0.116 - 0.404\n",
      "epoch:2 | 0.116 - 0.67\n",
      "epoch:3 | 0.116 - 0.787\n",
      "epoch:4 | 0.116 - 0.857\n",
      "epoch:5 | 0.117 - 0.889\n",
      "epoch:6 | 0.117 - 0.931\n",
      "epoch:7 | 0.117 - 0.946\n",
      "epoch:8 | 0.117 - 0.96\n",
      "epoch:9 | 0.117 - 0.97\n",
      "epoch:10 | 0.117 - 0.98\n",
      "epoch:11 | 0.116 - 0.985\n",
      "epoch:12 | 0.117 - 0.993\n",
      "epoch:13 | 0.117 - 0.995\n",
      "epoch:14 | 0.117 - 0.996\n",
      "epoch:15 | 0.117 - 0.996\n",
      "epoch:16 | 0.117 - 0.997\n",
      "epoch:17 | 0.117 - 0.998\n",
      "epoch:18 | 0.117 - 0.999\n",
      "epoch:19 | 0.117 - 0.999\n"
     ]
    },
    {
     "name": "stderr",
     "output_type": "stream",
     "text": [
      "No handles with labels found to put in legend.\n"
     ]
    },
    {
     "name": "stdout",
     "output_type": "stream",
     "text": [
      "============== 9/16 ==============\n",
      "epoch:0 | 0.093 - 0.155\n",
      "epoch:1 | 0.117 - 0.572\n",
      "epoch:2 | 0.117 - 0.725\n",
      "epoch:3 | 0.117 - 0.787\n",
      "epoch:4 | 0.117 - 0.84\n",
      "epoch:5 | 0.117 - 0.909\n",
      "epoch:6 | 0.117 - 0.94\n",
      "epoch:7 | 0.117 - 0.967\n",
      "epoch:8 | 0.117 - 0.986\n",
      "epoch:9 | 0.117 - 0.99\n",
      "epoch:10 | 0.117 - 0.993\n",
      "epoch:11 | 0.117 - 0.995\n",
      "epoch:12 | 0.117 - 0.997\n",
      "epoch:13 | 0.117 - 0.993\n",
      "epoch:14 | 0.117 - 0.996\n",
      "epoch:15 | 0.117 - 0.999\n",
      "epoch:16 | 0.117 - 0.999\n",
      "epoch:17 | 0.117 - 1.0\n",
      "epoch:18 | 0.116 - 1.0\n"
     ]
    },
    {
     "name": "stderr",
     "output_type": "stream",
     "text": [
      "No handles with labels found to put in legend.\n"
     ]
    },
    {
     "name": "stdout",
     "output_type": "stream",
     "text": [
      "epoch:19 | 0.116 - 1.0\n",
      "============== 10/16 ==============\n",
      "epoch:0 | 0.105 - 0.133\n",
      "epoch:1 | 0.117 - 0.616\n",
      "epoch:2 | 0.117 - 0.754\n",
      "epoch:3 | 0.117 - 0.791\n",
      "epoch:4 | 0.117 - 0.856\n",
      "epoch:5 | 0.116 - 0.872\n",
      "epoch:6 | 0.116 - 0.864\n",
      "epoch:7 | 0.116 - 0.886\n",
      "epoch:8 | 0.116 - 0.891\n",
      "epoch:9 | 0.116 - 0.9\n",
      "epoch:10 | 0.117 - 0.904\n",
      "epoch:11 | 0.117 - 0.902\n",
      "epoch:12 | 0.117 - 0.904\n",
      "epoch:13 | 0.117 - 0.923\n",
      "epoch:14 | 0.117 - 0.915\n",
      "epoch:15 | 0.117 - 0.95\n",
      "epoch:16 | 0.117 - 0.962\n",
      "epoch:17 | 0.117 - 0.951\n",
      "epoch:18 | 0.117 - 0.967\n"
     ]
    },
    {
     "name": "stderr",
     "output_type": "stream",
     "text": [
      "No handles with labels found to put in legend.\n"
     ]
    },
    {
     "name": "stdout",
     "output_type": "stream",
     "text": [
      "epoch:19 | 0.117 - 0.988\n",
      "============== 11/16 ==============\n",
      "epoch:0 | 0.087 - 0.177\n",
      "epoch:1 | 0.117 - 0.601\n",
      "epoch:2 | 0.117 - 0.8\n",
      "epoch:3 | 0.117 - 0.832\n",
      "epoch:4 | 0.117 - 0.901\n",
      "epoch:5 | 0.117 - 0.916\n",
      "epoch:6 | 0.117 - 0.945\n",
      "epoch:7 | 0.117 - 0.947\n",
      "epoch:8 | 0.117 - 0.961\n",
      "epoch:9 | 0.117 - 0.972\n",
      "epoch:10 | 0.117 - 0.974\n",
      "epoch:11 | 0.117 - 0.968\n",
      "epoch:12 | 0.117 - 0.951\n",
      "epoch:13 | 0.117 - 0.995\n",
      "epoch:14 | 0.117 - 0.993\n",
      "epoch:15 | 0.117 - 0.996\n",
      "epoch:16 | 0.117 - 0.976\n",
      "epoch:17 | 0.117 - 0.994\n",
      "epoch:18 | 0.117 - 0.995\n"
     ]
    },
    {
     "name": "stderr",
     "output_type": "stream",
     "text": [
      "No handles with labels found to put in legend.\n"
     ]
    },
    {
     "name": "stdout",
     "output_type": "stream",
     "text": [
      "epoch:19 | 0.117 - 0.995\n",
      "============== 12/16 ==============\n",
      "epoch:0 | 0.105 - 0.113\n",
      "epoch:1 | 0.117 - 0.539\n",
      "epoch:2 | 0.117 - 0.557\n",
      "epoch:3 | 0.117 - 0.6\n",
      "epoch:4 | 0.117 - 0.602\n",
      "epoch:5 | 0.117 - 0.616\n",
      "epoch:6 | 0.117 - 0.624\n",
      "epoch:7 | 0.117 - 0.468\n",
      "epoch:8 | 0.117 - 0.639\n",
      "epoch:9 | 0.117 - 0.625\n",
      "epoch:10 | 0.116 - 0.614\n",
      "epoch:11 | 0.116 - 0.617\n",
      "epoch:12 | 0.116 - 0.668\n",
      "epoch:13 | 0.116 - 0.682\n",
      "epoch:14 | 0.116 - 0.705\n",
      "epoch:15 | 0.116 - 0.713\n",
      "epoch:16 | 0.116 - 0.718\n",
      "epoch:17 | 0.116 - 0.802\n",
      "epoch:18 | 0.116 - 0.799\n",
      "epoch:19 | 0.116 - 0.804\n"
     ]
    },
    {
     "name": "stderr",
     "output_type": "stream",
     "text": [
      "No handles with labels found to put in legend.\n"
     ]
    },
    {
     "name": "stdout",
     "output_type": "stream",
     "text": [
      "============== 13/16 ==============\n",
      "epoch:0 | 0.105 - 0.102\n",
      "epoch:1 | 0.117 - 0.488\n",
      "epoch:2 | 0.116 - 0.588\n",
      "epoch:3 | 0.116 - 0.598\n",
      "epoch:4 | 0.116 - 0.644\n",
      "epoch:5 | 0.116 - 0.617\n",
      "epoch:6 | 0.116 - 0.664\n",
      "epoch:7 | 0.116 - 0.687\n",
      "epoch:8 | 0.116 - 0.696\n",
      "epoch:9 | 0.116 - 0.683\n",
      "epoch:10 | 0.116 - 0.71\n",
      "epoch:11 | 0.116 - 0.742\n",
      "epoch:12 | 0.116 - 0.697\n",
      "epoch:13 | 0.116 - 0.723\n",
      "epoch:14 | 0.116 - 0.804\n",
      "epoch:15 | 0.116 - 0.805\n",
      "epoch:16 | 0.116 - 0.807\n",
      "epoch:17 | 0.116 - 0.818\n",
      "epoch:18 | 0.116 - 0.79\n"
     ]
    },
    {
     "name": "stderr",
     "output_type": "stream",
     "text": [
      "No handles with labels found to put in legend.\n"
     ]
    },
    {
     "name": "stdout",
     "output_type": "stream",
     "text": [
      "epoch:19 | 0.116 - 0.812\n",
      "============== 14/16 ==============\n",
      "epoch:0 | 0.117 - 0.14\n",
      "epoch:1 | 0.116 - 0.39\n",
      "epoch:2 | 0.117 - 0.45\n",
      "epoch:3 | 0.117 - 0.471\n",
      "epoch:4 | 0.117 - 0.494\n",
      "epoch:5 | 0.117 - 0.497\n",
      "epoch:6 | 0.117 - 0.476\n",
      "epoch:7 | 0.117 - 0.514\n",
      "epoch:8 | 0.116 - 0.527\n",
      "epoch:9 | 0.116 - 0.574\n",
      "epoch:10 | 0.116 - 0.633\n",
      "epoch:11 | 0.116 - 0.662\n",
      "epoch:12 | 0.116 - 0.642\n",
      "epoch:13 | 0.116 - 0.665\n",
      "epoch:14 | 0.116 - 0.676\n",
      "epoch:15 | 0.116 - 0.67\n",
      "epoch:16 | 0.116 - 0.667\n",
      "epoch:17 | 0.116 - 0.678\n",
      "epoch:18 | 0.117 - 0.64\n",
      "epoch:19 | 0.117 - 0.684"
     ]
    },
    {
     "name": "stderr",
     "output_type": "stream",
     "text": [
      "No handles with labels found to put in legend.\n"
     ]
    },
    {
     "name": "stdout",
     "output_type": "stream",
     "text": [
      "\n",
      "============== 15/16 ==============\n",
      "epoch:0 | 0.116 - 0.177\n",
      "epoch:1 | 0.116 - 0.276\n",
      "epoch:2 | 0.116 - 0.285\n",
      "epoch:3 | 0.116 - 0.47\n",
      "epoch:4 | 0.116 - 0.478\n",
      "epoch:5 | 0.116 - 0.494\n",
      "epoch:6 | 0.116 - 0.504\n",
      "epoch:7 | 0.116 - 0.49\n",
      "epoch:8 | 0.116 - 0.515\n",
      "epoch:9 | 0.116 - 0.518\n",
      "epoch:10 | 0.116 - 0.513\n",
      "epoch:11 | 0.116 - 0.518\n",
      "epoch:12 | 0.116 - 0.519\n",
      "epoch:13 | 0.116 - 0.521\n",
      "epoch:14 | 0.116 - 0.522\n",
      "epoch:15 | 0.116 - 0.522\n",
      "epoch:16 | 0.116 - 0.52\n",
      "epoch:17 | 0.116 - 0.521\n",
      "epoch:18 | 0.116 - 0.522\n"
     ]
    },
    {
     "name": "stderr",
     "output_type": "stream",
     "text": [
      "No handles with labels found to put in legend.\n"
     ]
    },
    {
     "name": "stdout",
     "output_type": "stream",
     "text": [
      "epoch:19 | 0.116 - 0.517\n",
      "============== 16/16 ==============\n",
      "epoch:0 | 0.117 - 0.198\n",
      "epoch:1 | 0.116 - 0.28\n",
      "epoch:2 | 0.116 - 0.312\n",
      "epoch:3 | 0.116 - 0.316\n",
      "epoch:4 | 0.116 - 0.315\n",
      "epoch:5 | 0.116 - 0.402\n",
      "epoch:6 | 0.116 - 0.42\n",
      "epoch:7 | 0.117 - 0.415\n",
      "epoch:8 | 0.117 - 0.417\n",
      "epoch:9 | 0.117 - 0.419\n",
      "epoch:10 | 0.117 - 0.419\n",
      "epoch:11 | 0.117 - 0.424\n",
      "epoch:12 | 0.117 - 0.423\n",
      "epoch:13 | 0.117 - 0.431\n",
      "epoch:14 | 0.116 - 0.425\n",
      "epoch:15 | 0.116 - 0.428\n",
      "epoch:16 | 0.116 - 0.428\n",
      "epoch:17 | 0.116 - 0.431\n",
      "epoch:18 | 0.116 - 0.426\n",
      "epoch:19 | 0.116 - 0.429\n"
     ]
    },
    {
     "data": {
      "image/png": "[encoded data removed]",
      "text/plain": [
       "<Figure size 432x288 with 16 Axes>"
      ]
     },
     "metadata": {
      "needs_background": "light"
     },
     "output_type": "display_data"
    }
   ],
   "source": [
    "for i,w in enumerate(weight_scale_lst):\n",
    "    print( \"============== \" + str(i+1) + \"/16\" + \" ==============\")\n",
    "    train_acc_lst, bn_train_acc_lst = __train(w)\n",
    "    \n",
    "    plt.subplot(4,4,i+1)\n",
    "    #plt.title(\"W:\" + str(w)) # 가중치의 표준편차에 따라서 그래프 그려주기\n",
    "    \n",
    "    if i == 15:\n",
    "        plt.plot(x, bn_train_acc_lst, label = \"Batch Normalization\", markevery = 2)\n",
    "        plt.plot(x, train_acc_lst, linestyle = \"--\",label = \"Normal(without BatchNorm)\", markevery = 2)\n",
    "        \n",
    "    else:\n",
    "        plt.plot(x, bn_train_acc_lst, markevery = 2)\n",
    "        plt.plot(x, train_acc_lst, linestyle = \"--\", markevery = 2)\n",
    "        \n",
    "    plt.ylim(0,1.0)\n",
    "    \n",
    "    if i % 4:\n",
    "        plt.yticks([]) # 눈금 표시해주기\n",
    "    else:\n",
    "        plt.ylabel(\"accuracy\")\n",
    "        \n",
    "    if i < 12:\n",
    "        plt.xticks([]) # 눈금 표시해주기\n",
    "        \n",
    "    else:\n",
    "        plt.xlabel(\"epochs\")\n",
    "    plt.legend(loc=\"lower right\")\n",
    "    \n",
    "plt.show()"
   ]
  },
  {
   "cell_type": "code",
   "execution_count": null,
   "id": "45e7fbee",
   "metadata": {},
   "outputs": [],
   "source": []
  }
 ],
 "metadata": {
  "kernelspec": {
   "display_name": "Python 3",
   "language": "python",
   "name": "python3"
  },
  "language_info": {
   "codemirror_mode": {
    "name": "ipython",
    "version": 3
   },
   "file_extension": ".py",
   "mimetype": "text/x-python",
   "name": "python",
   "nbconvert_exporter": "python",
   "pygments_lexer": "ipython3",
   "version": "3.8.8"
  }
 },
 "nbformat": 4,
 "nbformat_minor": 5
}
