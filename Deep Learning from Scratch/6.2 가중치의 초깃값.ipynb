{
 "cells": [
  {
   "cell_type": "markdown",
   "id": "51c169f3",
   "metadata": {},
   "source": [
    "## 가중치의 초깃값\n",
    "\n",
    "- 가중치의 초깃값에 따라 은닉층의 활성화 값들이 어떻게 분포하는 지 확인해보기\n",
    "- 정규분포의 표준편차를 조절하며 활성화값 분포 확인"
   ]
  },
  {
   "cell_type": "code",
   "execution_count": 1,
   "id": "3983399d",
   "metadata": {},
   "outputs": [],
   "source": [
    "import numpy as np\n",
    "import matplotlib.pyplot as plt"
   ]
  },
  {
   "cell_type": "markdown",
   "id": "acc94b04",
   "metadata": {},
   "source": [
    "### 다양한 활성화 함수 정의"
   ]
  },
  {
   "cell_type": "code",
   "execution_count": 2,
   "id": "727f5442",
   "metadata": {},
   "outputs": [],
   "source": [
    "def sigmoid(x):\n",
    "    return 1 / (1+np.exp(-x))\n",
    "\n",
    "def ReLU(x):\n",
    "    return np.maximum(0,x)\n",
    "\n",
    "def tanh(x):\n",
    "    return np.tanh(x)"
   ]
  },
  {
   "cell_type": "code",
   "execution_count": 3,
   "id": "7e92be26",
   "metadata": {},
   "outputs": [],
   "source": [
    "# np.random.rands은 정규분포 데이터를 생성함\n",
    "\n",
    "input_data = np.random.randn(1000,100) # 1000개의 데이터, 100개의 차원\n",
    "\n",
    "node_num = 100 # 각 은닉층의 노드 개수\n",
    "hidden_layer_size = 5 # 은닉층이 5개\n",
    "activations = {} # 은닉층의 활성화 값 저장"
   ]
  },
  {
   "cell_type": "code",
   "execution_count": 6,
   "id": "153fb6c8",
   "metadata": {},
   "outputs": [],
   "source": [
    "x = input_data\n",
    "\n",
    "for i in range(hidden_layer_size):\n",
    "    if i != 0:\n",
    "        x = activations[i-1] # n-1번째 층의 출력값이 n번째 층의 입력값\n",
    "    w = np.random.randn(node_num, node_num) * 1\n",
    "    # w = np.random.randn(node_num, node_num) * 0.01\n",
    "    # w = np.random.randn(node_num, node_num) * np.sqrt(1.0 / node_num)\n",
    "    # w = np.random.randn(node_num, node_num) * np.sqrt(2.0 / node_num)\n",
    "    a = np.dot(x, w)\n",
    "\n",
    "    # 활성화 함수도 바꿔가며 실험해보자！\n",
    "    z = sigmoid(a)\n",
    "    # z = ReLU(a)\n",
    "    # z = tanh(a)\n",
    "\n",
    "    activations[i] = z"
   ]
  },
  {
   "cell_type": "code",
   "execution_count": 7,
   "id": "539edcd5",
   "metadata": {},
   "outputs": [
    {
     "data": {
      "image/png": "[encoded data removed]",
      "text/plain": [
       "<Figure size 432x288 with 5 Axes>"
      ]
     },
     "metadata": {
      "needs_background": "light"
     },
     "output_type": "display_data"
    }
   ],
   "source": [
    "# 히스토그램 그리기\n",
    "for i, a in activations.items():\n",
    "    plt.subplot(1, len(activations), i+1)\n",
    "    plt.title(str(i+1) + \"-layer\")\n",
    "    if i != 0: plt.yticks([], [])\n",
    "    # plt.xlim(0.1, 1)\n",
    "    # plt.ylim(0, 7000)\n",
    "    plt.hist(a.flatten(), 30, range=(0,1))\n",
    "plt.show()"
   ]
  },
  {
   "cell_type": "code",
   "execution_count": 14,
   "id": "a785e196",
   "metadata": {},
   "outputs": [
    {
     "data": {
      "text/plain": [
       "array([[-0.0146297 , -0.00885683,  0.00415885, ..., -0.00821778,\n",
       "         0.00113496,  0.00442146],\n",
       "       [-0.00781636, -0.00474467,  0.00501844, ..., -0.00610192,\n",
       "         0.00931837,  0.00946593],\n",
       "       [ 0.00609336, -0.00592004,  0.0052794 , ...,  0.00128257,\n",
       "        -0.00549425, -0.0020182 ],\n",
       "       ...,\n",
       "       [ 0.00744876,  0.00659562,  0.00620051, ..., -0.0001776 ,\n",
       "         0.0021813 ,  0.00349783],\n",
       "       [ 0.00225215, -0.00766696,  0.00904757, ..., -0.00563593,\n",
       "         0.01316105, -0.00495816],\n",
       "       [-0.00518208,  0.00928931, -0.01204952, ...,  0.00209821,\n",
       "        -0.01263934, -0.00904589]])"
      ]
     },
     "execution_count": 14,
     "metadata": {},
     "output_type": "execute_result"
    }
   ],
   "source": [
    "w"
   ]
  },
  {
   "cell_type": "markdown",
   "id": "66793bdd",
   "metadata": {},
   "source": [
    "표준편차가 0.01인 정규분포를 초깃값으로 설정"
   ]
  },
  {
   "cell_type": "code",
   "execution_count": 8,
   "id": "21611789",
   "metadata": {},
   "outputs": [],
   "source": [
    "x = input_data\n",
    "\n",
    "for i in range(hidden_layer_size):\n",
    "    if i != 0:\n",
    "        x = activations[i-1] # n-1번째 층의 출력값이 n번째 층의 입력값\n",
    "    w = np.random.randn(node_num, node_num) * 0.01\n",
    "    a = np.dot(x, w)\n",
    "\n",
    "    # 활성화 함수도 바꿔가며 실험해보자！\n",
    "    z = sigmoid(a)\n",
    "    # z = ReLU(a)\n",
    "    # z = tanh(a)\n",
    "\n",
    "    activations[i] = z"
   ]
  },
  {
   "cell_type": "code",
   "execution_count": 9,
   "id": "3db8651e",
   "metadata": {},
   "outputs": [
    {
     "data": {
      "text/plain": [
       "(array([   9.,   59.,  431., 1376., 2781., 2862., 1774.,  577.,  117.,\n",
       "          14.]),\n",
       " array([-0.03956614, -0.03179677, -0.0240274 , -0.01625803, -0.00848866,\n",
       "        -0.00071929,  0.00705008,  0.01481945,  0.02258882,  0.03035819,\n",
       "         0.03812756]),\n",
       " <BarContainer object of 10 artists>)"
      ]
     },
     "execution_count": 9,
     "metadata": {},
     "output_type": "execute_result"
    },
    {
     "data": {
      "image/png": "[encoded data removed]",
      "text/plain": [
       "<Figure size 432x288 with 1 Axes>"
      ]
     },
     "metadata": {
      "needs_background": "light"
     },
     "output_type": "display_data"
    }
   ],
   "source": [
    "plt.hist(w.flatten())"
   ]
  },
  {
   "cell_type": "code",
   "execution_count": 10,
   "id": "25b3019e",
   "metadata": {},
   "outputs": [
    {
     "data": {
      "image/png": "[encoded data removed]",
      "text/plain": [
       "<Figure size 432x288 with 5 Axes>"
      ]
     },
     "metadata": {
      "needs_background": "light"
     },
     "output_type": "display_data"
    }
   ],
   "source": [
    "# 히스토그램 그리기\n",
    "for i, a in activations.items():\n",
    "    plt.subplot(1, len(activations), i+1)\n",
    "    plt.title(str(i+1) + \"-layer\")\n",
    "    if i != 0: plt.yticks([], [])\n",
    "    # plt.xlim(0.1, 1)\n",
    "    # plt.ylim(0, 7000)\n",
    "    plt.hist(a.flatten(), 30, range=(0,1))\n",
    "plt.show()"
   ]
  },
  {
   "cell_type": "markdown",
   "id": "c1f0108f",
   "metadata": {},
   "source": [
    "xavier 초깃값 - 활성화 함수 : 시그모이드"
   ]
  },
  {
   "cell_type": "code",
   "execution_count": 14,
   "id": "bee3530a",
   "metadata": {},
   "outputs": [],
   "source": [
    "x = input_data\n",
    "\n",
    "for i in range(hidden_layer_size):\n",
    "    if i != 0:\n",
    "        x = activations[i-1] # n-1번째 층의 출력값이 n번째 층의 입력값\n",
    "    w = np.random.randn(node_num, node_num) * np.sqrt(1.0 / node_num) # xavier 초깃값\n",
    "    a = np.dot(x, w)\n",
    "\n",
    "    # 활성화 함수도 바꿔가며 실험해보자！\n",
    "    z = sigmoid(a)\n",
    "    # z = ReLU(a)\n",
    "    # z = tanh(a)\n",
    "\n",
    "    activations[i] = z"
   ]
  },
  {
   "cell_type": "code",
   "execution_count": 15,
   "id": "d4053605",
   "metadata": {},
   "outputs": [
    {
     "data": {
      "text/plain": [
       "(array([  19.,  152.,  646., 1910., 2937., 2501., 1361.,  402.,   62.,\n",
       "          10.]),\n",
       " array([-0.36474192, -0.28844978, -0.21215764, -0.1358655 , -0.05957336,\n",
       "         0.01671878,  0.09301093,  0.16930307,  0.24559521,  0.32188735,\n",
       "         0.39817949]),\n",
       " <BarContainer object of 10 artists>)"
      ]
     },
     "execution_count": 15,
     "metadata": {},
     "output_type": "execute_result"
    },
    {
     "data": {
      "image/png": "[encoded data removed]",
      "text/plain": [
       "<Figure size 432x288 with 1 Axes>"
      ]
     },
     "metadata": {
      "needs_background": "light"
     },
     "output_type": "display_data"
    }
   ],
   "source": [
    "plt.hist(w.flatten())"
   ]
  },
  {
   "cell_type": "code",
   "execution_count": 16,
   "id": "f3e1b6b4",
   "metadata": {},
   "outputs": [
    {
     "data": {
      "image/png": "[encoded data removed]",
      "text/plain": [
       "<Figure size 432x288 with 5 Axes>"
      ]
     },
     "metadata": {
      "needs_background": "light"
     },
     "output_type": "display_data"
    }
   ],
   "source": [
    "# 히스토그램 그리기\n",
    "for i, a in activations.items():\n",
    "    plt.subplot(1, len(activations), i+1)\n",
    "    plt.title(str(i+1) + \"-layer\")\n",
    "    if i != 0: plt.yticks([], [])\n",
    "    # plt.xlim(0.1, 1)\n",
    "    # plt.ylim(0, 7000)\n",
    "    plt.hist(a.flatten(), 30, range=(0,1))\n",
    "plt.show()"
   ]
  },
  {
   "cell_type": "markdown",
   "id": "8e4fd0b9",
   "metadata": {},
   "source": [
    "xavier 초깃값 - 활성화 함수 : tanh"
   ]
  },
  {
   "cell_type": "code",
   "execution_count": 25,
   "id": "cf96cf07",
   "metadata": {},
   "outputs": [],
   "source": [
    "x = input_data\n",
    "\n",
    "for i in range(hidden_layer_size):\n",
    "    if i != 0:\n",
    "        x = activations[i-1] # n-1번째 층의 출력값이 n번째 층의 입력값\n",
    "    w = np.random.randn(node_num, node_num) / np.sqrt(node_num)\n",
    "    a = np.dot(x, w)\n",
    "\n",
    "    # 활성화 함수도 바꿔가며 실험해보자！\n",
    "    z = tanh(a)\n",
    "\n",
    "    activations[i] = z"
   ]
  },
  {
   "cell_type": "code",
   "execution_count": 17,
   "id": "206ee660",
   "metadata": {},
   "outputs": [
    {
     "data": {
      "image/png": "[encoded data removed]",
      "text/plain": [
       "<Figure size 432x288 with 5 Axes>"
      ]
     },
     "metadata": {
      "needs_background": "light"
     },
     "output_type": "display_data"
    }
   ],
   "source": [
    "# 히스토그램 그리기\n",
    "for i, a in activations.items():\n",
    "    plt.subplot(1, len(activations), i+1)\n",
    "    plt.title(str(i+1) + \"-layer\")\n",
    "    if i != 0: plt.yticks([], [])\n",
    "    # plt.xlim(0.1, 1)\n",
    "    # plt.ylim(0, 7000)\n",
    "    plt.hist(a.flatten(), 30, range=(0,1))\n",
    "plt.show()"
   ]
  },
  {
   "cell_type": "markdown",
   "id": "a7c44e05",
   "metadata": {},
   "source": [
    "He 초깃값 - 활성화 함수 : ReLU 함수"
   ]
  },
  {
   "cell_type": "code",
   "execution_count": 18,
   "id": "90b01d9e",
   "metadata": {},
   "outputs": [],
   "source": [
    "x = input_data\n",
    "\n",
    "for i in range(hidden_layer_size):\n",
    "    if i != 0:\n",
    "        x = activations[i-1] # n-1번째 층의 출력값이 n번째 층의 입력값\n",
    "    w = np.random.randn(node_num, node_num) * np.sqrt(2.0 / node_num)\n",
    "    a = np.dot(x, w)\n",
    "\n",
    "    # 활성화 함수도 바꿔가며 실험해보자！\n",
    "    #z = sigmoid(a)\n",
    "    z = ReLU(a)\n",
    "    # z = tanh(a)\n",
    "\n",
    "    activations[i] = z"
   ]
  },
  {
   "cell_type": "code",
   "execution_count": 20,
   "id": "815c6a7b",
   "metadata": {},
   "outputs": [
    {
     "data": {
      "image/png": "[encoded data removed]",
      "text/plain": [
       "<Figure size 432x288 with 5 Axes>"
      ]
     },
     "metadata": {
      "needs_background": "light"
     },
     "output_type": "display_data"
    }
   ],
   "source": [
    "# 히스토그램 그리기\n",
    "for i, a in activations.items():\n",
    "    plt.subplot(1, len(activations), i+1)\n",
    "    plt.title(str(i+1) + \"-layer\")\n",
    "    if i != 0: plt.yticks([], [])\n",
    "    #plt.xlim(0.1, 1)\n",
    "    plt.ylim(0, 7000)\n",
    "    plt.hist(a.flatten(), 30, range=(0,1))\n",
    "plt.show()"
   ]
  },
  {
   "cell_type": "markdown",
   "id": "28248c4a",
   "metadata": {},
   "source": [
    "### MNIST 데이터셋으로 본 가중치 초깃값 비교\n",
    "- std = 0.01\n",
    "- xavier 초깃값\n",
    "- He 초깃값"
   ]
  },
  {
   "cell_type": "code",
   "execution_count": 23,
   "id": "99df2aaf",
   "metadata": {},
   "outputs": [],
   "source": [
    "import os\n",
    "import sys\n",
    "\n",
    "sys.path.append(os.pardir)\n",
    "import numpy as np\n",
    "import matplotlib.pyplot as plt\n",
    "from dataset.mnist import load_mnist\n",
    "from common.util import smooth_curve\n",
    "from common.multi_layer_net import MultiLayerNet\n",
    "from common.optimizer import SGD"
   ]
  },
  {
   "cell_type": "code",
   "execution_count": 24,
   "id": "38117dc7",
   "metadata": {},
   "outputs": [],
   "source": [
    "# 0. MNIST 데이터 읽어오기\n",
    "(x_train,t_train),(x_test,t_test) = load_mnist(normalize=True)\n",
    "\n",
    "train_size = x_train.shape[0]\n",
    "batch_size = 128\n",
    "max_iterations = 2000"
   ]
  },
  {
   "cell_type": "code",
   "execution_count": 25,
   "id": "8a9fced4",
   "metadata": {},
   "outputs": [],
   "source": [
    "# 1. 실험용 설정\n",
    "\n",
    "weight_init_types = {\"std=0.01\":0.01, \"Xavier\":\"sigmoid\",\"He\":\"relu\"}\n",
    "optimizer = SGD(lr=0.01)\n",
    "\n",
    "networks = {}\n",
    "train_loss = {}\n",
    "\n",
    "for key,weight_type in weight_init_types.items():\n",
    "    networks[key] = MultiLayerNet(input_size = 784,hidden_size_list=[100, 100, 100, 100],\n",
    "                                 output_size = 10, weight_init_std = weight_type)\n",
    "    \n",
    "    train_loss[key] = []"
   ]
  },
  {
   "cell_type": "code",
   "execution_count": 26,
   "id": "bddd906b",
   "metadata": {
    "scrolled": true
   },
   "outputs": [
    {
     "name": "stdout",
     "output_type": "stream",
     "text": [
      "===========iteration:0===========\n",
      "std=0.01 : 2.3025191106548943\n",
      "Xavier : 2.3101709717440975\n",
      "He : 2.3701357728369117\n",
      "===========iteration:100===========\n",
      "std=0.01 : 2.302848224014401\n",
      "Xavier : 2.2643445422718576\n",
      "He : 1.738178129430763\n",
      "===========iteration:200===========\n",
      "std=0.01 : 2.3030360098668945\n",
      "Xavier : 2.2022015890606186\n",
      "He : 1.001626978609846\n",
      "===========iteration:300===========\n",
      "std=0.01 : 2.3006171034417937\n",
      "Xavier : 1.9796082681202734\n",
      "He : 0.5867418347631213\n",
      "===========iteration:400===========\n",
      "std=0.01 : 2.302627704478141\n",
      "Xavier : 1.6164427464965039\n",
      "He : 0.3683486410805319\n",
      "===========iteration:500===========\n",
      "std=0.01 : 2.3030047884623124\n",
      "Xavier : 1.2686217592587632\n",
      "He : 0.3587487233172547\n",
      "===========iteration:600===========\n",
      "std=0.01 : 2.3019431909890242\n",
      "Xavier : 0.9507447442205785\n",
      "He : 0.43063692963300765\n",
      "===========iteration:700===========\n",
      "std=0.01 : 2.300088978151667\n",
      "Xavier : 0.5857274510751264\n",
      "He : 0.299100234757775\n",
      "===========iteration:800===========\n",
      "std=0.01 : 2.2954153863118645\n",
      "Xavier : 0.5245126704331659\n",
      "He : 0.3518907535546537\n",
      "===========iteration:900===========\n",
      "std=0.01 : 2.2990742981654018\n",
      "Xavier : 0.35820772391022193\n",
      "He : 0.1809415491200453\n",
      "===========iteration:1000===========\n",
      "std=0.01 : 2.305555495490844\n",
      "Xavier : 0.4110844653125621\n",
      "He : 0.2657863103032632\n",
      "===========iteration:1100===========\n",
      "std=0.01 : 2.30357931602663\n",
      "Xavier : 0.336270064747603\n",
      "He : 0.2538422269564574\n",
      "===========iteration:1200===========\n",
      "std=0.01 : 2.3037181122371724\n",
      "Xavier : 0.45605977634492256\n",
      "He : 0.2940099829593452\n",
      "===========iteration:1300===========\n",
      "std=0.01 : 2.302105396625644\n",
      "Xavier : 0.3596144604756213\n",
      "He : 0.22519340098195834\n",
      "===========iteration:1400===========\n",
      "std=0.01 : 2.2989070142926344\n",
      "Xavier : 0.3960368133485792\n",
      "He : 0.25183400677348744\n",
      "===========iteration:1500===========\n",
      "std=0.01 : 2.292304019759139\n",
      "Xavier : 0.21167790588829904\n",
      "He : 0.16872798609056888\n",
      "===========iteration:1600===========\n",
      "std=0.01 : 2.2953247714533402\n",
      "Xavier : 0.2843156039527957\n",
      "He : 0.15763483329770853\n",
      "===========iteration:1700===========\n",
      "std=0.01 : 2.3047069744428357\n",
      "Xavier : 0.3867558604096405\n",
      "He : 0.21348786966602412\n",
      "===========iteration:1800===========\n",
      "std=0.01 : 2.300303627835656\n",
      "Xavier : 0.25025774133393763\n",
      "He : 0.16043272395354402\n",
      "===========iteration:1900===========\n",
      "std=0.01 : 2.2980136294969244\n",
      "Xavier : 0.2659424083298214\n",
      "He : 0.1980786808665662\n"
     ]
    }
   ],
   "source": [
    "# 2. 훈련 시작\n",
    "\n",
    "for i in range(max_iterations):\n",
    "    batch_mask = np.random.choice(train_size,batch_size)\n",
    "    x_batch = x_train[batch_mask] # 배치 학습용 X\n",
    "    t_batch = t_train[batch_mask] # 배치 학습용 Y\n",
    "    \n",
    "    for key in weight_init_types.keys():\n",
    "        grads = networks[key].gradient(x_batch,t_batch)\n",
    "        optimizer.update(networks[key].params, grads)\n",
    "        \n",
    "        loss = networks[key].loss(x_batch,t_batch)\n",
    "        train_loss[key].append(loss)\n",
    "        \n",
    "    if i%100 == 0:\n",
    "        print(\"===========\" + \"iteration:\" + str(i) + \"===========\")\n",
    "        for key in weight_init_types.keys():\n",
    "            loss = networks[key].loss(x_batch,t_batch)\n",
    "            print(key + \" : \" + str(loss))"
   ]
  },
  {
   "cell_type": "code",
   "execution_count": 28,
   "id": "24d5518b",
   "metadata": {},
   "outputs": [
    {
     "data": {
      "image/png": "[encoded data removed]",
      "text/plain": [
       "<Figure size 432x288 with 1 Axes>"
      ]
     },
     "metadata": {
      "needs_background": "light"
     },
     "output_type": "display_data"
    }
   ],
   "source": [
    "# 3. 그래프 그리기\n",
    "markers = {'std=0.01': 'o', 'Xavier': 's', 'He': 'D'}\n",
    "\n",
    "x = np.arange(max_iterations)\n",
    "for key in weight_init_types.keys():\n",
    "    plt.plot(x,smooth_curve(train_loss[key]),marker = markers[key],markevery=100,label=key)\n",
    "    \n",
    "plt.xlabel(\"iterations\")\n",
    "plt.ylabel(\"loss\")\n",
    "plt.ylim(0,2.5)\n",
    "plt.legend()\n",
    "plt.show()"
   ]
  },
  {
   "cell_type": "markdown",
   "id": "68039d79",
   "metadata": {},
   "source": [
    "## 배치 정규화\n",
    "- 가중치 초깃값을 적절하게 설정하면 각 층의 활성화 값 분포가 적당히 퍼지는 모습\n",
    "- 각 층의 활성화 값이 적당히 퍼지도록 하는 배치 정규화"
   ]
  },
  {
   "cell_type": "code",
   "execution_count": null,
   "id": "592c2418",
   "metadata": {},
   "outputs": [],
   "source": []
  }
 ],
 "metadata": {
  "kernelspec": {
   "display_name": "Python 3",
   "language": "python",
   "name": "python3"
  },
  "language_info": {
   "codemirror_mode": {
    "name": "ipython",
    "version": 3
   },
   "file_extension": ".py",
   "mimetype": "text/x-python",
   "name": "python",
   "nbconvert_exporter": "python",
   "pygments_lexer": "ipython3",
   "version": "3.8.8"
  }
 },
 "nbformat": 4,
 "nbformat_minor": 5
}
