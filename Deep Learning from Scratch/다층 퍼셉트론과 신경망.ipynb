{
 "cells": [
  {
   "cell_type": "markdown",
   "id": "dcedf2c5",
   "metadata": {},
   "source": [
    "# 퍼셉트론과 신경망"
   ]
  },
  {
   "cell_type": "markdown",
   "id": "f9af8ec2",
   "metadata": {},
   "source": [
    "시그모이드 함수"
   ]
  },
  {
   "cell_type": "code",
   "execution_count": 1,
   "id": "0ad6f24e",
   "metadata": {},
   "outputs": [
    {
     "data": {
      "image/png": "[encoded data removed]",
      "text/plain": [
       "<Figure size 432x288 with 1 Axes>"
      ]
     },
     "metadata": {
      "needs_background": "light"
     },
     "output_type": "display_data"
    }
   ],
   "source": [
    "import numpy as np\n",
    "import matplotlib.pylab as plt\n",
    "\n",
    "def sigmoid(x):\n",
    "    return 1/(1+np.exp(-x))\n",
    "\n",
    "x = np.arange(-5,5,0.1)\n",
    "y = sigmoid(x)\n",
    "\n",
    "plt.plot(x,y)\n",
    "plt.ylim(-0.1,1.1)\n",
    "plt.show()"
   ]
  },
  {
   "cell_type": "markdown",
   "id": "0ae3ff16",
   "metadata": {},
   "source": [
    "계단함수와 시그모이드 함수의 차이 인지하기"
   ]
  },
  {
   "cell_type": "code",
   "execution_count": 3,
   "id": "7fd6bf1b",
   "metadata": {},
   "outputs": [
    {
     "data": {
      "image/png": "[encoded data removed]",
      "text/plain": [
       "<Figure size 432x288 with 1 Axes>"
      ]
     },
     "metadata": {
      "needs_background": "light"
     },
     "output_type": "display_data"
    }
   ],
   "source": [
    "plt.plot(x,step_function(x),linestyle=\"--\")\n",
    "plt.plot(x,sigmoid(x))\n",
    "plt.ylim(-0.1,1.1)\n",
    "plt.show()"
   ]
  },
  {
   "cell_type": "markdown",
   "id": "8c130f5d",
   "metadata": {},
   "source": [
    "시그모이드 함수를 대체하는 정류함수 ReLU 함수"
   ]
  },
  {
   "cell_type": "code",
   "execution_count": 11,
   "id": "687c671f",
   "metadata": {},
   "outputs": [
    {
     "data": {
      "image/png": "[encoded data removed]",
      "text/plain": [
       "<Figure size 432x288 with 1 Axes>"
      ]
     },
     "metadata": {
      "needs_background": "light"
     },
     "output_type": "display_data"
    }
   ],
   "source": [
    "import numpy as np\n",
    "import matplotlib.pylab as plt\n",
    "\n",
    "def ReLU(x):\n",
    "    return np.maximum(0,x)\n",
    "# 두 입력 중에서 큰 값을 선택해 반환하는 함수\n",
    "\n",
    "x = np.arange(-5,5,0.1)\n",
    "y = ReLU(x)\n",
    "\n",
    "plt.plot(x,y)\n",
    "plt.ylim(-0.1,5)\n",
    "plt.show()"
   ]
  },
  {
   "cell_type": "markdown",
   "id": "7732a705",
   "metadata": {},
   "source": [
    "신경망에서 행렬 곱"
   ]
  },
  {
   "cell_type": "code",
   "execution_count": 16,
   "id": "16c266bb",
   "metadata": {},
   "outputs": [
    {
     "name": "stdout",
     "output_type": "stream",
     "text": [
      "[ 5 11 17]\n"
     ]
    }
   ],
   "source": [
    "X = np.array([1,2])\n",
    "W = np.array([[1,3,5],[2,4,6]])\n",
    "Y = np.dot(X,W)\n",
    "print(Y)"
   ]
  },
  {
   "cell_type": "markdown",
   "id": "e2a168f2",
   "metadata": {},
   "source": [
    "3층 신경망 구현하기"
   ]
  },
  {
   "cell_type": "code",
   "execution_count": 30,
   "id": "b215e12c",
   "metadata": {},
   "outputs": [
    {
     "name": "stdout",
     "output_type": "stream",
     "text": [
      "(3,)\n",
      "[0.57444252 0.66818777 0.75026011]\n",
      "(3, 2)\n",
      "[0.69169523 0.65440086]\n",
      "[[0.36916952 0.29632026]\n",
      " [0.43833905 0.36176035]]\n"
     ]
    }
   ],
   "source": [
    "#1층 : 활성화함수(시그모이드)\n",
    "X = np.array([1,0.5])\n",
    "W1 = np.array([[0.1,0.3,0.5],[0.2,0.4,0.6]])\n",
    "B1 = np.array([0.1,0.2,0.3])\n",
    "\n",
    "A1 = np.dot(X,W1) + B1\n",
    "print(A1.shape)\n",
    "Z1 = sigmoid(A1)\n",
    "print(Z1)\n",
    "\n",
    "# 2층 : 활성화함수(시그모이드)\n",
    "W2 = np.array([[0.1,0.4],[0.3,0.2],[0.6,0.1]])\n",
    "print(W2.shape)\n",
    "B2 = np.array([0.1,0.2])\n",
    "A2 = np.dot(Z1,W2) + B2\n",
    "Z2 = sigmoid(A2)\n",
    "print(Z2)\n",
    "\n",
    "# 3층 : 항등함수\n",
    "def identity_function(x):\n",
    "    return x\n",
    "\n",
    "B3 = np.array([0.3,0.1])\n",
    "W3 = np.array([[0.1,0.3],[0.2,0.4]])\n",
    "A3 = Z2*W3 + B3\n",
    "Z3 = identity_function(A3)\n",
    "print(Z3)"
   ]
  },
  {
   "cell_type": "markdown",
   "id": "0a169dbc",
   "metadata": {},
   "source": [
    "3층 퍼셉트론 구현정리\n",
    "- 초기에 가중치, 편향을 정의하는 network 함수\n",
    "- 입력신호를 출력신호로 산출하는 forward 함수(순방향)\n",
    "- 2x3x2x2 구조"
   ]
  },
  {
   "cell_type": "code",
   "execution_count": 32,
   "id": "173d19ba",
   "metadata": {},
   "outputs": [
    {
     "name": "stdout",
     "output_type": "stream",
     "text": [
      "[0.49783601 0.56362304]\n"
     ]
    }
   ],
   "source": [
    "def init_network():\n",
    "    network = {}\n",
    "    network[\"W1\"] = np.array([[1,0.3,0.2],[0.3,0.2,0.1]])\n",
    "    network[\"W2\"] = np.array([[0.3,0.2],[0.6,0.2],[0.1,0.3]])\n",
    "    network[\"W3\"] = np.array([[0.2,0.1],[0.2,0.4]])\n",
    "    network[\"B1\"] = np.array([0.2,0.3,0.2])\n",
    "    network[\"B2\"] = np.array([0.3,0.1])\n",
    "    network[\"B3\"] = np.array([0.1,0.6])\n",
    "    return network\n",
    "\n",
    "def forward(network,X):\n",
    "    Z1 = sigmoid(np.dot(X,W1)+B1)\n",
    "    Z2 = sigmoid(np.dot(Z1,W2)+B2)\n",
    "    Z3 = identity_function(np.dot(Z2,W3)+B3)\n",
    "    return Z3\n",
    "\n",
    "network = init_network()\n",
    "Y = forward(network,[0.2,0.6])\n",
    "print(Y)"
   ]
  },
  {
   "cell_type": "markdown",
   "id": "0ec6bf01",
   "metadata": {},
   "source": [
    "3층 퍼셉트론 이용하기\n",
    "- 분류, 회귀"
   ]
  },
  {
   "cell_type": "code",
   "execution_count": 36,
   "id": "6c7ef1d5",
   "metadata": {},
   "outputs": [
    {
     "name": "stdout",
     "output_type": "stream",
     "text": [
      "[1 1]\n"
     ]
    }
   ],
   "source": [
    "# 마지막 뉴런에 있는 활성화함수를 계단함수로 바꿔서 분류로 만들어보기\n",
    "def forward_classify(network,X):\n",
    "    Z1 = sigmoid(np.dot(X,W1)+B1)\n",
    "    Z2 = sigmoid(np.dot(Z1,W2)+B2)\n",
    "    Z3 = step_function(np.dot(Z2,W3)+B3)\n",
    "    return Z3\n",
    "\n",
    "network = init_network()\n",
    "Y = forward_classify(network,[0.2,0.6])\n",
    "print(Y)\n",
    "# 활성값을 계단함수에 넣었는데 활성값이 모두 0 보다 크기에 1이 출력된 것이다"
   ]
  },
  {
   "cell_type": "markdown",
   "id": "e69a79ef",
   "metadata": {},
   "source": [
    "분류를 위한 활성화 함수 : 소프트맥스"
   ]
  },
  {
   "cell_type": "code",
   "execution_count": 37,
   "id": "05507546",
   "metadata": {},
   "outputs": [],
   "source": [
    "def softmax(a):\n",
    "    exp_a = np.exp(a)\n",
    "    sum_exp_a = np.sum(exp_a)\n",
    "    return exp_a / sum_exp_a"
   ]
  },
  {
   "cell_type": "code",
   "execution_count": 38,
   "id": "d74ae48d",
   "metadata": {},
   "outputs": [
    {
     "data": {
      "text/plain": [
       "array([0.00920382, 0.07515999, 0.91563618])"
      ]
     },
     "execution_count": 38,
     "metadata": {},
     "output_type": "execute_result"
    }
   ],
   "source": [
    "softmax(np.array([0.3,2.4,4.9]))"
   ]
  },
  {
   "cell_type": "markdown",
   "id": "359066cb",
   "metadata": {},
   "source": [
    "소프트맥스 함수의 문제 오버플로"
   ]
  },
  {
   "cell_type": "code",
   "execution_count": 41,
   "id": "150e54e6",
   "metadata": {},
   "outputs": [
    {
     "name": "stderr",
     "output_type": "stream",
     "text": [
      "<ipython-input-37-2d0faf907c9c>:2: RuntimeWarning: overflow encountered in exp\n",
      "  exp_a = np.exp(a)\n",
      "<ipython-input-37-2d0faf907c9c>:4: RuntimeWarning: invalid value encountered in true_divide\n",
      "  return exp_a / sum_exp_a\n"
     ]
    },
    {
     "data": {
      "text/plain": [
       "array([nan, nan, nan])"
      ]
     },
     "execution_count": 41,
     "metadata": {},
     "output_type": "execute_result"
    }
   ],
   "source": [
    "a = np.array([1010,1000,990])\n",
    "softmax(a)\n",
    "# e^1000이 되면 inf가 되어버린다. 컴퓨터 바이트의 표현 한계"
   ]
  },
  {
   "cell_type": "code",
   "execution_count": 42,
   "id": "0843e083",
   "metadata": {},
   "outputs": [],
   "source": [
    "def softmax(a):\n",
    "    c = np.max(a)\n",
    "    exp_a = np.exp(a-c)\n",
    "    sum_exp_a = np.sum(exp_a)\n",
    "    return exp_a / sum_exp_a"
   ]
  },
  {
   "cell_type": "code",
   "execution_count": 45,
   "id": "6b5478c9",
   "metadata": {},
   "outputs": [
    {
     "name": "stdout",
     "output_type": "stream",
     "text": [
      "[0.01134256 0.15271323 0.83594421]\n",
      "0.9999999999999999\n"
     ]
    }
   ],
   "source": [
    "a = np.array([0.3,2.9,4.6])\n",
    "y = softmax(a)\n",
    "print(y)\n",
    "print(sum(y))"
   ]
  },
  {
   "cell_type": "code",
   "execution_count": null,
   "id": "77e62870",
   "metadata": {},
   "outputs": [],
   "source": []
  }
 ],
 "metadata": {
  "kernelspec": {
   "display_name": "Python 3",
   "language": "python",
   "name": "python3"
  },
  "language_info": {
   "codemirror_mode": {
    "name": "ipython",
    "version": 3
   },
   "file_extension": ".py",
   "mimetype": "text/x-python",
   "name": "python",
   "nbconvert_exporter": "python",
   "pygments_lexer": "ipython3",
   "version": "3.8.8"
  }
 },
 "nbformat": 4,
 "nbformat_minor": 5
}
