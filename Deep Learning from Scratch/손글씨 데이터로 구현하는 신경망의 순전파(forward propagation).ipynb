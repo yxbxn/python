{
 "cells": [
  {
   "cell_type": "markdown",
   "id": "c56479a1",
   "metadata": {},
   "source": [
    "### 손글씨 데이터로 구현하는 신경망의 순전파(forward propagation)\n",
    "- 배치 처리 및 배열을 이용한 처리"
   ]
  },
  {
   "cell_type": "code",
   "execution_count": 39,
   "id": "eb1d4068",
   "metadata": {},
   "outputs": [],
   "source": [
    "import sys, os\n",
    "sys.path.append(os.pardir)\n",
    "from dataset.mnist import load_mnist\n",
    "\n",
    "(x_train,t_train),(x_test,t_test) = load_mnist(flatten=True,normalize=False)\n",
    "# flatten : 데이터셋을 평탄화(1차원 배열) 하는 작업 1x28x28 -> 784짜리 배열\n",
    "# normalize : 모두 0과 1 사이의 값으로 정규화"
   ]
  },
  {
   "cell_type": "code",
   "execution_count": 28,
   "id": "a8ec892b",
   "metadata": {},
   "outputs": [
    {
     "name": "stdout",
     "output_type": "stream",
     "text": [
      "5\n"
     ]
    }
   ],
   "source": [
    "import sys, os\n",
    "sys.path.append(os.pardir)\n",
    "from dataset.mnist import load_mnist\n",
    "import numpy as np\n",
    "from PIL import Image\n",
    "\n",
    "def img_show(img):\n",
    "    pill_img = Image.fromarray(np.uint8(img))\n",
    "# https://bskyvision.com/736\n",
    "# np의 uint8은 부호없는 정수 자료형으로 2^8개 총 256개의 정수를 표현할 수 있다\n",
    "    pill_img.show()\n",
    "\n",
    "(x_train,t_train),(x_test,t_test) = load_mnist(flatten=True,normalize=False)\n",
    "# flatten : 데이터셋을 평탄화(1차원 배열) 하는 작업 1x28x28 -> 784짜리 배열\n",
    "# normalize : 모두 0과 1 사이의 값으로 정규화\n",
    "\n",
    "img = x_train[0]\n",
    "# 이미지의 픽셀데이터\n",
    "img = img.reshape(28,28)\n",
    "label = t_train[0]\n",
    "print(label); img_show(img)\n",
    "# 픽셀데이터를 28x28로 바꿔야 이미지가 정상적으로 출력이된다.\n"
   ]
  },
  {
   "cell_type": "markdown",
   "id": "c49fb883",
   "metadata": {},
   "source": [
    "손글씨 데이터 (784->50->100->10)인 신경망 추론처리\n",
    "- get_data() : 추론처리할 test 데이터 불러오기\n",
    "- init_network() : pickle 파일 이용해서 학습된 가중치 매개변수 읽어오기\n",
    "- predict() : 가중치 매개변수를 통해 추론해보기"
   ]
  },
  {
   "cell_type": "code",
   "execution_count": 67,
   "id": "46be47c9",
   "metadata": {},
   "outputs": [],
   "source": [
    "# 활성화 함수 목록\n",
    "def sigmoid(x):\n",
    "    return 1/(1+np.exp(-x))\n",
    "\n",
    "def softmax(x):\n",
    "    c = np.max(x)\n",
    "    exp_x = np.exp(x-c)\n",
    "    return exp_x / np.sum(exp_x)"
   ]
  },
  {
   "cell_type": "code",
   "execution_count": 72,
   "id": "bd5dee7f",
   "metadata": {},
   "outputs": [],
   "source": [
    "import sys, os\n",
    "import pickle\n",
    "sys.path.append(os.pardir)\n",
    "def get_data():\n",
    "    (x_train,t_train),(x_test,t_test) = load_mnist(flatten=True,normalize=False)\n",
    "    return x_test,t_test\n",
    "def init_network():\n",
    "    with open(\"sample_weight.pkl\",\"rb\") as  f:\n",
    "        network = pickle.load(f)\n",
    "    return network\n",
    "\n",
    "def predict(network,x):\n",
    "    W1,W2,W3 = network[\"W1\"],network[\"W2\"],network[\"W3\"]\n",
    "    b1,b2,b3 = network[\"b1\"],network[\"b2\"],network[\"b3\"]\n",
    "    A1 = np.dot(x,W1) + b1\n",
    "    Z1 = sigmoid(A1)\n",
    "    # 1번 은닉층을 지난 신호값\n",
    "    \n",
    "    A2 = np.dot(Z1,W2) + b2\n",
    "    Z2 = sigmoid(A2)\n",
    "    # 2번 은닉층을 지난 신호값\n",
    "    \n",
    "    A3 = np.dot(Z2,W3) + b3\n",
    "    y = softmax(A3)\n",
    "    return y"
   ]
  },
  {
   "cell_type": "code",
   "execution_count": 85,
   "id": "c0a26617",
   "metadata": {},
   "outputs": [
    {
     "name": "stderr",
     "output_type": "stream",
     "text": [
      "<ipython-input-67-9bb87f033b0e>:3: RuntimeWarning: overflow encountered in exp\n",
      "  return 1/(1+np.exp(-x))\n"
     ]
    }
   ],
   "source": [
    "x,t = get_data()\n",
    "network = init_network()\n",
    "res = predict(network,x)\n",
    "# 학습된 가중치를 통한 추론 결과\n",
    "# x -> (10000,784) 총 10000개 데이터에 대한 분류 추론 결과를 얻을 수 있다\n",
    "# res -> (10000,10) 총 10000개의 데이터가 어떤 숫자로 분류되는지..."
   ]
  },
  {
   "cell_type": "markdown",
   "id": "51c1d186",
   "metadata": {},
   "source": [
    "분류가 얼마나 정확한지 정확도 평가해보기\n",
    "- t가 정답 label\n",
    "- res가 추론 label"
   ]
  },
  {
   "cell_type": "code",
   "execution_count": 94,
   "id": "4c1a426b",
   "metadata": {},
   "outputs": [
    {
     "name": "stdout",
     "output_type": "stream",
     "text": [
      "Accuracy는  0.9207\n"
     ]
    }
   ],
   "source": [
    "accuracy_cnt = 0\n",
    "for i in range(res.shape[0]):\n",
    "    y = res[i]\n",
    "    p = np.argmax(y) # softmax로 분류되었으니까 확률이 가장 높은 인덱스 찾아내기\n",
    "    if p == t[i]:\n",
    "        accuracy_cnt +=1\n",
    "        \n",
    "print(\"Accuracy는 \",accuracy_cnt/res.shape[0])"
   ]
  },
  {
   "cell_type": "markdown",
   "id": "0d380b10",
   "metadata": {},
   "source": [
    "정규화에 따른 성능 변화 확인\n",
    "- 아래 버전은 정규화 O\n",
    "- 위에 버전은 정규화 X\n",
    "- 정규화 하게되면 성능 상승 OK"
   ]
  },
  {
   "cell_type": "code",
   "execution_count": 95,
   "id": "d7b9994a",
   "metadata": {},
   "outputs": [
    {
     "name": "stdout",
     "output_type": "stream",
     "text": [
      "정규화한 Accuracy는  0.9352\n"
     ]
    }
   ],
   "source": [
    "def get_data():\n",
    "    (x_train,t_train),(x_test,t_test) = load_mnist(flatten=True,normalize=True)\n",
    "    return x_test,t_test\n",
    "\n",
    "x,t = get_data()\n",
    "res = predict(init_network(),x)\n",
    "\n",
    "accuracy_cnt = 0\n",
    "for i in range(res.shape[0]):\n",
    "    y = res[i]\n",
    "    p = np.argmax(y) # softmax로 분류되었으니까 확률이 가장 높은 인덱스 찾아내기\n",
    "    if p == t[i]:\n",
    "        accuracy_cnt +=1\n",
    "        \n",
    "print(\"정규화한 Accuracy는 \",accuracy_cnt/res.shape[0])"
   ]
  },
  {
   "cell_type": "markdown",
   "id": "60d97be1",
   "metadata": {},
   "source": [
    "배치(Batch)처리를 통한 처리 시간 효율화\n",
    "- 하나씩 계산하는 것보다 Batch 묶음으로 계산하는 것이 효율적\n",
    "- Batch 100 사이즈"
   ]
  },
  {
   "cell_type": "code",
   "execution_count": 133,
   "id": "f9048ba4",
   "metadata": {},
   "outputs": [],
   "source": [
    "x,t = get_data()\n",
    "network = init_network()\n",
    "\n",
    "batch_size = 100 # 배치 크기\n",
    "accuracy_cnt = 0\n",
    "\n",
    "for i in range(0,len(x),batch_size):\n",
    "    x_batch = x[i:i+batch_size]\n",
    "    y_batch = predict(network,x_batch)\n",
    "    # (100,10) 행렬 y_batch에 대해서 (axis=1) 1행 안에서 열을 기준으로 값이 최대인 것의 index를 찾아나간다\n",
    "    p = np.argmax(y_batch,axis=1) # 총 100개의 행에 대해서 값이 가장 큰 열의 index를 다 모아놨다\n",
    "    accuracy_cnt += np.sum(t[i:i+batch_size] == p)"
   ]
  },
  {
   "cell_type": "code",
   "execution_count": 134,
   "id": "773d46fb",
   "metadata": {},
   "outputs": [
    {
     "name": "stdout",
     "output_type": "stream",
     "text": [
      "배치처리하고, 정규화한 Accuracy는  0.9352\n"
     ]
    }
   ],
   "source": [
    "print(\"배치처리하고, 정규화한 Accuracy는 \",accuracy_cnt/res.shape[0])"
   ]
  },
  {
   "cell_type": "markdown",
   "id": "80d01ac6",
   "metadata": {},
   "source": [
    "배치 1000 사이즈로 바로 구현해보기"
   ]
  },
  {
   "cell_type": "markdown",
   "id": "95d4a5d2",
   "metadata": {},
   "source": [
    "※ 총 10000개의 행에 대해서 예측된 값과 기존 값이 일치하는지 하나하나 비교할 필요는 없었다\n",
    "- numpy 배열을 이용해서 한번에 처리가능했다"
   ]
  },
  {
   "cell_type": "code",
   "execution_count": 139,
   "id": "5cff6ea9",
   "metadata": {},
   "outputs": [
    {
     "name": "stdout",
     "output_type": "stream",
     "text": [
      "정규화한 Accuracy는  0.9352\n"
     ]
    }
   ],
   "source": [
    "x,t = get_data()\n",
    "network = init_network()\n",
    "res = predict(network,x)\n",
    "\n",
    "accuracy_cnt = np.sum(t == np.argmax(res,axis=1))\n",
    "print(\"정규화한 Accuracy는 \",accuracy_cnt/res.shape[0])"
   ]
  },
  {
   "cell_type": "markdown",
   "id": "9506cf00",
   "metadata": {},
   "source": [
    "총평\n",
    "- 신경망에서는 활성화 함수로 ReLU와 시그모이드와 같은 매끄러운 함수 사용함\n",
    "- 출력층의 활성화 함수로 항등함수를 이용한다면 회귀, 소프트맥스를 이용하면 분류를 할 수 있다\n",
    "- 분류에서는 출력층 뉴런(노드)의 수와 클래스(label)수와 같다\n",
    "- 입력데이터를 묶은 것을 batch라 하며, 빠른 데이터 처리 계산이 가능하다"
   ]
  },
  {
   "cell_type": "code",
   "execution_count": null,
   "id": "b63fd8be",
   "metadata": {},
   "outputs": [],
   "source": []
  }
 ],
 "metadata": {
  "kernelspec": {
   "display_name": "Python 3",
   "language": "python",
   "name": "python3"
  },
  "language_info": {
   "codemirror_mode": {
    "name": "ipython",
    "version": 3
   },
   "file_extension": ".py",
   "mimetype": "text/x-python",
   "name": "python",
   "nbconvert_exporter": "python",
   "pygments_lexer": "ipython3",
   "version": "3.8.8"
  }
 },
 "nbformat": 4,
 "nbformat_minor": 5
}
