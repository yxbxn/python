{
 "cells": [
  {
   "cell_type": "markdown",
   "id": "074cc38b",
   "metadata": {},
   "source": [
    "라이브러리 불러오기"
   ]
  },
  {
   "cell_type": "code",
   "execution_count": 104,
   "id": "1f20dd7b",
   "metadata": {},
   "outputs": [],
   "source": [
    "import pandas as pd\n",
    "import numpy as np\n",
    "import seaborn as sns\n",
    "import matplotlib.pyplot as plt\n",
    "import matplotlib\n",
    "import glob\n",
    "import os\n",
    "import seaborn as sns\n",
    "from matplotlib import font_manager, rc\n",
    "font_name = font_manager.FontProperties(fname=\"c:/Windows/Fonts/malgun.ttf\").get_name()\n",
    "rc('font', family=font_name)\n",
    "import warnings\n",
    "warnings.filterwarnings(\"ignore\")\n"
   ]
  },
  {
   "cell_type": "markdown",
   "id": "851cbdf4",
   "metadata": {},
   "source": [
    "파일 불러오기"
   ]
  },
  {
   "cell_type": "code",
   "execution_count": 2,
   "id": "c2be1a5e",
   "metadata": {},
   "outputs": [],
   "source": [
    "smart_farm = pd.read_csv(\"smart_farm.csv\")\n",
    "columns = pd.read_csv(\"(스마트팜)테이블 정의서.csv\")"
   ]
  },
  {
   "cell_type": "code",
   "execution_count": 3,
   "id": "0170fd10",
   "metadata": {},
   "outputs": [
    {
     "data": {
      "text/html": [
       "<div>\n",
       "<style scoped>\n",
       "    .dataframe tbody tr th:only-of-type {\n",
       "        vertical-align: middle;\n",
       "    }\n",
       "\n",
       "    .dataframe tbody tr th {\n",
       "        vertical-align: top;\n",
       "    }\n",
       "\n",
       "    .dataframe thead th {\n",
       "        text-align: right;\n",
       "    }\n",
       "</style>\n",
       "<table border=\"1\" class=\"dataframe\">\n",
       "  <thead>\n",
       "    <tr style=\"text-align: right;\">\n",
       "      <th></th>\n",
       "      <th>smart_farm.yy</th>\n",
       "      <th>smart_farm.mm</th>\n",
       "      <th>smart_farm.dd</th>\n",
       "      <th>smart_farm.hh</th>\n",
       "      <th>smart_farm.nn</th>\n",
       "      <th>smart_farm.insolation</th>\n",
       "      <th>smart_farm.out_tmperature</th>\n",
       "      <th>smart_farm.out_humidity</th>\n",
       "      <th>smart_farm.wind_speed</th>\n",
       "      <th>smart_farm.wind_direction</th>\n",
       "      <th>...</th>\n",
       "      <th>smart_farm.shield_tmperature_h</th>\n",
       "      <th>smart_farm.shield_energy_h</th>\n",
       "      <th>smart_farm.shield_energy_v</th>\n",
       "      <th>smart_farm.exhaust_fan</th>\n",
       "      <th>smart_farm.ceiling</th>\n",
       "      <th>smart_farm.floating_fan</th>\n",
       "      <th>smart_farm.fan_coil_b_site</th>\n",
       "      <th>smart_farm.ventilation_temperature_control</th>\n",
       "      <th>smart_farm.heating_temperature_set_up</th>\n",
       "      <th>smart_farm.heat_supply</th>\n",
       "    </tr>\n",
       "  </thead>\n",
       "  <tbody>\n",
       "    <tr>\n",
       "      <th>0</th>\n",
       "      <td>2021</td>\n",
       "      <td>11</td>\n",
       "      <td>26</td>\n",
       "      <td>0</td>\n",
       "      <td>0</td>\n",
       "      <td>-2.7</td>\n",
       "      <td>5.8</td>\n",
       "      <td>67</td>\n",
       "      <td>0.0</td>\n",
       "      <td>325</td>\n",
       "      <td>...</td>\n",
       "      <td>0.0</td>\n",
       "      <td>0.0</td>\n",
       "      <td>0.0</td>\n",
       "      <td>0.0</td>\n",
       "      <td>0.0</td>\n",
       "      <td>1.0</td>\n",
       "      <td>0.0</td>\n",
       "      <td>28.0</td>\n",
       "      <td>18.0</td>\n",
       "      <td>0.9</td>\n",
       "    </tr>\n",
       "    <tr>\n",
       "      <th>1</th>\n",
       "      <td>2021</td>\n",
       "      <td>11</td>\n",
       "      <td>26</td>\n",
       "      <td>0</td>\n",
       "      <td>1</td>\n",
       "      <td>-2.9</td>\n",
       "      <td>5.8</td>\n",
       "      <td>67</td>\n",
       "      <td>0.4</td>\n",
       "      <td>344</td>\n",
       "      <td>...</td>\n",
       "      <td>0.0</td>\n",
       "      <td>0.0</td>\n",
       "      <td>0.0</td>\n",
       "      <td>0.0</td>\n",
       "      <td>0.0</td>\n",
       "      <td>1.0</td>\n",
       "      <td>0.0</td>\n",
       "      <td>28.0</td>\n",
       "      <td>18.0</td>\n",
       "      <td>0.9</td>\n",
       "    </tr>\n",
       "    <tr>\n",
       "      <th>2</th>\n",
       "      <td>2021</td>\n",
       "      <td>11</td>\n",
       "      <td>26</td>\n",
       "      <td>0</td>\n",
       "      <td>2</td>\n",
       "      <td>-3.0</td>\n",
       "      <td>5.7</td>\n",
       "      <td>67</td>\n",
       "      <td>0.9</td>\n",
       "      <td>105</td>\n",
       "      <td>...</td>\n",
       "      <td>0.0</td>\n",
       "      <td>0.0</td>\n",
       "      <td>0.0</td>\n",
       "      <td>0.0</td>\n",
       "      <td>0.0</td>\n",
       "      <td>1.0</td>\n",
       "      <td>1.0</td>\n",
       "      <td>28.0</td>\n",
       "      <td>18.0</td>\n",
       "      <td>0.9</td>\n",
       "    </tr>\n",
       "  </tbody>\n",
       "</table>\n",
       "<p>3 rows × 23 columns</p>\n",
       "</div>"
      ],
      "text/plain": [
       "   smart_farm.yy  smart_farm.mm  smart_farm.dd  smart_farm.hh  smart_farm.nn  \\\n",
       "0           2021             11             26              0              0   \n",
       "1           2021             11             26              0              1   \n",
       "2           2021             11             26              0              2   \n",
       "\n",
       "   smart_farm.insolation  smart_farm.out_tmperature  smart_farm.out_humidity  \\\n",
       "0                   -2.7                        5.8                       67   \n",
       "1                   -2.9                        5.8                       67   \n",
       "2                   -3.0                        5.7                       67   \n",
       "\n",
       "   smart_farm.wind_speed  smart_farm.wind_direction  ...  \\\n",
       "0                    0.0                        325  ...   \n",
       "1                    0.4                        344  ...   \n",
       "2                    0.9                        105  ...   \n",
       "\n",
       "   smart_farm.shield_tmperature_h  smart_farm.shield_energy_h  \\\n",
       "0                             0.0                         0.0   \n",
       "1                             0.0                         0.0   \n",
       "2                             0.0                         0.0   \n",
       "\n",
       "   smart_farm.shield_energy_v  smart_farm.exhaust_fan  smart_farm.ceiling  \\\n",
       "0                         0.0                     0.0                 0.0   \n",
       "1                         0.0                     0.0                 0.0   \n",
       "2                         0.0                     0.0                 0.0   \n",
       "\n",
       "   smart_farm.floating_fan  smart_farm.fan_coil_b_site  \\\n",
       "0                      1.0                         0.0   \n",
       "1                      1.0                         0.0   \n",
       "2                      1.0                         1.0   \n",
       "\n",
       "   smart_farm.ventilation_temperature_control  \\\n",
       "0                                        28.0   \n",
       "1                                        28.0   \n",
       "2                                        28.0   \n",
       "\n",
       "   smart_farm.heating_temperature_set_up  smart_farm.heat_supply  \n",
       "0                                   18.0                     0.9  \n",
       "1                                   18.0                     0.9  \n",
       "2                                   18.0                     0.9  \n",
       "\n",
       "[3 rows x 23 columns]"
      ]
     },
     "execution_count": 3,
     "metadata": {},
     "output_type": "execute_result"
    }
   ],
   "source": [
    "smart_farm.head(3)"
   ]
  },
  {
   "cell_type": "markdown",
   "id": "fdfbf5b3",
   "metadata": {},
   "source": [
    "컬럼명 재정의"
   ]
  },
  {
   "cell_type": "code",
   "execution_count": 38,
   "id": "1387a6a1",
   "metadata": {},
   "outputs": [
    {
     "data": {
      "text/html": [
       "<div>\n",
       "<style scoped>\n",
       "    .dataframe tbody tr th:only-of-type {\n",
       "        vertical-align: middle;\n",
       "    }\n",
       "\n",
       "    .dataframe tbody tr th {\n",
       "        vertical-align: top;\n",
       "    }\n",
       "\n",
       "    .dataframe thead th {\n",
       "        text-align: right;\n",
       "    }\n",
       "</style>\n",
       "<table border=\"1\" class=\"dataframe\">\n",
       "  <thead>\n",
       "    <tr style=\"text-align: right;\">\n",
       "      <th></th>\n",
       "      <th>년도</th>\n",
       "      <th>월</th>\n",
       "      <th>일</th>\n",
       "      <th>시</th>\n",
       "      <th>분</th>\n",
       "      <th>일사량(W/㎡)</th>\n",
       "      <th>외기온(℃)</th>\n",
       "      <th>외기습도(%)</th>\n",
       "      <th>풍속(m/s)</th>\n",
       "      <th>풍향(º)</th>\n",
       "      <th>...</th>\n",
       "      <th>차열스크린(수평)</th>\n",
       "      <th>에너지스크린(수평)</th>\n",
       "      <th>에너지스크린(수직)</th>\n",
       "      <th>배기팬</th>\n",
       "      <th>천창</th>\n",
       "      <th>유동팬</th>\n",
       "      <th>팬코일 B동</th>\n",
       "      <th>환기온도(천창 제어온도)</th>\n",
       "      <th>난방온도(설정온도)</th>\n",
       "      <th>열공급량(kWh)</th>\n",
       "    </tr>\n",
       "  </thead>\n",
       "  <tbody>\n",
       "    <tr>\n",
       "      <th>0</th>\n",
       "      <td>2021</td>\n",
       "      <td>11</td>\n",
       "      <td>26</td>\n",
       "      <td>0</td>\n",
       "      <td>0</td>\n",
       "      <td>-2.7</td>\n",
       "      <td>5.8</td>\n",
       "      <td>67</td>\n",
       "      <td>0.0</td>\n",
       "      <td>325</td>\n",
       "      <td>...</td>\n",
       "      <td>0.0</td>\n",
       "      <td>0.0</td>\n",
       "      <td>0.0</td>\n",
       "      <td>0.0</td>\n",
       "      <td>0.0</td>\n",
       "      <td>1.0</td>\n",
       "      <td>0.0</td>\n",
       "      <td>28.0</td>\n",
       "      <td>18.0</td>\n",
       "      <td>0.9</td>\n",
       "    </tr>\n",
       "    <tr>\n",
       "      <th>1</th>\n",
       "      <td>2021</td>\n",
       "      <td>11</td>\n",
       "      <td>26</td>\n",
       "      <td>0</td>\n",
       "      <td>1</td>\n",
       "      <td>-2.9</td>\n",
       "      <td>5.8</td>\n",
       "      <td>67</td>\n",
       "      <td>0.4</td>\n",
       "      <td>344</td>\n",
       "      <td>...</td>\n",
       "      <td>0.0</td>\n",
       "      <td>0.0</td>\n",
       "      <td>0.0</td>\n",
       "      <td>0.0</td>\n",
       "      <td>0.0</td>\n",
       "      <td>1.0</td>\n",
       "      <td>0.0</td>\n",
       "      <td>28.0</td>\n",
       "      <td>18.0</td>\n",
       "      <td>0.9</td>\n",
       "    </tr>\n",
       "    <tr>\n",
       "      <th>2</th>\n",
       "      <td>2021</td>\n",
       "      <td>11</td>\n",
       "      <td>26</td>\n",
       "      <td>0</td>\n",
       "      <td>2</td>\n",
       "      <td>-3.0</td>\n",
       "      <td>5.7</td>\n",
       "      <td>67</td>\n",
       "      <td>0.9</td>\n",
       "      <td>105</td>\n",
       "      <td>...</td>\n",
       "      <td>0.0</td>\n",
       "      <td>0.0</td>\n",
       "      <td>0.0</td>\n",
       "      <td>0.0</td>\n",
       "      <td>0.0</td>\n",
       "      <td>1.0</td>\n",
       "      <td>1.0</td>\n",
       "      <td>28.0</td>\n",
       "      <td>18.0</td>\n",
       "      <td>0.9</td>\n",
       "    </tr>\n",
       "    <tr>\n",
       "      <th>3</th>\n",
       "      <td>2021</td>\n",
       "      <td>11</td>\n",
       "      <td>26</td>\n",
       "      <td>0</td>\n",
       "      <td>3</td>\n",
       "      <td>-3.0</td>\n",
       "      <td>5.7</td>\n",
       "      <td>67</td>\n",
       "      <td>1.3</td>\n",
       "      <td>123</td>\n",
       "      <td>...</td>\n",
       "      <td>0.0</td>\n",
       "      <td>0.0</td>\n",
       "      <td>0.0</td>\n",
       "      <td>0.0</td>\n",
       "      <td>0.0</td>\n",
       "      <td>1.0</td>\n",
       "      <td>1.0</td>\n",
       "      <td>28.0</td>\n",
       "      <td>18.0</td>\n",
       "      <td>0.8</td>\n",
       "    </tr>\n",
       "    <tr>\n",
       "      <th>4</th>\n",
       "      <td>2021</td>\n",
       "      <td>11</td>\n",
       "      <td>26</td>\n",
       "      <td>0</td>\n",
       "      <td>4</td>\n",
       "      <td>-2.8</td>\n",
       "      <td>5.7</td>\n",
       "      <td>67</td>\n",
       "      <td>0.9</td>\n",
       "      <td>123</td>\n",
       "      <td>...</td>\n",
       "      <td>0.0</td>\n",
       "      <td>0.0</td>\n",
       "      <td>0.0</td>\n",
       "      <td>0.0</td>\n",
       "      <td>0.0</td>\n",
       "      <td>1.0</td>\n",
       "      <td>1.0</td>\n",
       "      <td>28.0</td>\n",
       "      <td>18.0</td>\n",
       "      <td>1.0</td>\n",
       "    </tr>\n",
       "  </tbody>\n",
       "</table>\n",
       "<p>5 rows × 23 columns</p>\n",
       "</div>"
      ],
      "text/plain": [
       "     년도   월   일  시  분  일사량(W/㎡)  외기온(℃)  외기습도(%)  풍속(m/s)  풍향(º)  ...  \\\n",
       "0  2021  11  26  0  0      -2.7     5.8       67      0.0    325  ...   \n",
       "1  2021  11  26  0  1      -2.9     5.8       67      0.4    344  ...   \n",
       "2  2021  11  26  0  2      -3.0     5.7       67      0.9    105  ...   \n",
       "3  2021  11  26  0  3      -3.0     5.7       67      1.3    123  ...   \n",
       "4  2021  11  26  0  4      -2.8     5.7       67      0.9    123  ...   \n",
       "\n",
       "   차열스크린(수평)  에너지스크린(수평)  에너지스크린(수직)  배기팬   천창  유동팬  팬코일 B동  환기온도(천창 제어온도)  \\\n",
       "0        0.0         0.0         0.0  0.0  0.0  1.0     0.0           28.0   \n",
       "1        0.0         0.0         0.0  0.0  0.0  1.0     0.0           28.0   \n",
       "2        0.0         0.0         0.0  0.0  0.0  1.0     1.0           28.0   \n",
       "3        0.0         0.0         0.0  0.0  0.0  1.0     1.0           28.0   \n",
       "4        0.0         0.0         0.0  0.0  0.0  1.0     1.0           28.0   \n",
       "\n",
       "   난방온도(설정온도)  열공급량(kWh)  \n",
       "0        18.0        0.9  \n",
       "1        18.0        0.9  \n",
       "2        18.0        0.9  \n",
       "3        18.0        0.8  \n",
       "4        18.0        1.0  \n",
       "\n",
       "[5 rows x 23 columns]"
      ]
     },
     "execution_count": 38,
     "metadata": {},
     "output_type": "execute_result"
    }
   ],
   "source": [
    "smart_farm.columns = list(columns[\"정의\"])\n",
    "smart_farm.head()"
   ]
  },
  {
   "cell_type": "markdown",
   "id": "ed5aa7ca",
   "metadata": {},
   "source": [
    "## 1. Datetime 생성\n",
    "- 각 컬럼마다 나뉘어져 있는 년/월/일/시/분 을 합쳐서 하나의 객체로 관리\n",
    "- datetime(년도, 월, 일, 시, 분 등등) 요소 입력\n",
    "- 참고링크1 : https://www.daleseo.com/python-datetime/\n",
    "- datetime 객체 참고링크2 : https://kkumalog.tistory.com/18\n",
    "- strftime 참고링크3 : https://ponyozzang.tistory.com/626\n",
    "- strptime 참고링크4 : https://jsikim1.tistory.com/217"
   ]
  },
  {
   "cell_type": "code",
   "execution_count": null,
   "id": "c3b71e64",
   "metadata": {},
   "outputs": [],
   "source": [
    "from datetime import datetime"
   ]
  },
  {
   "cell_type": "markdown",
   "id": "84b06321",
   "metadata": {},
   "source": [
    "1) 년/월/일 에 대한 정보를 입력받는 datetime"
   ]
  },
  {
   "cell_type": "code",
   "execution_count": 32,
   "id": "4a60c997",
   "metadata": {},
   "outputs": [
    {
     "name": "stdout",
     "output_type": "stream",
     "text": [
      "2020-09-02 11:35:16\n"
     ]
    }
   ],
   "source": [
    "date = datetime(2020,9,2,11,35,16)\n",
    "print(date)"
   ]
  },
  {
   "cell_type": "markdown",
   "id": "b537904b",
   "metadata": {},
   "source": [
    "2) datetime 객체에서 다양한 시간 정보 추출"
   ]
  },
  {
   "cell_type": "code",
   "execution_count": 33,
   "id": "88b54235",
   "metadata": {},
   "outputs": [
    {
     "name": "stdout",
     "output_type": "stream",
     "text": [
      "연도 정보 출력 : 2022\n",
      "월 정보 출력 : 5\n",
      "일 정보 출력 : 29\n",
      "요일 정보 출력 : 6\n",
      "일요일\n"
     ]
    }
   ],
   "source": [
    "weekday_lst = [\"월요일\",\"화요일\",\"수요일\",\"목요일\",\"금요일\",\"토요일\",\"일요일\"]\n",
    "\n",
    "print(\"연도 정보 출력 :\",datetime(2022,5,29).year)\n",
    "print(\"월 정보 출력 :\",datetime(2022,5,29).month)\n",
    "print(\"일 정보 출력 :\",datetime(2022,5,29).day)\n",
    "print(\"요일 정보 출력 :\",datetime(2022,5,29).weekday())\n",
    "print(weekday_lst[6])"
   ]
  },
  {
   "cell_type": "markdown",
   "id": "e769af5d",
   "metadata": {},
   "source": [
    "3) datetime <-> 문자열 사이의 변환\n",
    "- datetime to str : strftime\n",
    "- str to datetime : strptime"
   ]
  },
  {
   "cell_type": "code",
   "execution_count": 34,
   "id": "870ba038",
   "metadata": {},
   "outputs": [
    {
     "name": "stdout",
     "output_type": "stream",
     "text": [
      "2020-09-02\n",
      "2020-09-02 11:35:16\n",
      "200902\n",
      "2020/09/02\n",
      "Wednesday, September 02, 2020\n",
      "Wed, Sep 02, 2020\n",
      "날짜 번호（1년중 며칠째인지 / 1월1일 은 001）: 246\n",
      "주 번호（일요일 기준 / 1월 첫번째 주 00）: 35\n",
      "주 번호（월요일 기준 / 1월 첫번째 주 00）: 35\n"
     ]
    }
   ],
   "source": [
    "print(date.strftime(\"%Y-%m-%d\"))\n",
    "# 2020-09-02\n",
    "\n",
    "print(date.strftime('%Y-%m-%d %H:%M:%S'))\n",
    "# 2020-09-02 11:35:16\n",
    "\n",
    "print(date.strftime('%y%m%d'))\n",
    "# 200902\n",
    "\n",
    "print(date.strftime('%Y/%m/%d'))\n",
    "# 2020/09/02\n",
    "\n",
    "print(date.strftime('%A, %B %d, %Y'))\n",
    "# Wednesday, September 02, 2020\n",
    "\n",
    "print(date.strftime('%a, %b %d, %Y'))\n",
    "# Wed, Sep 02, 2020\n",
    "\n",
    "print('날짜 번호（1년중 며칠째인지 / 1월1일 은 001）:', date.strftime('%j'))\n",
    "print('주 번호（일요일 기준 / 1월 첫번째 주 00）:', date.strftime('%U'))\n",
    "print('주 번호（월요일 기준 / 1월 첫번째 주 00）:', date.strftime('%W'))"
   ]
  },
  {
   "cell_type": "code",
   "execution_count": 37,
   "id": "4463b9c1",
   "metadata": {},
   "outputs": [
    {
     "name": "stdout",
     "output_type": "stream",
     "text": [
      "2020-09-02 11:35:16\n"
     ]
    }
   ],
   "source": [
    "date_string = \"2020년 9월 2일 11시 35분 16초\"\n",
    "date_format = \"%Y년 %m월 %d일 %H시 %M분 %S초\"\n",
    "\n",
    "date_result = datetime.strptime(date_string, date_format)\n",
    "print(date_result)"
   ]
  },
  {
   "cell_type": "markdown",
   "id": "992b60f9",
   "metadata": {},
   "source": [
    "4) 실제 데이터로의 적용\n",
    "- datetime 객체를 생성하기 위해 행 별로 년/월/일/시/분 데이터 수집"
   ]
  },
  {
   "cell_type": "code",
   "execution_count": 40,
   "id": "54726e74",
   "metadata": {},
   "outputs": [
    {
     "data": {
      "text/html": [
       "<div>\n",
       "<style scoped>\n",
       "    .dataframe tbody tr th:only-of-type {\n",
       "        vertical-align: middle;\n",
       "    }\n",
       "\n",
       "    .dataframe tbody tr th {\n",
       "        vertical-align: top;\n",
       "    }\n",
       "\n",
       "    .dataframe thead th {\n",
       "        text-align: right;\n",
       "    }\n",
       "</style>\n",
       "<table border=\"1\" class=\"dataframe\">\n",
       "  <thead>\n",
       "    <tr style=\"text-align: right;\">\n",
       "      <th></th>\n",
       "      <th>년도</th>\n",
       "      <th>월</th>\n",
       "      <th>일</th>\n",
       "      <th>시</th>\n",
       "      <th>분</th>\n",
       "      <th>일사량(W/㎡)</th>\n",
       "      <th>외기온(℃)</th>\n",
       "      <th>외기습도(%)</th>\n",
       "      <th>풍속(m/s)</th>\n",
       "      <th>풍향(º)</th>\n",
       "      <th>...</th>\n",
       "      <th>차열스크린(수평)</th>\n",
       "      <th>에너지스크린(수평)</th>\n",
       "      <th>에너지스크린(수직)</th>\n",
       "      <th>배기팬</th>\n",
       "      <th>천창</th>\n",
       "      <th>유동팬</th>\n",
       "      <th>팬코일 B동</th>\n",
       "      <th>환기온도(천창 제어온도)</th>\n",
       "      <th>난방온도(설정온도)</th>\n",
       "      <th>열공급량(kWh)</th>\n",
       "    </tr>\n",
       "  </thead>\n",
       "  <tbody>\n",
       "    <tr>\n",
       "      <th>0</th>\n",
       "      <td>2021</td>\n",
       "      <td>11</td>\n",
       "      <td>26</td>\n",
       "      <td>0</td>\n",
       "      <td>0</td>\n",
       "      <td>-2.7</td>\n",
       "      <td>5.8</td>\n",
       "      <td>67</td>\n",
       "      <td>0.0</td>\n",
       "      <td>325</td>\n",
       "      <td>...</td>\n",
       "      <td>0.0</td>\n",
       "      <td>0.0</td>\n",
       "      <td>0.0</td>\n",
       "      <td>0.0</td>\n",
       "      <td>0.0</td>\n",
       "      <td>1.0</td>\n",
       "      <td>0.0</td>\n",
       "      <td>28.0</td>\n",
       "      <td>18.0</td>\n",
       "      <td>0.9</td>\n",
       "    </tr>\n",
       "    <tr>\n",
       "      <th>1</th>\n",
       "      <td>2021</td>\n",
       "      <td>11</td>\n",
       "      <td>26</td>\n",
       "      <td>0</td>\n",
       "      <td>1</td>\n",
       "      <td>-2.9</td>\n",
       "      <td>5.8</td>\n",
       "      <td>67</td>\n",
       "      <td>0.4</td>\n",
       "      <td>344</td>\n",
       "      <td>...</td>\n",
       "      <td>0.0</td>\n",
       "      <td>0.0</td>\n",
       "      <td>0.0</td>\n",
       "      <td>0.0</td>\n",
       "      <td>0.0</td>\n",
       "      <td>1.0</td>\n",
       "      <td>0.0</td>\n",
       "      <td>28.0</td>\n",
       "      <td>18.0</td>\n",
       "      <td>0.9</td>\n",
       "    </tr>\n",
       "    <tr>\n",
       "      <th>2</th>\n",
       "      <td>2021</td>\n",
       "      <td>11</td>\n",
       "      <td>26</td>\n",
       "      <td>0</td>\n",
       "      <td>2</td>\n",
       "      <td>-3.0</td>\n",
       "      <td>5.7</td>\n",
       "      <td>67</td>\n",
       "      <td>0.9</td>\n",
       "      <td>105</td>\n",
       "      <td>...</td>\n",
       "      <td>0.0</td>\n",
       "      <td>0.0</td>\n",
       "      <td>0.0</td>\n",
       "      <td>0.0</td>\n",
       "      <td>0.0</td>\n",
       "      <td>1.0</td>\n",
       "      <td>1.0</td>\n",
       "      <td>28.0</td>\n",
       "      <td>18.0</td>\n",
       "      <td>0.9</td>\n",
       "    </tr>\n",
       "  </tbody>\n",
       "</table>\n",
       "<p>3 rows × 23 columns</p>\n",
       "</div>"
      ],
      "text/plain": [
       "     년도   월   일  시  분  일사량(W/㎡)  외기온(℃)  외기습도(%)  풍속(m/s)  풍향(º)  ...  \\\n",
       "0  2021  11  26  0  0      -2.7     5.8       67      0.0    325  ...   \n",
       "1  2021  11  26  0  1      -2.9     5.8       67      0.4    344  ...   \n",
       "2  2021  11  26  0  2      -3.0     5.7       67      0.9    105  ...   \n",
       "\n",
       "   차열스크린(수평)  에너지스크린(수평)  에너지스크린(수직)  배기팬   천창  유동팬  팬코일 B동  환기온도(천창 제어온도)  \\\n",
       "0        0.0         0.0         0.0  0.0  0.0  1.0     0.0           28.0   \n",
       "1        0.0         0.0         0.0  0.0  0.0  1.0     0.0           28.0   \n",
       "2        0.0         0.0         0.0  0.0  0.0  1.0     1.0           28.0   \n",
       "\n",
       "   난방온도(설정온도)  열공급량(kWh)  \n",
       "0        18.0        0.9  \n",
       "1        18.0        0.9  \n",
       "2        18.0        0.9  \n",
       "\n",
       "[3 rows x 23 columns]"
      ]
     },
     "execution_count": 40,
     "metadata": {},
     "output_type": "execute_result"
    }
   ],
   "source": [
    "smart_farm.head(3)"
   ]
  },
  {
   "cell_type": "code",
   "execution_count": 42,
   "id": "2cfdb14e",
   "metadata": {},
   "outputs": [],
   "source": [
    "time_lst = []\n",
    "ymd_lst = []\n",
    "\n",
    "for idx, row in smart_farm.iterrows():\n",
    "    \n",
    "    date = datetime(int(row[\"년도\"]), int(row[\"월\"]), int(row[\"일\"]), int(row[\"시\"]), int(row[\"분\"]))\n",
    "    time_lst.append(date)\n",
    "    \n",
    "    ymd = datetime(int(row[\"년도\"]), int(row[\"월\"]), int(row[\"일\"]))\n",
    "    ymd_lst.append(ymd)"
   ]
  },
  {
   "cell_type": "code",
   "execution_count": 46,
   "id": "2d4991e7",
   "metadata": {},
   "outputs": [
    {
     "data": {
      "text/plain": [
       "[datetime.datetime(2021, 11, 26, 0, 0),\n",
       " datetime.datetime(2021, 11, 26, 0, 1),\n",
       " datetime.datetime(2021, 11, 26, 0, 2),\n",
       " datetime.datetime(2021, 11, 26, 0, 3),\n",
       " datetime.datetime(2021, 11, 26, 0, 4),\n",
       " datetime.datetime(2021, 11, 26, 0, 5),\n",
       " datetime.datetime(2021, 11, 26, 0, 6),\n",
       " datetime.datetime(2021, 11, 26, 0, 7),\n",
       " datetime.datetime(2021, 11, 26, 0, 8),\n",
       " datetime.datetime(2021, 11, 26, 0, 9)]"
      ]
     },
     "execution_count": 46,
     "metadata": {},
     "output_type": "execute_result"
    }
   ],
   "source": [
    "time_lst[:10]"
   ]
  },
  {
   "cell_type": "code",
   "execution_count": 48,
   "id": "f3de374c",
   "metadata": {},
   "outputs": [],
   "source": [
    "smart_farm[\"시간\"] = time_lst\n",
    "smart_farm[\"년월일\"] = ymd_lst"
   ]
  },
  {
   "cell_type": "markdown",
   "id": "24978dbe",
   "metadata": {},
   "source": [
    "5) date_range를 통한 날짜 구간 생성\n",
    "- datetime 날짜구간 행 출력 : https://www.delftstack.com/ko/howto/python-pandas/how-to-filter-dataframe-rows-based-on-the-date-in-pandas/"
   ]
  },
  {
   "cell_type": "code",
   "execution_count": 74,
   "id": "15d88af4",
   "metadata": {},
   "outputs": [],
   "source": [
    "date_range = pd.date_range(start=\"2021-12-26\",end=\"2022-01-01\")"
   ]
  },
  {
   "cell_type": "code",
   "execution_count": 81,
   "id": "68c91474",
   "metadata": {},
   "outputs": [
    {
     "data": {
      "text/html": [
       "<div>\n",
       "<style scoped>\n",
       "    .dataframe tbody tr th:only-of-type {\n",
       "        vertical-align: middle;\n",
       "    }\n",
       "\n",
       "    .dataframe tbody tr th {\n",
       "        vertical-align: top;\n",
       "    }\n",
       "\n",
       "    .dataframe thead th {\n",
       "        text-align: right;\n",
       "    }\n",
       "</style>\n",
       "<table border=\"1\" class=\"dataframe\">\n",
       "  <thead>\n",
       "    <tr style=\"text-align: right;\">\n",
       "      <th></th>\n",
       "      <th>시간</th>\n",
       "      <th>년월일</th>\n",
       "      <th>년도</th>\n",
       "      <th>월</th>\n",
       "      <th>일</th>\n",
       "      <th>시</th>\n",
       "      <th>분</th>\n",
       "      <th>일사량(W/㎡)</th>\n",
       "      <th>외기온(℃)</th>\n",
       "      <th>외기습도(%)</th>\n",
       "      <th>...</th>\n",
       "      <th>차열스크린(수평)</th>\n",
       "      <th>에너지스크린(수평)</th>\n",
       "      <th>에너지스크린(수직)</th>\n",
       "      <th>배기팬</th>\n",
       "      <th>천창</th>\n",
       "      <th>유동팬</th>\n",
       "      <th>팬코일 B동</th>\n",
       "      <th>환기온도(천창 제어온도)</th>\n",
       "      <th>난방온도(설정온도)</th>\n",
       "      <th>열공급량(kWh)</th>\n",
       "    </tr>\n",
       "  </thead>\n",
       "  <tbody>\n",
       "    <tr>\n",
       "      <th>0</th>\n",
       "      <td>2021-12-26 00:00:00</td>\n",
       "      <td>2021-12-26</td>\n",
       "      <td>2021</td>\n",
       "      <td>12</td>\n",
       "      <td>26</td>\n",
       "      <td>0</td>\n",
       "      <td>0</td>\n",
       "      <td>-3.2</td>\n",
       "      <td>-5.9</td>\n",
       "      <td>33</td>\n",
       "      <td>...</td>\n",
       "      <td>0.0</td>\n",
       "      <td>0.0</td>\n",
       "      <td>0.0</td>\n",
       "      <td>0.0</td>\n",
       "      <td>0.0</td>\n",
       "      <td>1.0</td>\n",
       "      <td>1.0</td>\n",
       "      <td>28.0</td>\n",
       "      <td>18.0</td>\n",
       "      <td>NaN</td>\n",
       "    </tr>\n",
       "    <tr>\n",
       "      <th>1</th>\n",
       "      <td>2021-12-26 00:01:00</td>\n",
       "      <td>2021-12-26</td>\n",
       "      <td>2021</td>\n",
       "      <td>12</td>\n",
       "      <td>26</td>\n",
       "      <td>0</td>\n",
       "      <td>1</td>\n",
       "      <td>-3.4</td>\n",
       "      <td>-6.0</td>\n",
       "      <td>34</td>\n",
       "      <td>...</td>\n",
       "      <td>0.0</td>\n",
       "      <td>0.0</td>\n",
       "      <td>0.0</td>\n",
       "      <td>0.0</td>\n",
       "      <td>0.0</td>\n",
       "      <td>1.0</td>\n",
       "      <td>1.0</td>\n",
       "      <td>28.0</td>\n",
       "      <td>18.0</td>\n",
       "      <td>NaN</td>\n",
       "    </tr>\n",
       "    <tr>\n",
       "      <th>2</th>\n",
       "      <td>2021-12-26 00:02:00</td>\n",
       "      <td>2021-12-26</td>\n",
       "      <td>2021</td>\n",
       "      <td>12</td>\n",
       "      <td>26</td>\n",
       "      <td>0</td>\n",
       "      <td>2</td>\n",
       "      <td>-3.3</td>\n",
       "      <td>-5.9</td>\n",
       "      <td>33</td>\n",
       "      <td>...</td>\n",
       "      <td>0.0</td>\n",
       "      <td>0.0</td>\n",
       "      <td>0.0</td>\n",
       "      <td>0.0</td>\n",
       "      <td>0.0</td>\n",
       "      <td>1.0</td>\n",
       "      <td>1.0</td>\n",
       "      <td>28.0</td>\n",
       "      <td>18.0</td>\n",
       "      <td>NaN</td>\n",
       "    </tr>\n",
       "  </tbody>\n",
       "</table>\n",
       "<p>3 rows × 25 columns</p>\n",
       "</div>"
      ],
      "text/plain": [
       "                   시간        년월일    년도   월   일  시  분  일사량(W/㎡)  외기온(℃)  \\\n",
       "0 2021-12-26 00:00:00 2021-12-26  2021  12  26  0  0      -3.2    -5.9   \n",
       "1 2021-12-26 00:01:00 2021-12-26  2021  12  26  0  1      -3.4    -6.0   \n",
       "2 2021-12-26 00:02:00 2021-12-26  2021  12  26  0  2      -3.3    -5.9   \n",
       "\n",
       "   외기습도(%)  ...  차열스크린(수평)  에너지스크린(수평)  에너지스크린(수직)  배기팬   천창  유동팬  팬코일 B동  \\\n",
       "0       33  ...        0.0         0.0         0.0  0.0  0.0  1.0     1.0   \n",
       "1       34  ...        0.0         0.0         0.0  0.0  0.0  1.0     1.0   \n",
       "2       33  ...        0.0         0.0         0.0  0.0  0.0  1.0     1.0   \n",
       "\n",
       "   환기온도(천창 제어온도)  난방온도(설정온도)  열공급량(kWh)  \n",
       "0           28.0        18.0        NaN  \n",
       "1           28.0        18.0        NaN  \n",
       "2           28.0        18.0        NaN  \n",
       "\n",
       "[3 rows x 25 columns]"
      ]
     },
     "execution_count": 81,
     "metadata": {},
     "output_type": "execute_result"
    }
   ],
   "source": [
    "smart_farm_range = smart_farm[smart_farm[\"년월일\"].isin(date_range)].reset_index(drop=True)\n",
    "smart_farm_range.head(3)\n",
    "\n",
    "# 2021년 12월 26일부터 2022년 1월 1일 데이터만 추출"
   ]
  },
  {
   "cell_type": "code",
   "execution_count": 75,
   "id": "453157ad",
   "metadata": {},
   "outputs": [
    {
     "data": {
      "text/plain": [
       "DatetimeIndex(['2021-12-26', '2021-12-27', '2021-12-28', '2021-12-29',\n",
       "               '2021-12-30', '2021-12-31', '2022-01-01'],\n",
       "              dtype='datetime64[ns]', freq='D')"
      ]
     },
     "execution_count": 75,
     "metadata": {},
     "output_type": "execute_result"
    }
   ],
   "source": [
    "date_range"
   ]
  },
  {
   "cell_type": "code",
   "execution_count": 49,
   "id": "bc353923",
   "metadata": {},
   "outputs": [
    {
     "data": {
      "text/html": [
       "<div>\n",
       "<style scoped>\n",
       "    .dataframe tbody tr th:only-of-type {\n",
       "        vertical-align: middle;\n",
       "    }\n",
       "\n",
       "    .dataframe tbody tr th {\n",
       "        vertical-align: top;\n",
       "    }\n",
       "\n",
       "    .dataframe thead th {\n",
       "        text-align: right;\n",
       "    }\n",
       "</style>\n",
       "<table border=\"1\" class=\"dataframe\">\n",
       "  <thead>\n",
       "    <tr style=\"text-align: right;\">\n",
       "      <th></th>\n",
       "      <th>시간</th>\n",
       "      <th>년월일</th>\n",
       "      <th>년도</th>\n",
       "      <th>월</th>\n",
       "      <th>일</th>\n",
       "      <th>시</th>\n",
       "      <th>분</th>\n",
       "    </tr>\n",
       "  </thead>\n",
       "  <tbody>\n",
       "    <tr>\n",
       "      <th>0</th>\n",
       "      <td>2021-11-26 00:00:00</td>\n",
       "      <td>2021-11-26</td>\n",
       "      <td>2021</td>\n",
       "      <td>11</td>\n",
       "      <td>26</td>\n",
       "      <td>0</td>\n",
       "      <td>0</td>\n",
       "    </tr>\n",
       "    <tr>\n",
       "      <th>1</th>\n",
       "      <td>2021-11-26 00:01:00</td>\n",
       "      <td>2021-11-26</td>\n",
       "      <td>2021</td>\n",
       "      <td>11</td>\n",
       "      <td>26</td>\n",
       "      <td>0</td>\n",
       "      <td>1</td>\n",
       "    </tr>\n",
       "    <tr>\n",
       "      <th>2</th>\n",
       "      <td>2021-11-26 00:02:00</td>\n",
       "      <td>2021-11-26</td>\n",
       "      <td>2021</td>\n",
       "      <td>11</td>\n",
       "      <td>26</td>\n",
       "      <td>0</td>\n",
       "      <td>2</td>\n",
       "    </tr>\n",
       "    <tr>\n",
       "      <th>3</th>\n",
       "      <td>2021-11-26 00:03:00</td>\n",
       "      <td>2021-11-26</td>\n",
       "      <td>2021</td>\n",
       "      <td>11</td>\n",
       "      <td>26</td>\n",
       "      <td>0</td>\n",
       "      <td>3</td>\n",
       "    </tr>\n",
       "    <tr>\n",
       "      <th>4</th>\n",
       "      <td>2021-11-26 00:04:00</td>\n",
       "      <td>2021-11-26</td>\n",
       "      <td>2021</td>\n",
       "      <td>11</td>\n",
       "      <td>26</td>\n",
       "      <td>0</td>\n",
       "      <td>4</td>\n",
       "    </tr>\n",
       "    <tr>\n",
       "      <th>...</th>\n",
       "      <td>...</td>\n",
       "      <td>...</td>\n",
       "      <td>...</td>\n",
       "      <td>...</td>\n",
       "      <td>...</td>\n",
       "      <td>...</td>\n",
       "      <td>...</td>\n",
       "    </tr>\n",
       "    <tr>\n",
       "      <th>132475</th>\n",
       "      <td>2022-02-28 23:55:00</td>\n",
       "      <td>2022-02-28</td>\n",
       "      <td>2022</td>\n",
       "      <td>2</td>\n",
       "      <td>28</td>\n",
       "      <td>23</td>\n",
       "      <td>55</td>\n",
       "    </tr>\n",
       "    <tr>\n",
       "      <th>132476</th>\n",
       "      <td>2022-02-28 23:56:00</td>\n",
       "      <td>2022-02-28</td>\n",
       "      <td>2022</td>\n",
       "      <td>2</td>\n",
       "      <td>28</td>\n",
       "      <td>23</td>\n",
       "      <td>56</td>\n",
       "    </tr>\n",
       "    <tr>\n",
       "      <th>132477</th>\n",
       "      <td>2022-02-28 23:57:00</td>\n",
       "      <td>2022-02-28</td>\n",
       "      <td>2022</td>\n",
       "      <td>2</td>\n",
       "      <td>28</td>\n",
       "      <td>23</td>\n",
       "      <td>57</td>\n",
       "    </tr>\n",
       "    <tr>\n",
       "      <th>132478</th>\n",
       "      <td>2022-02-28 23:58:00</td>\n",
       "      <td>2022-02-28</td>\n",
       "      <td>2022</td>\n",
       "      <td>2</td>\n",
       "      <td>28</td>\n",
       "      <td>23</td>\n",
       "      <td>58</td>\n",
       "    </tr>\n",
       "    <tr>\n",
       "      <th>132479</th>\n",
       "      <td>2022-02-28 23:59:00</td>\n",
       "      <td>2022-02-28</td>\n",
       "      <td>2022</td>\n",
       "      <td>2</td>\n",
       "      <td>28</td>\n",
       "      <td>23</td>\n",
       "      <td>59</td>\n",
       "    </tr>\n",
       "  </tbody>\n",
       "</table>\n",
       "<p>132480 rows × 7 columns</p>\n",
       "</div>"
      ],
      "text/plain": [
       "                        시간        년월일    년도   월   일   시   분\n",
       "0      2021-11-26 00:00:00 2021-11-26  2021  11  26   0   0\n",
       "1      2021-11-26 00:01:00 2021-11-26  2021  11  26   0   1\n",
       "2      2021-11-26 00:02:00 2021-11-26  2021  11  26   0   2\n",
       "3      2021-11-26 00:03:00 2021-11-26  2021  11  26   0   3\n",
       "4      2021-11-26 00:04:00 2021-11-26  2021  11  26   0   4\n",
       "...                    ...        ...   ...  ..  ..  ..  ..\n",
       "132475 2022-02-28 23:55:00 2022-02-28  2022   2  28  23  55\n",
       "132476 2022-02-28 23:56:00 2022-02-28  2022   2  28  23  56\n",
       "132477 2022-02-28 23:57:00 2022-02-28  2022   2  28  23  57\n",
       "132478 2022-02-28 23:58:00 2022-02-28  2022   2  28  23  58\n",
       "132479 2022-02-28 23:59:00 2022-02-28  2022   2  28  23  59\n",
       "\n",
       "[132480 rows x 7 columns]"
      ]
     },
     "execution_count": 49,
     "metadata": {},
     "output_type": "execute_result"
    }
   ],
   "source": [
    "smart_farm[[\"시간\",\"년월일\",\"년도\",'월', '일', '시', '분']]"
   ]
  },
  {
   "cell_type": "code",
   "execution_count": 71,
   "id": "a7fca54a",
   "metadata": {},
   "outputs": [],
   "source": [
    "smart_farm = smart_farm[[\"시간\",\"년월일\",\"년도\",'월', '일', '시', '분', '일사량(W/㎡)', '외기온(℃)', '외기습도(%)', '풍속(m/s)',\n",
    "       '풍향(º)', '내부 온도', '내부 습도', '차광스크린(수평)', '차열스크린(수평)', '에너지스크린(수평)',\n",
    "       '에너지스크린(수직)', '배기팬', '천창', '유동팬', '팬코일 B동', '환기온도(천창 제어온도)',\n",
    "       '난방온도(설정온도)', '열공급량(kWh)']]\n",
    "\n",
    "# 데이터프레임 컬럼 순서 변경"
   ]
  },
  {
   "cell_type": "markdown",
   "id": "bce789c1",
   "metadata": {},
   "source": [
    "- 시간이 중복값이 없다면 시간 컬럼을 PK로 활용가능\n",
    "- PK란? Primary Key의 약자로 행 간의 구분을 가능하게 하는 행별 고유 특성"
   ]
  },
  {
   "cell_type": "markdown",
   "id": "371e4d20",
   "metadata": {},
   "source": [
    "### etc... duplicated()를 이용한 중복체크\n",
    "- 데이터 행이 중복되는 경우가 존재\n",
    "- 중복되는 데이터 행을 조회하거나 삭제하기 위한 방법 duplicated()\n",
    "- 참고링크 : https://mizykk.tistory.com/93"
   ]
  },
  {
   "cell_type": "code",
   "execution_count": 54,
   "id": "e3463c51",
   "metadata": {},
   "outputs": [
    {
     "data": {
      "text/html": [
       "<div>\n",
       "<style scoped>\n",
       "    .dataframe tbody tr th:only-of-type {\n",
       "        vertical-align: middle;\n",
       "    }\n",
       "\n",
       "    .dataframe tbody tr th {\n",
       "        vertical-align: top;\n",
       "    }\n",
       "\n",
       "    .dataframe thead th {\n",
       "        text-align: right;\n",
       "    }\n",
       "</style>\n",
       "<table border=\"1\" class=\"dataframe\">\n",
       "  <thead>\n",
       "    <tr style=\"text-align: right;\">\n",
       "      <th></th>\n",
       "      <th>시간</th>\n",
       "      <th>년월일</th>\n",
       "      <th>년도</th>\n",
       "      <th>월</th>\n",
       "      <th>일</th>\n",
       "      <th>시</th>\n",
       "      <th>분</th>\n",
       "      <th>일사량(W/㎡)</th>\n",
       "      <th>외기온(℃)</th>\n",
       "      <th>외기습도(%)</th>\n",
       "      <th>...</th>\n",
       "      <th>차열스크린(수평)</th>\n",
       "      <th>에너지스크린(수평)</th>\n",
       "      <th>에너지스크린(수직)</th>\n",
       "      <th>배기팬</th>\n",
       "      <th>천창</th>\n",
       "      <th>유동팬</th>\n",
       "      <th>팬코일 B동</th>\n",
       "      <th>환기온도(천창 제어온도)</th>\n",
       "      <th>난방온도(설정온도)</th>\n",
       "      <th>열공급량(kWh)</th>\n",
       "    </tr>\n",
       "  </thead>\n",
       "  <tbody>\n",
       "  </tbody>\n",
       "</table>\n",
       "<p>0 rows × 25 columns</p>\n",
       "</div>"
      ],
      "text/plain": [
       "Empty DataFrame\n",
       "Columns: [시간, 년월일, 년도, 월, 일, 시, 분, 일사량(W/㎡), 외기온(℃), 외기습도(%), 풍속(m/s), 풍향(º), 내부 온도, 내부 습도, 차광스크린(수평), 차열스크린(수평), 에너지스크린(수평), 에너지스크린(수직), 배기팬, 천창, 유동팬, 팬코일 B동, 환기온도(천창 제어온도), 난방온도(설정온도), 열공급량(kWh)]\n",
       "Index: []\n",
       "\n",
       "[0 rows x 25 columns]"
      ]
     },
     "execution_count": 54,
     "metadata": {},
     "output_type": "execute_result"
    }
   ],
   "source": [
    "smart_farm[smart_farm[\"시간\"].duplicated()]\n",
    "# '시간' 컬럼에 대해서 중복이 있는 경우 모두 True로 반환\n",
    "# Boolean Indexing을 통해 중복확인"
   ]
  },
  {
   "cell_type": "code",
   "execution_count": 60,
   "id": "14fc1e72",
   "metadata": {},
   "outputs": [
    {
     "data": {
      "text/html": [
       "<div>\n",
       "<style scoped>\n",
       "    .dataframe tbody tr th:only-of-type {\n",
       "        vertical-align: middle;\n",
       "    }\n",
       "\n",
       "    .dataframe tbody tr th {\n",
       "        vertical-align: top;\n",
       "    }\n",
       "\n",
       "    .dataframe thead th {\n",
       "        text-align: right;\n",
       "    }\n",
       "</style>\n",
       "<table border=\"1\" class=\"dataframe\">\n",
       "  <thead>\n",
       "    <tr style=\"text-align: right;\">\n",
       "      <th></th>\n",
       "      <th>년도</th>\n",
       "      <th>학점</th>\n",
       "    </tr>\n",
       "  </thead>\n",
       "  <tbody>\n",
       "    <tr>\n",
       "      <th>0</th>\n",
       "      <td>2020</td>\n",
       "      <td>4.3</td>\n",
       "    </tr>\n",
       "    <tr>\n",
       "      <th>1</th>\n",
       "      <td>2021</td>\n",
       "      <td>4.2</td>\n",
       "    </tr>\n",
       "    <tr>\n",
       "      <th>2</th>\n",
       "      <td>2022</td>\n",
       "      <td>4.3</td>\n",
       "    </tr>\n",
       "    <tr>\n",
       "      <th>3</th>\n",
       "      <td>2022</td>\n",
       "      <td>4.3</td>\n",
       "    </tr>\n",
       "  </tbody>\n",
       "</table>\n",
       "</div>"
      ],
      "text/plain": [
       "     년도   학점\n",
       "0  2020  4.3\n",
       "1  2021  4.2\n",
       "2  2022  4.3\n",
       "3  2022  4.3"
      ]
     },
     "execution_count": 60,
     "metadata": {},
     "output_type": "execute_result"
    }
   ],
   "source": [
    "df = pd.DataFrame()\n",
    "df[\"년도\"] = [\"2020\",\"2021\",\"2022\",\"2022\"]\n",
    "df[\"학점\"] = [4.3,4.2,4.3,4.3]\n",
    "\n",
    "df"
   ]
  },
  {
   "cell_type": "markdown",
   "id": "d1d0a734",
   "metadata": {},
   "source": [
    "col 입력없이 전체 컬럼에 대해서 확인"
   ]
  },
  {
   "cell_type": "code",
   "execution_count": 64,
   "id": "8492443a",
   "metadata": {},
   "outputs": [
    {
     "data": {
      "text/html": [
       "<div>\n",
       "<style scoped>\n",
       "    .dataframe tbody tr th:only-of-type {\n",
       "        vertical-align: middle;\n",
       "    }\n",
       "\n",
       "    .dataframe tbody tr th {\n",
       "        vertical-align: top;\n",
       "    }\n",
       "\n",
       "    .dataframe thead th {\n",
       "        text-align: right;\n",
       "    }\n",
       "</style>\n",
       "<table border=\"1\" class=\"dataframe\">\n",
       "  <thead>\n",
       "    <tr style=\"text-align: right;\">\n",
       "      <th></th>\n",
       "      <th>년도</th>\n",
       "      <th>학점</th>\n",
       "    </tr>\n",
       "  </thead>\n",
       "  <tbody>\n",
       "    <tr>\n",
       "      <th>0</th>\n",
       "      <td>2020</td>\n",
       "      <td>4.3</td>\n",
       "    </tr>\n",
       "    <tr>\n",
       "      <th>1</th>\n",
       "      <td>2021</td>\n",
       "      <td>4.2</td>\n",
       "    </tr>\n",
       "  </tbody>\n",
       "</table>\n",
       "</div>"
      ],
      "text/plain": [
       "     년도   학점\n",
       "0  2020  4.3\n",
       "1  2021  4.2"
      ]
     },
     "execution_count": 64,
     "metadata": {},
     "output_type": "execute_result"
    }
   ],
   "source": [
    "# 중복인 요소 중, 첫 번째만 남기기\n",
    "df.drop_duplicates(keep = 'first')\n",
    "\n",
    "# 중복인 요소 중, 마지막만 남기기\n",
    "df.drop_duplicates(keep = 'last')\n",
    "\n",
    "# 중복인 요소 중, 모두 제거\n",
    "df.drop_duplicates(keep = False)"
   ]
  },
  {
   "cell_type": "code",
   "execution_count": 63,
   "id": "849aaf43",
   "metadata": {},
   "outputs": [
    {
     "data": {
      "text/html": [
       "<div>\n",
       "<style scoped>\n",
       "    .dataframe tbody tr th:only-of-type {\n",
       "        vertical-align: middle;\n",
       "    }\n",
       "\n",
       "    .dataframe tbody tr th {\n",
       "        vertical-align: top;\n",
       "    }\n",
       "\n",
       "    .dataframe thead th {\n",
       "        text-align: right;\n",
       "    }\n",
       "</style>\n",
       "<table border=\"1\" class=\"dataframe\">\n",
       "  <thead>\n",
       "    <tr style=\"text-align: right;\">\n",
       "      <th></th>\n",
       "      <th>년도</th>\n",
       "      <th>학점</th>\n",
       "    </tr>\n",
       "  </thead>\n",
       "  <tbody>\n",
       "    <tr>\n",
       "      <th>1</th>\n",
       "      <td>2021</td>\n",
       "      <td>4.2</td>\n",
       "    </tr>\n",
       "  </tbody>\n",
       "</table>\n",
       "</div>"
      ],
      "text/plain": [
       "     년도   학점\n",
       "1  2021  4.2"
      ]
     },
     "execution_count": 63,
     "metadata": {},
     "output_type": "execute_result"
    }
   ],
   "source": [
    "# 중복인 요소 중, 첫 번째만 남기기\n",
    "df.drop_duplicates(['학점'], keep = 'first')\n",
    "\n",
    "# 중복인 요소 중, 마지막만 남기기\n",
    "df.drop_duplicates(['학점'], keep = 'last')\n",
    "\n",
    "# 중복인 요소 중, 모두 제거\n",
    "df.drop_duplicates(['학점'], keep = False)"
   ]
  },
  {
   "cell_type": "markdown",
   "id": "3f3abda1",
   "metadata": {},
   "source": [
    "## 2. 결측치 및 분포 확인\n",
    "- 결측치 확인 및 분포 확인을 위한 다양한 plot\n",
    "- 결측치 채우기"
   ]
  },
  {
   "cell_type": "code",
   "execution_count": 66,
   "id": "56ef4483",
   "metadata": {},
   "outputs": [
    {
     "data": {
      "text/html": [
       "<div>\n",
       "<style scoped>\n",
       "    .dataframe tbody tr th:only-of-type {\n",
       "        vertical-align: middle;\n",
       "    }\n",
       "\n",
       "    .dataframe tbody tr th {\n",
       "        vertical-align: top;\n",
       "    }\n",
       "\n",
       "    .dataframe thead th {\n",
       "        text-align: right;\n",
       "    }\n",
       "</style>\n",
       "<table border=\"1\" class=\"dataframe\">\n",
       "  <thead>\n",
       "    <tr style=\"text-align: right;\">\n",
       "      <th></th>\n",
       "      <th>시간</th>\n",
       "      <th>년월일</th>\n",
       "      <th>년도</th>\n",
       "      <th>월</th>\n",
       "      <th>일</th>\n",
       "      <th>시</th>\n",
       "      <th>분</th>\n",
       "      <th>일사량(W/㎡)</th>\n",
       "      <th>외기온(℃)</th>\n",
       "      <th>외기습도(%)</th>\n",
       "      <th>...</th>\n",
       "      <th>차열스크린(수평)</th>\n",
       "      <th>에너지스크린(수평)</th>\n",
       "      <th>에너지스크린(수직)</th>\n",
       "      <th>배기팬</th>\n",
       "      <th>천창</th>\n",
       "      <th>유동팬</th>\n",
       "      <th>팬코일 B동</th>\n",
       "      <th>환기온도(천창 제어온도)</th>\n",
       "      <th>난방온도(설정온도)</th>\n",
       "      <th>열공급량(kWh)</th>\n",
       "    </tr>\n",
       "  </thead>\n",
       "  <tbody>\n",
       "    <tr>\n",
       "      <th>0</th>\n",
       "      <td>2021-11-26 00:00:00</td>\n",
       "      <td>2021-11-26</td>\n",
       "      <td>2021</td>\n",
       "      <td>11</td>\n",
       "      <td>26</td>\n",
       "      <td>0</td>\n",
       "      <td>0</td>\n",
       "      <td>-2.7</td>\n",
       "      <td>5.8</td>\n",
       "      <td>67</td>\n",
       "      <td>...</td>\n",
       "      <td>0.0</td>\n",
       "      <td>0.0</td>\n",
       "      <td>0.0</td>\n",
       "      <td>0.0</td>\n",
       "      <td>0.0</td>\n",
       "      <td>1.0</td>\n",
       "      <td>0.0</td>\n",
       "      <td>28.0</td>\n",
       "      <td>18.0</td>\n",
       "      <td>0.9</td>\n",
       "    </tr>\n",
       "    <tr>\n",
       "      <th>1</th>\n",
       "      <td>2021-11-26 00:01:00</td>\n",
       "      <td>2021-11-26</td>\n",
       "      <td>2021</td>\n",
       "      <td>11</td>\n",
       "      <td>26</td>\n",
       "      <td>0</td>\n",
       "      <td>1</td>\n",
       "      <td>-2.9</td>\n",
       "      <td>5.8</td>\n",
       "      <td>67</td>\n",
       "      <td>...</td>\n",
       "      <td>0.0</td>\n",
       "      <td>0.0</td>\n",
       "      <td>0.0</td>\n",
       "      <td>0.0</td>\n",
       "      <td>0.0</td>\n",
       "      <td>1.0</td>\n",
       "      <td>0.0</td>\n",
       "      <td>28.0</td>\n",
       "      <td>18.0</td>\n",
       "      <td>0.9</td>\n",
       "    </tr>\n",
       "    <tr>\n",
       "      <th>2</th>\n",
       "      <td>2021-11-26 00:02:00</td>\n",
       "      <td>2021-11-26</td>\n",
       "      <td>2021</td>\n",
       "      <td>11</td>\n",
       "      <td>26</td>\n",
       "      <td>0</td>\n",
       "      <td>2</td>\n",
       "      <td>-3.0</td>\n",
       "      <td>5.7</td>\n",
       "      <td>67</td>\n",
       "      <td>...</td>\n",
       "      <td>0.0</td>\n",
       "      <td>0.0</td>\n",
       "      <td>0.0</td>\n",
       "      <td>0.0</td>\n",
       "      <td>0.0</td>\n",
       "      <td>1.0</td>\n",
       "      <td>1.0</td>\n",
       "      <td>28.0</td>\n",
       "      <td>18.0</td>\n",
       "      <td>0.9</td>\n",
       "    </tr>\n",
       "  </tbody>\n",
       "</table>\n",
       "<p>3 rows × 25 columns</p>\n",
       "</div>"
      ],
      "text/plain": [
       "                   시간        년월일    년도   월   일  시  분  일사량(W/㎡)  외기온(℃)  \\\n",
       "0 2021-11-26 00:00:00 2021-11-26  2021  11  26  0  0      -2.7     5.8   \n",
       "1 2021-11-26 00:01:00 2021-11-26  2021  11  26  0  1      -2.9     5.8   \n",
       "2 2021-11-26 00:02:00 2021-11-26  2021  11  26  0  2      -3.0     5.7   \n",
       "\n",
       "   외기습도(%)  ...  차열스크린(수평)  에너지스크린(수평)  에너지스크린(수직)  배기팬   천창  유동팬  팬코일 B동  \\\n",
       "0       67  ...        0.0         0.0         0.0  0.0  0.0  1.0     0.0   \n",
       "1       67  ...        0.0         0.0         0.0  0.0  0.0  1.0     0.0   \n",
       "2       67  ...        0.0         0.0         0.0  0.0  0.0  1.0     1.0   \n",
       "\n",
       "   환기온도(천창 제어온도)  난방온도(설정온도)  열공급량(kWh)  \n",
       "0           28.0        18.0        0.9  \n",
       "1           28.0        18.0        0.9  \n",
       "2           28.0        18.0        0.9  \n",
       "\n",
       "[3 rows x 25 columns]"
      ]
     },
     "execution_count": 66,
     "metadata": {},
     "output_type": "execute_result"
    }
   ],
   "source": [
    "smart_farm.head(3)"
   ]
  },
  {
   "cell_type": "markdown",
   "id": "5442b785",
   "metadata": {},
   "source": [
    "isnull\n",
    "- 결측치가 존재하는 요소 모두 True로 변환\n",
    "- True는 숫자로 변환 시, 1로 취급\n",
    "- 전체 요소에 대한 합을 통해 결측치 개수 확인\n",
    "- isnull()의 반대 notnull()"
   ]
  },
  {
   "cell_type": "code",
   "execution_count": 69,
   "id": "fdcb491e",
   "metadata": {},
   "outputs": [
    {
     "data": {
      "text/html": [
       "<div>\n",
       "<style scoped>\n",
       "    .dataframe tbody tr th:only-of-type {\n",
       "        vertical-align: middle;\n",
       "    }\n",
       "\n",
       "    .dataframe tbody tr th {\n",
       "        vertical-align: top;\n",
       "    }\n",
       "\n",
       "    .dataframe thead th {\n",
       "        text-align: right;\n",
       "    }\n",
       "</style>\n",
       "<table border=\"1\" class=\"dataframe\">\n",
       "  <thead>\n",
       "    <tr style=\"text-align: right;\">\n",
       "      <th></th>\n",
       "      <th>시간</th>\n",
       "      <th>년월일</th>\n",
       "      <th>년도</th>\n",
       "      <th>월</th>\n",
       "      <th>일</th>\n",
       "      <th>시</th>\n",
       "      <th>분</th>\n",
       "      <th>일사량(W/㎡)</th>\n",
       "      <th>외기온(℃)</th>\n",
       "      <th>외기습도(%)</th>\n",
       "      <th>...</th>\n",
       "      <th>차열스크린(수평)</th>\n",
       "      <th>에너지스크린(수평)</th>\n",
       "      <th>에너지스크린(수직)</th>\n",
       "      <th>배기팬</th>\n",
       "      <th>천창</th>\n",
       "      <th>유동팬</th>\n",
       "      <th>팬코일 B동</th>\n",
       "      <th>환기온도(천창 제어온도)</th>\n",
       "      <th>난방온도(설정온도)</th>\n",
       "      <th>열공급량(kWh)</th>\n",
       "    </tr>\n",
       "  </thead>\n",
       "  <tbody>\n",
       "    <tr>\n",
       "      <th>0</th>\n",
       "      <td>False</td>\n",
       "      <td>False</td>\n",
       "      <td>False</td>\n",
       "      <td>False</td>\n",
       "      <td>False</td>\n",
       "      <td>False</td>\n",
       "      <td>False</td>\n",
       "      <td>False</td>\n",
       "      <td>False</td>\n",
       "      <td>False</td>\n",
       "      <td>...</td>\n",
       "      <td>False</td>\n",
       "      <td>False</td>\n",
       "      <td>False</td>\n",
       "      <td>False</td>\n",
       "      <td>False</td>\n",
       "      <td>False</td>\n",
       "      <td>False</td>\n",
       "      <td>False</td>\n",
       "      <td>False</td>\n",
       "      <td>False</td>\n",
       "    </tr>\n",
       "    <tr>\n",
       "      <th>1</th>\n",
       "      <td>False</td>\n",
       "      <td>False</td>\n",
       "      <td>False</td>\n",
       "      <td>False</td>\n",
       "      <td>False</td>\n",
       "      <td>False</td>\n",
       "      <td>False</td>\n",
       "      <td>False</td>\n",
       "      <td>False</td>\n",
       "      <td>False</td>\n",
       "      <td>...</td>\n",
       "      <td>False</td>\n",
       "      <td>False</td>\n",
       "      <td>False</td>\n",
       "      <td>False</td>\n",
       "      <td>False</td>\n",
       "      <td>False</td>\n",
       "      <td>False</td>\n",
       "      <td>False</td>\n",
       "      <td>False</td>\n",
       "      <td>False</td>\n",
       "    </tr>\n",
       "    <tr>\n",
       "      <th>2</th>\n",
       "      <td>False</td>\n",
       "      <td>False</td>\n",
       "      <td>False</td>\n",
       "      <td>False</td>\n",
       "      <td>False</td>\n",
       "      <td>False</td>\n",
       "      <td>False</td>\n",
       "      <td>False</td>\n",
       "      <td>False</td>\n",
       "      <td>False</td>\n",
       "      <td>...</td>\n",
       "      <td>False</td>\n",
       "      <td>False</td>\n",
       "      <td>False</td>\n",
       "      <td>False</td>\n",
       "      <td>False</td>\n",
       "      <td>False</td>\n",
       "      <td>False</td>\n",
       "      <td>False</td>\n",
       "      <td>False</td>\n",
       "      <td>False</td>\n",
       "    </tr>\n",
       "  </tbody>\n",
       "</table>\n",
       "<p>3 rows × 25 columns</p>\n",
       "</div>"
      ],
      "text/plain": [
       "      시간    년월일     년도      월      일      시      분  일사량(W/㎡)  외기온(℃)  외기습도(%)  \\\n",
       "0  False  False  False  False  False  False  False     False   False    False   \n",
       "1  False  False  False  False  False  False  False     False   False    False   \n",
       "2  False  False  False  False  False  False  False     False   False    False   \n",
       "\n",
       "   ...  차열스크린(수평)  에너지스크린(수평)  에너지스크린(수직)    배기팬     천창    유동팬  팬코일 B동  \\\n",
       "0  ...      False       False       False  False  False  False   False   \n",
       "1  ...      False       False       False  False  False  False   False   \n",
       "2  ...      False       False       False  False  False  False   False   \n",
       "\n",
       "   환기온도(천창 제어온도)  난방온도(설정온도)  열공급량(kWh)  \n",
       "0          False       False      False  \n",
       "1          False       False      False  \n",
       "2          False       False      False  \n",
       "\n",
       "[3 rows x 25 columns]"
      ]
     },
     "execution_count": 69,
     "metadata": {},
     "output_type": "execute_result"
    }
   ],
   "source": [
    "smart_farm.isnull().head(3)"
   ]
  },
  {
   "cell_type": "code",
   "execution_count": 70,
   "id": "138e7ef8",
   "metadata": {},
   "outputs": [
    {
     "data": {
      "text/plain": [
       "시간                   0\n",
       "년월일                  0\n",
       "년도                   0\n",
       "월                    0\n",
       "일                    0\n",
       "시                    0\n",
       "분                    0\n",
       "일사량(W/㎡)             0\n",
       "외기온(℃)               0\n",
       "외기습도(%)              0\n",
       "풍속(m/s)              0\n",
       "풍향(º)                0\n",
       "내부 온도              512\n",
       "내부 습도              512\n",
       "차광스크린(수평)          512\n",
       "차열스크린(수평)          512\n",
       "에너지스크린(수평)         512\n",
       "에너지스크린(수직)         512\n",
       "배기팬                512\n",
       "천창                 512\n",
       "유동팬                512\n",
       "팬코일 B동             512\n",
       "환기온도(천창 제어온도)      501\n",
       "난방온도(설정온도)         500\n",
       "열공급량(kWh)        21075\n",
       "dtype: int64"
      ]
     },
     "execution_count": 70,
     "metadata": {},
     "output_type": "execute_result"
    }
   ],
   "source": [
    "smart_farm.isnull().sum()"
   ]
  },
  {
   "cell_type": "markdown",
   "id": "d96907b0",
   "metadata": {},
   "source": [
    "### 1) y값 확인\n",
    "- 예측데이터와 학습데이터 분리\n",
    "- 학습데이터 : 모델 학습을 위한 데이타\n",
    "- 검증데이터 : 학습시킨 모델을 통해 예측해야하는 기간의 데이터\n",
    "- 검증기간 : 2021.12.26~2022.01.01(1주)\n",
    "- 검증기간 : 2022.01.23~2022.01.29(1주)"
   ]
  },
  {
   "cell_type": "code",
   "execution_count": 82,
   "id": "a4862833",
   "metadata": {},
   "outputs": [],
   "source": [
    "smart_farm_df = smart_farm.set_index(\"시간\")\n",
    "# '시간' 컬럼을 데이터프레임의 index로 설정"
   ]
  },
  {
   "cell_type": "code",
   "execution_count": 93,
   "id": "e5d45844",
   "metadata": {},
   "outputs": [],
   "source": [
    "smart_farm_df = smart_farm_df[smart_farm_df[\"열공급량(kWh)\"].notnull()]\n",
    "# notnull을 통해 결측이 없는 데이터만 추출"
   ]
  },
  {
   "cell_type": "code",
   "execution_count": 94,
   "id": "e5e99833",
   "metadata": {},
   "outputs": [
    {
     "data": {
      "text/plain": [
       "시간\n",
       "2021-11-26 00:00:00    0.9\n",
       "2021-11-26 00:01:00    0.9\n",
       "2021-11-26 00:02:00    0.9\n",
       "2021-11-26 00:03:00    0.8\n",
       "2021-11-26 00:04:00    1.0\n",
       "                      ... \n",
       "2022-02-28 23:55:00    0.9\n",
       "2022-02-28 23:56:00    0.8\n",
       "2022-02-28 23:57:00    0.8\n",
       "2022-02-28 23:58:00    0.8\n",
       "2022-02-28 23:59:00    0.8\n",
       "Name: 열공급량(kWh), Length: 111405, dtype: float64"
      ]
     },
     "execution_count": 94,
     "metadata": {},
     "output_type": "execute_result"
    }
   ],
   "source": [
    "smart_farm_df[\"열공급량(kWh)\"]\n",
    "# '시간' index, '열공급량'을 데이터"
   ]
  },
  {
   "cell_type": "markdown",
   "id": "26bd16fb",
   "metadata": {},
   "source": [
    "시간별 열공급량 패턴 확인\n",
    "- 전체 기간\n",
    "- 월 단위\n",
    "- 일 단위"
   ]
  },
  {
   "cell_type": "code",
   "execution_count": 140,
   "id": "09be25ea",
   "metadata": {},
   "outputs": [
    {
     "data": {
      "text/plain": [
       "Text(0.5, 1.0, '전체 기간 열공급량')"
      ]
     },
     "execution_count": 140,
     "metadata": {},
     "output_type": "execute_result"
    },
    {
     "data": {
      "image/png": "[encoded data removed]",
      "text/plain": [
       "<Figure size 864x432 with 1 Axes>"
      ]
     },
     "metadata": {
      "needs_background": "light"
     },
     "output_type": "display_data"
    }
   ],
   "source": [
    "# 그래프 개수 및 사이즈 설정\n",
    "fig,ax = plt.subplots(1,1,figsize=(12,6))\n",
    "\n",
    "# 그래프 종류 및 데이터\n",
    "plot_df[\"열공급량(kWh)\"].plot(ax=ax,label=\"열공급량\",color=\"Red\",alpha=0.5)\n",
    "\n",
    "# 그래프 범례 설정\n",
    "plt.legend()\n",
    "plt.title(\"전체 기간 열공급량\")"
   ]
  },
  {
   "cell_type": "code",
   "execution_count": 141,
   "id": "c661a15b",
   "metadata": {
    "scrolled": false
   },
   "outputs": [
    {
     "data": {
      "text/plain": [
       "Text(0.5, 1.0, '2월의 열공급량')"
      ]
     },
     "execution_count": 141,
     "metadata": {},
     "output_type": "execute_result"
    },
    {
     "data": {
      "image/png": "[encoded data removed]",
      "text/plain": [
       "<Figure size 864x432 with 1 Axes>"
      ]
     },
     "metadata": {
      "needs_background": "light"
     },
     "output_type": "display_data"
    }
   ],
   "source": [
    "# 시각화 할 데이터\n",
    "plot_df = smart_farm_df[smart_farm_df[\"월\"] == 2]\n",
    "\n",
    "# 그래프 개수 및 사이즈 설정\n",
    "fig,ax = plt.subplots(1,1,figsize=(12,6))\n",
    "\n",
    "# 그래프 종류 및 데이터\n",
    "plot_df[\"열공급량(kWh)\"].plot(ax=ax,label=\"열공급량\",color=\"Red\",alpha=0.5)\n",
    "\n",
    "# 그래프 범례 설정\n",
    "plt.legend()\n",
    "plt.title(\"2월의 열공급량\")"
   ]
  },
  {
   "cell_type": "code",
   "execution_count": 142,
   "id": "6f508526",
   "metadata": {},
   "outputs": [
    {
     "data": {
      "text/plain": [
       "Text(0.5, 1.0, '2022년 2월 17일의 열공급량')"
      ]
     },
     "execution_count": 142,
     "metadata": {},
     "output_type": "execute_result"
    },
    {
     "data": {
      "image/png": "[encoded data removed]",
      "text/plain": [
       "<Figure size 864x432 with 1 Axes>"
      ]
     },
     "metadata": {
      "needs_background": "light"
     },
     "output_type": "display_data"
    }
   ],
   "source": [
    "# 시각화 할 데이터\n",
    "plot_df = smart_farm_df[smart_farm_df[\"년월일\"] == \"2022-02-17\"]\n",
    "\n",
    "# 그래프 개수 및 사이즈 설정\n",
    "fig,ax = plt.subplots(1,1,figsize=(12,6))\n",
    "\n",
    "# 그래프 종류 및 데이터\n",
    "plot_df[\"열공급량(kWh)\"].plot(ax=ax,label=\"열공급량\",color=\"Red\",alpha=0.5)\n",
    "\n",
    "# 그래프 범례 설정\n",
    "plt.legend()\n",
    "plt.title(\"2022년 2월 17일의 열공급량\")"
   ]
  },
  {
   "cell_type": "code",
   "execution_count": 146,
   "id": "7f836f94",
   "metadata": {},
   "outputs": [
    {
     "data": {
      "text/plain": [
       "Text(0.5, 1.0, '열공급량 9시, 10시 그래프')"
      ]
     },
     "execution_count": 146,
     "metadata": {},
     "output_type": "execute_result"
    },
    {
     "data": {
      "image/png": "[encoded data removed]",
      "text/plain": [
       "<Figure size 864x432 with 1 Axes>"
      ]
     },
     "metadata": {
      "needs_background": "light"
     },
     "output_type": "display_data"
    }
   ],
   "source": [
    "# 2월 17일 데이터만 수집\n",
    "plot_df = smart_farm_df[smart_farm_df[\"년월일\"] == \"2022-02-17\"]\n",
    "\n",
    "# 2월 17일 9시, 10시 데이터만 수집\n",
    "plot_df = plot_df[(plot_df[\"시\"] == 9) | \n",
    "                 (plot_df[\"시\"] == 10)]\n",
    "\n",
    "plt.rcParams['font.size'] = 12\n",
    "\n",
    "fig,ax = plt.subplots(figsize=(12,6))\n",
    "\n",
    "plot_df[\"열공급량(kWh)\"].plot(ax=ax,color=\"red\",alpha=0.5)\n",
    "\n",
    "plt.title(\"열공급량\" + \" 9시, 10시 그래프\")"
   ]
  },
  {
   "cell_type": "markdown",
   "id": "105e89d5",
   "metadata": {},
   "source": [
    "### 2) x값 확인\n",
    "- 범주형, 연속형 데이터 타입 확인"
   ]
  },
  {
   "cell_type": "markdown",
   "id": "2c776fd6",
   "metadata": {},
   "source": [
    "hist() 을 통해서 히스토그램 그리기\n",
    "- 데이터 분포 확인\n",
    "- 0과 1만 존재하는 범주형 변수 : 배기팬, 유동팬, 팬코일B동\n",
    "- 나머지 모두 연속형 변수 : 환기온도, 난방온도 ... 등"
   ]
  },
  {
   "cell_type": "code",
   "execution_count": 109,
   "id": "d4653fda",
   "metadata": {
    "scrolled": true
   },
   "outputs": [
    {
     "data": {
      "image/png": "[encoded data removed]",
      "text/plain": [
       "<Figure size 432x216 with 1 Axes>"
      ]
     },
     "metadata": {
      "needs_background": "light"
     },
     "output_type": "display_data"
    },
    {
     "data": {
      "image/png": "[encoded data removed]",
      "text/plain": [
       "<Figure size 432x216 with 1 Axes>"
      ]
     },
     "metadata": {
      "needs_background": "light"
     },
     "output_type": "display_data"
    },
    {
     "data": {
      "image/png": "[encoded data removed]",
      "text/plain": [
       "<Figure size 432x216 with 1 Axes>"
      ]
     },
     "metadata": {
      "needs_background": "light"
     },
     "output_type": "display_data"
    },
    {
     "data": {
      "image/png": "[encoded data removed]",
      "text/plain": [
       "<Figure size 432x216 with 1 Axes>"
      ]
     },
     "metadata": {
      "needs_background": "light"
     },
     "output_type": "display_data"
    },
    {
     "data": {
      "image/png": "[encoded data removed]",
      "text/plain": [
       "<Figure size 432x216 with 1 Axes>"
      ]
     },
     "metadata": {
      "needs_background": "light"
     },
     "output_type": "display_data"
    },
    {
     "data": {
      "image/png": "[encoded data removed]",
      "text/plain": [
       "<Figure size 432x216 with 1 Axes>"
      ]
     },
     "metadata": {
      "needs_background": "light"
     },
     "output_type": "display_data"
    },
    {
     "data": {
      "image/png": "[encoded data removed]",
      "text/plain": [
       "<Figure size 432x216 with 1 Axes>"
      ]
     },
     "metadata": {
      "needs_background": "light"
     },
     "output_type": "display_data"
    },
    {
     "data": {
      "image/png": "[encoded data removed]",
      "text/plain": [
       "<Figure size 432x216 with 1 Axes>"
      ]
     },
     "metadata": {
      "needs_background": "light"
     },
     "output_type": "display_data"
    },
    {
     "data": {
      "image/png": "[encoded data removed]",
      "text/plain": [
       "<Figure size 432x216 with 1 Axes>"
      ]
     },
     "metadata": {
      "needs_background": "light"
     },
     "output_type": "display_data"
    },
    {
     "data": {
      "image/png": "[encoded data removed]",
      "text/plain": [
       "<Figure size 432x216 with 1 Axes>"
      ]
     },
     "metadata": {
      "needs_background": "light"
     },
     "output_type": "display_data"
    }
   ],
   "source": [
    "for col in ['차광스크린(수평)', '차열스크린(수평)',\n",
    "       '에너지스크린(수평)', '에너지스크린(수직)', '배기팬', '천창', '유동팬', '팬코일 B동',\n",
    "       '환기온도(천창 제어온도)', '난방온도(설정온도)']:\n",
    "    \n",
    "    # 그래프 폰트 사이즈 설정\n",
    "    plt.rcParams['font.size'] = 12\n",
    "\n",
    "    fig,ax = plt.subplots(figsize=(6,3))\n",
    "    smart_farm_df[col].hist()\n",
    "    plt.title(col+\" 히스토그램\")"
   ]
  },
  {
   "cell_type": "markdown",
   "id": "fe20cdc4",
   "metadata": {},
   "source": [
    "#### 범주형 변수"
   ]
  },
  {
   "cell_type": "markdown",
   "id": "ca586a3b",
   "metadata": {},
   "source": [
    "describe() 를 통해서 데이터 요약\n",
    "- 최대/최소/중간값 확인\n",
    "- 사분위수 확인"
   ]
  },
  {
   "cell_type": "code",
   "execution_count": 111,
   "id": "d9eb8197",
   "metadata": {},
   "outputs": [
    {
     "data": {
      "text/plain": [
       "count    110908.000000\n",
       "mean          0.084340\n",
       "std           0.277899\n",
       "min           0.000000\n",
       "25%           0.000000\n",
       "50%           0.000000\n",
       "75%           0.000000\n",
       "max           1.000000\n",
       "Name: 배기팬, dtype: float64"
      ]
     },
     "execution_count": 111,
     "metadata": {},
     "output_type": "execute_result"
    }
   ],
   "source": [
    "smart_farm_df[\"배기팬\"].describe()\n",
    "# 범주형 변수"
   ]
  },
  {
   "cell_type": "markdown",
   "id": "57f7cc52",
   "metadata": {},
   "source": [
    "value_counts()를 통한 데이터 종류 확인"
   ]
  },
  {
   "cell_type": "code",
   "execution_count": 112,
   "id": "6c281a31",
   "metadata": {},
   "outputs": [
    {
     "data": {
      "text/plain": [
       "0.0    101554\n",
       "1.0      9354\n",
       "Name: 배기팬, dtype: int64"
      ]
     },
     "execution_count": 112,
     "metadata": {},
     "output_type": "execute_result"
    }
   ],
   "source": [
    "smart_farm_df[\"배기팬\"].value_counts()"
   ]
  },
  {
   "cell_type": "markdown",
   "id": "0c86e9d5",
   "metadata": {},
   "source": [
    "#### 연속형 변수"
   ]
  },
  {
   "cell_type": "code",
   "execution_count": 113,
   "id": "c034b0f2",
   "metadata": {},
   "outputs": [
    {
     "data": {
      "text/plain": [
       "count    110920.000000\n",
       "mean         28.356400\n",
       "std           1.071106\n",
       "min          27.000000\n",
       "25%          28.000000\n",
       "50%          28.000000\n",
       "75%          30.000000\n",
       "max          30.000000\n",
       "Name: 환기온도(천창 제어온도), dtype: float64"
      ]
     },
     "execution_count": 113,
     "metadata": {},
     "output_type": "execute_result"
    }
   ],
   "source": [
    "smart_farm_df[\"환기온도(천창 제어온도)\"].describe()"
   ]
  },
  {
   "cell_type": "code",
   "execution_count": 114,
   "id": "bcacb927",
   "metadata": {
    "scrolled": true
   },
   "outputs": [
    {
     "data": {
      "text/plain": [
       "28.0    59352\n",
       "30.0    29981\n",
       "27.0    20663\n",
       "27.1       56\n",
       "27.9       55\n",
       "27.8       53\n",
       "27.2       53\n",
       "27.6       52\n",
       "27.4       51\n",
       "27.5       50\n",
       "27.3       47\n",
       "27.7       45\n",
       "28.4       29\n",
       "28.7       28\n",
       "29.7       27\n",
       "29.5       26\n",
       "29.8       26\n",
       "29.2       26\n",
       "28.1       25\n",
       "28.2       25\n",
       "29.1       25\n",
       "29.4       24\n",
       "29.9       24\n",
       "28.5       23\n",
       "29.6       23\n",
       "28.8       23\n",
       "28.6       22\n",
       "29.0       22\n",
       "28.9       22\n",
       "29.3       22\n",
       "28.3       20\n",
       "Name: 환기온도(천창 제어온도), dtype: int64"
      ]
     },
     "execution_count": 114,
     "metadata": {},
     "output_type": "execute_result"
    }
   ],
   "source": [
    "smart_farm_df[\"환기온도(천창 제어온도)\"].value_counts()"
   ]
  },
  {
   "cell_type": "markdown",
   "id": "9930776a",
   "metadata": {},
   "source": [
    "Violinplot으로 전체 기간에 대한 값 확인\n",
    "- 연속형 변수에 대한 전체적인 분포 확인\n",
    "- 연속형 변수의 밀도 확인"
   ]
  },
  {
   "cell_type": "code",
   "execution_count": 115,
   "id": "0b072978",
   "metadata": {},
   "outputs": [
    {
     "data": {
      "image/png": "[encoded data removed]",
      "text/plain": [
       "<Figure size 720x288 with 2 Axes>"
      ]
     },
     "metadata": {
      "needs_background": "light"
     },
     "output_type": "display_data"
    }
   ],
   "source": [
    "plt.rcParams['font.size'] = 12\n",
    "\n",
    "fig,ax = plt.subplots(1,2,figsize=(10,4))\n",
    "\n",
    "sns.violinplot(y='환기온도(천창 제어온도)', data = smart_farm_df,ax=ax[0]) # y로 데이터 컬럼 지정\n",
    "sns.violinplot(y='난방온도(설정온도)', data = smart_farm_df,ax=ax[1]) # y로 데이터 컬럼 지정\n",
    "plt.show()"
   ]
  },
  {
   "cell_type": "markdown",
   "id": "2d0ddaba",
   "metadata": {},
   "source": [
    "Boxplot으로 전체 기간에 대한 값 확인\n",
    "- 어떤 구간에 주로 값들이 분포하는지 확인\n",
    "- 선을 통해 최대 최소 확인"
   ]
  },
  {
   "cell_type": "code",
   "execution_count": 117,
   "id": "fa2d3184",
   "metadata": {},
   "outputs": [
    {
     "data": {
      "image/png": "[encoded data removed]",
      "text/plain": [
       "<Figure size 720x288 with 2 Axes>"
      ]
     },
     "metadata": {
      "needs_background": "light"
     },
     "output_type": "display_data"
    }
   ],
   "source": [
    "plt.rcParams['font.size'] = 12\n",
    "\n",
    "fig,ax = plt.subplots(1,2,figsize=(10,4))\n",
    "\n",
    "sns.boxplot(y='환기온도(천창 제어온도)', data = smart_farm_df,ax=ax[0]) # y로 데이터 컬럼 지정\n",
    "sns.boxplot(y='난방온도(설정온도)', data = smart_farm_df,ax=ax[1]) # y로 데이터 컬럼 지정\n",
    "plt.show()"
   ]
  },
  {
   "cell_type": "markdown",
   "id": "8cfc5c60",
   "metadata": {},
   "source": [
    "#### Violinplot과 Boxplot 분포 확인하기 심화\n",
    "- 단순히 컬럼 하나의 데이터 분포만 보는 것이 아니라 구분되는 축을 하나 더 추가하는 것\n",
    "- ex) 월별 환기온도 분포\n",
    "- 월별로 환기온도 분포 차이가 없다는 결론에 이르름"
   ]
  },
  {
   "cell_type": "code",
   "execution_count": 119,
   "id": "64bec3ff",
   "metadata": {
    "scrolled": false
   },
   "outputs": [
    {
     "data": {
      "image/png": "[encoded data removed]",
      "text/plain": [
       "<Figure size 432x216 with 1 Axes>"
      ]
     },
     "metadata": {
      "needs_background": "light"
     },
     "output_type": "display_data"
    },
    {
     "data": {
      "image/png": "[encoded data removed]",
      "text/plain": [
       "<Figure size 432x216 with 1 Axes>"
      ]
     },
     "metadata": {
      "needs_background": "light"
     },
     "output_type": "display_data"
    }
   ],
   "source": [
    "for col in ['환기온도(천창 제어온도)', '난방온도(설정온도)']:\n",
    "    \n",
    "    plt.rcParams['font.size'] = 12\n",
    "\n",
    "    fig,ax = plt.subplots(figsize=(6,3))\n",
    "    sns.violinplot(x=\"월\",y= col, data = smart_farm_df)\n",
    "    plt.title(\"월별 \"+col+\" plot\")"
   ]
  },
  {
   "cell_type": "code",
   "execution_count": 120,
   "id": "ad16cdd0",
   "metadata": {},
   "outputs": [
    {
     "data": {
      "image/png": "[encoded data removed]",
      "text/plain": [
       "<Figure size 432x216 with 1 Axes>"
      ]
     },
     "metadata": {
      "needs_background": "light"
     },
     "output_type": "display_data"
    },
    {
     "data": {
      "image/png": "[encoded data removed]",
      "text/plain": [
       "<Figure size 432x216 with 1 Axes>"
      ]
     },
     "metadata": {
      "needs_background": "light"
     },
     "output_type": "display_data"
    }
   ],
   "source": [
    "for col in ['환기온도(천창 제어온도)', '난방온도(설정온도)']:\n",
    "    \n",
    "    plt.rcParams['font.size'] = 12\n",
    "\n",
    "    fig,ax = plt.subplots(figsize=(6,3))\n",
    "    sns.boxplot(x=\"월\",y= col, data = smart_farm_df)\n",
    "    plt.title(\"월별 \"+col+\" plot\")"
   ]
  },
  {
   "cell_type": "markdown",
   "id": "8f812532",
   "metadata": {},
   "source": [
    "### 3) y값 추가 확인\n",
    "- 월별, 시간대별 열공급량의 분포 재확인"
   ]
  },
  {
   "cell_type": "markdown",
   "id": "456fd525",
   "metadata": {},
   "source": [
    "월별로는 큰 차이가 없어보임"
   ]
  },
  {
   "cell_type": "code",
   "execution_count": 123,
   "id": "a75078f8",
   "metadata": {},
   "outputs": [
    {
     "data": {
      "text/plain": [
       "Text(0.5, 1.0, '월별 열공급량 분포')"
      ]
     },
     "execution_count": 123,
     "metadata": {},
     "output_type": "execute_result"
    },
    {
     "data": {
      "image/png": "[encoded data removed]",
      "text/plain": [
       "<Figure size 720x360 with 1 Axes>"
      ]
     },
     "metadata": {
      "needs_background": "light"
     },
     "output_type": "display_data"
    }
   ],
   "source": [
    "plt.rcParams['font.size'] = 12\n",
    "\n",
    "fig,ax = plt.subplots(figsize=(10,5))\n",
    "sns.boxplot(x=\"월\",y= \"열공급량(kWh)\", data = smart_farm_df)\n",
    "plt.title(\"월별 열공급량 분포\")"
   ]
  },
  {
   "cell_type": "markdown",
   "id": "56bffd18",
   "metadata": {},
   "source": [
    "시간대별로 차이는 명확해보인다\n",
    "- 주로 낮 시간대에 열공급량이 적어지는 것으로 보임 -> 일사량 관련 변수를 도입해볼까?\n",
    "- EDA를 통한 데이터 분포 파악 및 모델링 아이디어"
   ]
  },
  {
   "cell_type": "code",
   "execution_count": 129,
   "id": "639dd465",
   "metadata": {},
   "outputs": [
    {
     "data": {
      "text/plain": [
       "Text(0.5, 1.0, '시간대별 열공급량 분포')"
      ]
     },
     "execution_count": 129,
     "metadata": {},
     "output_type": "execute_result"
    },
    {
     "data": {
      "image/png": "[encoded data removed]",
      "text/plain": [
       "<Figure size 1152x576 with 1 Axes>"
      ]
     },
     "metadata": {
      "needs_background": "light"
     },
     "output_type": "display_data"
    }
   ],
   "source": [
    "plt.rcParams['font.size'] = 12\n",
    "\n",
    "fig,ax = plt.subplots(figsize=(16,8))\n",
    "sns.violinplot(x=\"시\",y= \"열공급량(kWh)\", data = smart_farm_df)\n",
    "plt.title(\"시간대별 열공급량 분포\")"
   ]
  }
 ],
 "metadata": {
  "kernelspec": {
   "display_name": "Python 3",
   "language": "python",
   "name": "python3"
  },
  "language_info": {
   "codemirror_mode": {
    "name": "ipython",
    "version": 3
   },
   "file_extension": ".py",
   "mimetype": "text/x-python",
   "name": "python",
   "nbconvert_exporter": "python",
   "pygments_lexer": "ipython3",
   "version": "3.8.8"
  }
 },
 "nbformat": 4,
 "nbformat_minor": 5
}
