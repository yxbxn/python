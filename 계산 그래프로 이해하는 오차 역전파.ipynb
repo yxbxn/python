{
 "cells": [
  {
   "cell_type": "markdown",
   "id": "67ee4254",
   "metadata": {},
   "source": [
    "# 계층 구현하기\n",
    "- 오차역전파를 계산 그래프로 이해하였다\n",
    "- 신경망에서 계층이라는 것은 하나의 기능 단위로, 신경망에서 각각 하나의 클래스로 구현하기에\n",
    "- 계산 그래프의 덧셈노드, 곱셈노드를 계층 단위로, 각각 하나의 클래스로 구현한다"
   ]
  },
  {
   "cell_type": "markdown",
   "id": "9c1d6805",
   "metadata": {},
   "source": [
    "## 곱셈 계층"
   ]
  },
  {
   "cell_type": "code",
   "execution_count": 9,
   "id": "ab8d0387",
   "metadata": {},
   "outputs": [],
   "source": [
    "class MulLayer:\n",
    "    def __init__ (self):\n",
    "        self.x = None\n",
    "        self.y = None\n",
    "        \n",
    "    def forward(self,x,y):\n",
    "        self.x = x\n",
    "        self.y = y\n",
    "        out = x*y\n",
    "        return out\n",
    "    \n",
    "    def backward(self,dout):\n",
    "        dx = dout * self.y # x 와 y를 바꿔서 dx를 구한다\n",
    "        dy = dout * self.x\n",
    "        return dx,dy"
   ]
  },
  {
   "cell_type": "markdown",
   "id": "c1171900",
   "metadata": {},
   "source": [
    "계산 그래프\n",
    "- 문제 : 100원짜리 사과를 2개 샀는데 소비세 10%가 붙는 문제"
   ]
  },
  {
   "cell_type": "code",
   "execution_count": 13,
   "id": "581a6524",
   "metadata": {},
   "outputs": [
    {
     "name": "stdout",
     "output_type": "stream",
     "text": [
      "220\n"
     ]
    }
   ],
   "source": [
    "apple = 100 ; apple_num = 2 ; tax = 1.1\n",
    "mul_apple_layer = MulLayer() # 개수에 따른 총액이 계산되는 곱셈노드\n",
    "mul_tax_layer = MulLayer() # 소비세와 최종금액이 계산되는 곱셈노드\n",
    "\n",
    "# 순전파\n",
    "apple_price = mul_apple_layer.forward(apple,apple_num)\n",
    "price = mul_tax_layer.forward(apple_price,tax)\n",
    "\n",
    "print(int(price))"
   ]
  },
  {
   "cell_type": "code",
   "execution_count": 11,
   "id": "31d8ffb3",
   "metadata": {},
   "outputs": [
    {
     "name": "stdout",
     "output_type": "stream",
     "text": [
      "사과가격에 대한 전체가격 변화량 1.1\n",
      "소비세에 대한 전체가격 변화량 200\n",
      "사과값에 대한 전체가격 변화량 2.2\n",
      "사과개수에 대한 전체가격 변화량 110.00000000000001\n"
     ]
    }
   ],
   "source": [
    "# 역전파\n",
    "dprice = 1 # 미분값 입력신호가 1\n",
    "d_apple_price,dtax = mul_tax_layer.backward(dprice)\n",
    "d_apple,d_apple_num = mul_apple_layer.backward(d_apple_price)\n",
    "\n",
    "print(\"사과가격에 대한 총액 변화량\",d_apple_price)\n",
    "print(\"소비세에 대한 총액 변화량\",dtax)\n",
    "print(\"사과값에 대한 총액 변화량\",d_apple)\n",
    "print(\"사과개수에 대한 총액 변화량\",d_apple_num)"
   ]
  },
  {
   "cell_type": "markdown",
   "id": "ec496bb0",
   "metadata": {},
   "source": [
    "## 덧셈 계층"
   ]
  },
  {
   "cell_type": "code",
   "execution_count": 12,
   "id": "8955ab4f",
   "metadata": {},
   "outputs": [],
   "source": [
    "class AddLayer:\n",
    "    def __init__(self):\n",
    "        self.x = None\n",
    "        self.y = None\n",
    "        \n",
    "    def forward(self,x,y):\n",
    "        self.x = x\n",
    "        self.y = y\n",
    "        return x+y\n",
    "    \n",
    "    def backward(self,dout):\n",
    "        dy = dout * 1\n",
    "        dx = dout * 1\n",
    "        return dx,dy"
   ]
  },
  {
   "cell_type": "markdown",
   "id": "985e11cc",
   "metadata": {},
   "source": [
    "계산 그래프\n",
    "- 문제 : 100원짜리 사과를 2개와 150원짜리 귤 3개를 샀는데 소비세 10%가 붙는 문제"
   ]
  },
  {
   "cell_type": "code",
   "execution_count": 15,
   "id": "7d9a82e9",
   "metadata": {},
   "outputs": [
    {
     "name": "stdout",
     "output_type": "stream",
     "text": [
      "715\n"
     ]
    }
   ],
   "source": [
    "apple = 100 ; orange = 150 ; apple_num = 2 ; orange_num = 3 ; tax = 1.1\n",
    "\n",
    "mul_apple_layer = MulLayer()\n",
    "mul_orange_layer = MulLayer()\n",
    "mul_add_layer = AddLayer()\n",
    "mul_tax_layer = MulLayer() \n",
    "\n",
    "# 순전파\n",
    "apple_price = mul_apple_layer.forward(apple,apple_num) # 사과금액 구하기\n",
    "orange_price = mul_orange_layer.forward(orange,orange_num) # 오렌지금액 구하기\n",
    "\n",
    "add_price = mul_add_layer.forward(apple_price,orange_price) # 과일총액 = 사과금액 + 오렌지금액\n",
    "\n",
    "price = mul_tax_layer.forward(add_price,tax) # 총액 = 과일총액 * 소비세\n",
    "print(int(price))"
   ]
  },
  {
   "cell_type": "code",
   "execution_count": 17,
   "id": "eb4fafda",
   "metadata": {},
   "outputs": [
    {
     "name": "stdout",
     "output_type": "stream",
     "text": [
      "사과가격에 대한 총액 변화량 1.1\n",
      "사과값에 대한 총액 변화량 2.2\n",
      "사과개수에 대한 총액 변화량 110.00000000000001\n",
      "오렌지가격에 대한 총액 변화량 1.1\n",
      "오렌지값에 대한 총액 변화량 3.3000000000000003\n",
      "오렌지개수에 대한 총액 변화량 165.0\n",
      "소비세에 대한 총액 변화량 650\n"
     ]
    }
   ],
   "source": [
    "# 역전파\n",
    "\n",
    "dprice = 1 \n",
    "\n",
    "d_add_price, dtax = mul_tax_layer.backward(dprice) # 곱셈노드 역전파\n",
    "d_apple_price, d_orange_price = mul_add_layer.backward(d_add_price) # 덧셈노드 역전파 그대로 흘러나감\n",
    "\n",
    "d_apple, d_apple_num = mul_apple_layer.backward(d_apple_price) # 곱셈노드 역전파\n",
    "d_orange,d_orange_num = mul_orange_layer.backward(d_orange_price) # 곱셈노드 역전파\n",
    "\n",
    "print(\"사과가격에 대한 총액 변화량\",d_apple_price)\n",
    "print(\"사과값에 대한 총액 변화량\",d_apple)\n",
    "print(\"사과개수에 대한 총액 변화량\",d_apple_num)\n",
    "\n",
    "print(\"오렌지가격에 대한 총액 변화량\",d_orange_price)\n",
    "print(\"오렌지값에 대한 총액 변화량\",d_orange)\n",
    "print(\"오렌지개수에 대한 총액 변화량\",d_orange_num)\n",
    "\n",
    "print(\"소비세에 대한 총액 변화량\",dtax)"
   ]
  },
  {
   "cell_type": "code",
   "execution_count": null,
   "id": "0bd6ac3b",
   "metadata": {},
   "outputs": [],
   "source": []
  }
 ],
 "metadata": {
  "kernelspec": {
   "display_name": "Python 3",
   "language": "python",
   "name": "python3"
  },
  "language_info": {
   "codemirror_mode": {
    "name": "ipython",
    "version": 3
   },
   "file_extension": ".py",
   "mimetype": "text/x-python",
   "name": "python",
   "nbconvert_exporter": "python",
   "pygments_lexer": "ipython3",
   "version": "3.8.8"
  }
 },
 "nbformat": 4,
 "nbformat_minor": 5
}
